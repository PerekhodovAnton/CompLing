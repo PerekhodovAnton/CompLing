{
  "cells": [
    {
      "cell_type": "markdown",
      "metadata": {
        "id": "MeLEcomZqKav"
      },
      "source": [
        "Задание 1\n",
        "\n",
        "Имплементируйте алгоритм Леска (описание есть в семинаре) и оцените качество его работы на датасете data/corpus_wsd_50k.txt\n",
        "\n",
        "В качестве метрики близости вы должны попробовать два подхода:\n",
        "\n",
        "Jaccard score на множествах слов (определений и контекста)"
      ]
    },
    {
      "cell_type": "code",
      "execution_count": 5,
      "metadata": {
        "id": "nze7xp-IK-V3",
        "colab": {
          "base_uri": "https://localhost:8080/"
        },
        "outputId": "615734bd-0743-44c3-e91f-7f1db28815b2"
      },
      "outputs": [
        {
          "output_type": "stream",
          "name": "stderr",
          "text": [
            "[nltk_data] Downloading package wordnet to /root/nltk_data...\n"
          ]
        },
        {
          "output_type": "execute_result",
          "data": {
            "text/plain": [
              "True"
            ]
          },
          "metadata": {},
          "execution_count": 5
        }
      ],
      "source": [
        "import nltk\n",
        "from nltk.corpus import wordnet as wn\n",
        "nltk.download('wordnet')\n"
      ]
    },
    {
      "cell_type": "code",
      "execution_count": 6,
      "metadata": {
        "id": "wYNQrdxtLBMe"
      },
      "outputs": [],
      "source": [
        "corpus_wsd = []\n",
        "corpus = open('/content/corpus_wsd_50k.txt').read().split('\\n\\n')\n",
        "for sent in corpus:\n",
        "    corpus_wsd.append([s.split('\\t') for s in sent.split('\\n')])"
      ]
    },
    {
      "cell_type": "code",
      "execution_count": 7,
      "metadata": {
        "id": "tCJip7DwLHcM",
        "colab": {
          "base_uri": "https://localhost:8080/"
        },
        "outputId": "b197d29f-c8ba-4631-c2f1-afa5a61a367b"
      },
      "outputs": [
        {
          "output_type": "execute_result",
          "data": {
            "text/plain": [
              "['a motor vehicle with four wheels; usually propelled by an internal combustion engine',\n",
              " 'travel in an automobile',\n",
              " 'any mechanical or electrical device that transmits or modifies energy to perform or assist in the performance of human tasks',\n",
              " 'an efficient person',\n",
              " 'an intricate organization that accomplishes its goals efficiently',\n",
              " 'a device for overcoming resistance at one point by applying force at some other point',\n",
              " 'a group that controls the activities of a political party',\n",
              " 'turn, shape, mold, or otherwise finish by machinery',\n",
              " 'make by machinery',\n",
              " 'a wheeled vehicle adapted to the rails of railroad',\n",
              " 'a low flat-bottomed freight car with fixed sides but no roof',\n",
              " 'long narrow flat-bottomed boat propelled by sculling; traditionally used on canals of Venice',\n",
              " 'the compartment that is suspended from an airship and that carries personnel and the cargo and the power plant',\n",
              " 'where passengers ride up and down',\n",
              " 'a conveyance for passengers or freight on a cable railway']"
            ]
          },
          "metadata": {},
          "execution_count": 7
        }
      ],
      "source": [
        "# находим все значения слова и все определения всех значений\n",
        "def meanings(word):\n",
        "    all_meanings = []\n",
        "    word_to_check = wn.synonyms(word)\n",
        "\n",
        "    for lists_of_synons in word_to_check:\n",
        "        for synoms in lists_of_synons:\n",
        "            for synset in wn.synsets(synoms):\n",
        "                definiton = synset.definition()\n",
        "                if definiton not in all_meanings:\n",
        "                    all_meanings.append(definiton)\n",
        "\n",
        "    return all_meanings\n",
        "\n",
        "meanings('car')\n"
      ]
    },
    {
      "cell_type": "code",
      "execution_count": 8,
      "metadata": {
        "id": "rodTswEmLTst",
        "colab": {
          "base_uri": "https://localhost:8080/"
        },
        "outputId": "0de4faff-9336-46e5-8723-66a29d7ecdf1"
      },
      "outputs": [
        {
          "output_type": "execute_result",
          "data": {
            "text/plain": [
              "(['a motor vehicle with four wheels; usually propelled by an internal combustion engine',\n",
              "  'travel in an automobile',\n",
              "  'any mechanical or electrical device that transmits or modifies energy to perform or assist in the performance of human tasks',\n",
              "  'an efficient person',\n",
              "  'an intricate organization that accomplishes its goals efficiently',\n",
              "  'a device for overcoming resistance at one point by applying force at some other point',\n",
              "  'a group that controls the activities of a political party',\n",
              "  'turn, shape, mold, or otherwise finish by machinery',\n",
              "  'make by machinery',\n",
              "  'a wheeled vehicle adapted to the rails of railroad',\n",
              "  'a low flat-bottomed freight car with fixed sides but no roof',\n",
              "  'long narrow flat-bottomed boat propelled by sculling; traditionally used on canals of Venice',\n",
              "  'the compartment that is suspended from an airship and that carries personnel and the cargo and the power plant',\n",
              "  'where passengers ride up and down',\n",
              "  'a conveyance for passengers or freight on a cable railway'],\n",
              " 'primarily temporal sense; being or indicating a relatively great or greater than average duration or passage of time or a duration as specified')"
            ]
          },
          "metadata": {},
          "execution_count": 8
        }
      ],
      "source": [
        "# для удобства сделал функцию, чтобы выводить значения и определния значений, вторым вывожу определение для wn\n",
        "def definitions(word, wn_mean):\n",
        "\n",
        "    definitions = meanings(word)\n",
        "    wn_true = wn.lemma_from_key(wn_mean).synset().definition()\n",
        "\n",
        "    return definitions, wn_true\n",
        "\n",
        "definitions('car', 'long%3:00:02::')\n"
      ]
    },
    {
      "cell_type": "code",
      "execution_count": 9,
      "metadata": {
        "id": "5qGKYULqLVwz",
        "colab": {
          "base_uri": "https://localhost:8080/"
        },
        "outputId": "8338e73b-c3c9-4662-d9b9-38a0fb28b7f9"
      },
      "outputs": [
        {
          "output_type": "stream",
          "name": "stdout",
          "text": [
            "total_right: 365391, total_sentences: 18678216, accuracy для всех определений всех значений: 1.96%\n"
          ]
        }
      ],
      "source": [
        "# считаем JACCARD для датасета\n",
        "total_right = 0\n",
        "total_sentences = 0\n",
        "\n",
        "for sentences in corpus_wsd:\n",
        "\n",
        "    sentence = ''\n",
        "\n",
        "    for words in sentences:\n",
        "        try:\n",
        "            sentence = sentence + words[2] + ' '\n",
        "        except:\n",
        "            pass\n",
        "\n",
        "    for words in sentences:\n",
        "\n",
        "        if '' not in words:\n",
        "\n",
        "            defs = definitions(words[2], words[0])\n",
        "            sentence_without_target = sentence.replace(words[2], '_')\n",
        "\n",
        "            for d in defs[0]:\n",
        "                # подсчет JACCARD\n",
        "\n",
        "                intersection1 = (set(d.split()) & set(sentence_without_target.split()))\n",
        "                union1 = (set(d.split()) | set(sentence_without_target.split()))\n",
        "                jaccard1 =  len(intersection1) / len(union1)\n",
        "\n",
        "                intersection2 = (set(defs[1].split()) & set(sentence_without_target.split()))\n",
        "                union2 = (set(defs[1].split()) | set(sentence_without_target.split()))\n",
        "                jaccard2 =  len(intersection2) / len(union2)\n",
        "\n",
        "                if sentence_without_target:\n",
        "                  total_sentences += 1\n",
        "                if jaccard1 != 0.0 and jaccard1 == jaccard2:\n",
        "                    total_right += 1\n",
        "\n",
        "                # print(f\" \\n target_word: {words[2]} \\n target_sent: {sentence_without_target}  \\n definition_synset: {d}  \\n definition_wn: {defs[1]} \\n jaccard_synset: {jaccard1} \\n jaccard_wn: {jaccard2}\")\n",
        "\n",
        "# total sentences включают в себя все итеррации по всем существующим значениям для слова.\n",
        "# Я решил считать так, чтобы понять сколько всего мы проходим и отбрасываем для нахождения правильного варианта\n",
        "# Предполагаю, что это не совсем то, что надо было найти, но так мы поймем каков шанс на то, что среди всех значений будет подходящее, это может быть полезно, наверное...)\n",
        "\n",
        "result = round(total_right/total_sentences * 100, 2)\n",
        "print(f\"total_right: {total_right}, total_sentences: {total_sentences}, accuracy для всех определений всех значений: {result}%\")\n",
        "\n"
      ]
    },
    {
      "cell_type": "markdown",
      "metadata": {
        "id": "CyOFBEgnqN8v"
      },
      "source": [
        "Задание 1\n",
        "\n",
        "Cosine distance на эмбедингах sentence_transformers"
      ]
    },
    {
      "cell_type": "code",
      "execution_count": null,
      "metadata": {
        "id": "_p_If1DIhMNy"
      },
      "outputs": [],
      "source": [
        "!python -m pip install torch torchvision torchaudio\n",
        "!python -m pip install sentence_transformers transformers accelerate -U"
      ]
    },
    {
      "cell_type": "code",
      "execution_count": 11,
      "metadata": {
        "id": "paVnaXhfLzPT"
      },
      "outputs": [],
      "source": [
        "from sklearn.metrics.pairwise import cosine_distances, cosine_similarity\n",
        "from sentence_transformers import SentenceTransformer"
      ]
    },
    {
      "cell_type": "code",
      "execution_count": null,
      "metadata": {
        "id": "fd4EbmBsiODb"
      },
      "outputs": [],
      "source": [
        "# embedding model\n",
        "model = SentenceTransformer('sentence-transformers/all-mpnet-base-v2')\n",
        "embed = model.encode"
      ]
    },
    {
      "cell_type": "code",
      "execution_count": null,
      "metadata": {
        "id": "blW0oVlOiQtx"
      },
      "outputs": [],
      "source": [
        "# считаем косинус для датасета\n",
        "total_right = 0\n",
        "total_sentences = 0\n",
        "\n",
        "for sentences in corpus_wsd[0]:\n",
        "\n",
        "    sentence = ''\n",
        "\n",
        "    for words in sentences:\n",
        "        try:\n",
        "            sentence = sentence + words[2] + ' '\n",
        "        except:\n",
        "            pass\n",
        "\n",
        "    for words in sentences:\n",
        "\n",
        "        if '' not in words:\n",
        "\n",
        "            defs = definitions(words[2], words[0])\n",
        "            # print(words[2], defs)\n",
        "            sentence_without_target = sentence.replace(words[2], '_')\n",
        "            context_emb = embed(sentence_without_target)\n",
        "\n",
        "        for d in defs[0]:\n",
        "\n",
        "            # подсчет косинус\n",
        "            d_syn = embed(d)\n",
        "            d_wn = embed(defs[1])\n",
        "\n",
        "\n",
        "            distance_d_syn = cosine_distances(context_emb.reshape(1, -1), d_syn.reshape(1, -1))\n",
        "            distance_d_wn = cosine_distances(context_emb.reshape(1, -1), d_wn.reshape(1, -1))\n",
        "            sim = cosine_similarity(context_emb.reshape(1, -1), [d_syn, d_wn])\n",
        "\n",
        "            if cosine_similarity:\n",
        "                total_sentences += 1\n",
        "            if sim[0][0] == sim[0][1]:\n",
        "                total_right += 1\n",
        "\n",
        "            # print(f\"distance_d_syn: {distance_d_syn} \\n distance_d_wn: {distance_d_wn} \\n sim: {sim}\")\n",
        "result = round(total_right/total_sentences * 100, 2)\n",
        "\n",
        "# Из-за того, что определений значений очень много выполнение невероятно долгое..\n",
        "# Подскажите, пожалуйста, может быть надо переделать алгоритм и все же проходить не по всем определниям всех слов?\n",
        "\n",
        "print(f\"total_right: {total_right}, total_sentences: {total_sentences}, accuracy для всех определений всех значений: {result}%\")"
      ]
    }
  ],
  "metadata": {
    "colab": {
      "provenance": [],
      "gpuType": "T4"
    },
    "kernelspec": {
      "display_name": "Python 3",
      "name": "python3"
    },
    "language_info": {
      "name": "python"
    },
    "accelerator": "GPU"
  },
  "nbformat": 4,
  "nbformat_minor": 0
}
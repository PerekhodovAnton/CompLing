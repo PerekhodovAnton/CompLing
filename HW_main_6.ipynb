{
  "cells": [
    {
      "cell_type": "markdown",
      "id": "a98604cb",
      "metadata": {
        "id": "a98604cb"
      },
      "source": [
        "Домашку будет легче делать в колабе (убедитесь, что у вас runtype с gpu)."
      ]
    },
    {
      "cell_type": "markdown",
      "id": "9c422aa0",
      "metadata": {
        "id": "9c422aa0"
      },
      "source": [
        "# Задание 1 (3 балла)"
      ]
    },
    {
      "cell_type": "markdown",
      "id": "e4a72790",
      "metadata": {
        "id": "e4a72790"
      },
      "source": [
        "Обучите word2vec модели с негативным семплированием (cbow и skip-gram) с помощью tensorflow аналогично тому, как это было сделано в семинаре. Вам нужно изменить следующие пункты:\n",
        "1) добавьте лемматизацию в предобработку (любым способом)  \n",
        "2) измените размер окна в большую или меньшую сторону\n",
        "3) измените размерность итоговых векторов\n",
        "\n",
        "Выберете несколько не похожих по смыслу слов (не таких как в семинаре), и протестируйте полученные эмбединги (найдите ближайшие слова и оцените качество, как в семинаре).\n",
        "Постарайтесь обучать модели как можно дольше и на как можно большем количестве данных. (Но если у вас мало времени или ресурсов, то допустимо взять поменьше данных и поставить меньше эпох)"
      ]
    },
    {
      "cell_type": "code",
      "source": [
        "pip install pymystem3"
      ],
      "metadata": {
        "id": "Yamh3Q1IjaFJ",
        "colab": {
          "base_uri": "https://localhost:8080/"
        },
        "outputId": "d2240d04-ac07-4329-878c-589baa2b4e14"
      },
      "id": "Yamh3Q1IjaFJ",
      "execution_count": 1,
      "outputs": [
        {
          "output_type": "stream",
          "name": "stdout",
          "text": [
            "Requirement already satisfied: pymystem3 in /usr/local/lib/python3.10/dist-packages (0.2.0)\n",
            "Requirement already satisfied: requests in /usr/local/lib/python3.10/dist-packages (from pymystem3) (2.31.0)\n",
            "Requirement already satisfied: charset-normalizer<4,>=2 in /usr/local/lib/python3.10/dist-packages (from requests->pymystem3) (3.3.2)\n",
            "Requirement already satisfied: idna<4,>=2.5 in /usr/local/lib/python3.10/dist-packages (from requests->pymystem3) (3.6)\n",
            "Requirement already satisfied: urllib3<3,>=1.21.1 in /usr/local/lib/python3.10/dist-packages (from requests->pymystem3) (2.0.7)\n",
            "Requirement already satisfied: certifi>=2017.4.17 in /usr/local/lib/python3.10/dist-packages (from requests->pymystem3) (2023.11.17)\n"
          ]
        }
      ]
    },
    {
      "cell_type": "code",
      "execution_count": 2,
      "id": "cde5fd96",
      "metadata": {
        "id": "cde5fd96"
      },
      "outputs": [],
      "source": [
        "import tensorflow as tf\n",
        "import numpy as np\n",
        "import pandas as pd\n",
        "from string import punctuation\n",
        "from sklearn.model_selection import train_test_split\n",
        "from collections import Counter\n",
        "import matplotlib.pyplot as plt\n",
        "from sklearn.decomposition import TruncatedSVD\n",
        "from sklearn.feature_extraction.text import CountVectorizer\n",
        "from sklearn.metrics.pairwise import cosine_distances\n",
        "\n",
        "from IPython.display import Image\n",
        "from IPython.core.display import HTML\n",
        "import re\n",
        "%matplotlib inline"
      ]
    },
    {
      "cell_type": "code",
      "source": [
        "# additional libraries\n",
        "from pymystem3 import Mystem\n",
        "m = Mystem()"
      ],
      "metadata": {
        "id": "ZlvQ4P0gjZha"
      },
      "id": "ZlvQ4P0gjZha",
      "execution_count": 33,
      "outputs": []
    },
    {
      "cell_type": "code",
      "source": [
        "from google.colab import drive\n",
        "drive.mount('/content/drive')"
      ],
      "metadata": {
        "id": "hUdMOv7qorWD",
        "colab": {
          "base_uri": "https://localhost:8080/"
        },
        "outputId": "eae9ecaf-e8bc-4eb8-c7ec-52a735ab37ad"
      },
      "id": "hUdMOv7qorWD",
      "execution_count": 34,
      "outputs": [
        {
          "output_type": "stream",
          "name": "stdout",
          "text": [
            "Drive already mounted at /content/drive; to attempt to forcibly remount, call drive.mount(\"/content/drive\", force_remount=True).\n"
          ]
        }
      ]
    },
    {
      "cell_type": "code",
      "source": [
        "wiki = open('/content/drive/MyDrive/wiki_data.txt').read().split('\\n')"
      ],
      "metadata": {
        "id": "kCSK4uXP5rQL"
      },
      "id": "kCSK4uXP5rQL",
      "execution_count": 35,
      "outputs": []
    },
    {
      "cell_type": "code",
      "source": [
        "# здесь добавлена лемматизация\n",
        "def preprocess(text):\n",
        "    lemmed = ''.join(m.lemmatize(text))\n",
        "    tokens = re.sub('#+', ' ', text.lower()).split()\n",
        "    tokens = [token.strip(punctuation) for token in tokens]\n",
        "    return tokens"
      ],
      "metadata": {
        "id": "qldHcFMIo-XH"
      },
      "id": "qldHcFMIo-XH",
      "execution_count": 36,
      "outputs": []
    },
    {
      "cell_type": "code",
      "source": [
        "vocab = Counter()\n",
        "\n",
        "for text in wiki:\n",
        "    vocab.update(preprocess(text))"
      ],
      "metadata": {
        "id": "zEj4ykotp5tj"
      },
      "id": "zEj4ykotp5tj",
      "execution_count": 37,
      "outputs": []
    },
    {
      "cell_type": "code",
      "source": [
        "filtered_vocab = set()\n",
        "\n",
        "for word in vocab:\n",
        "    if vocab[word] > 30:\n",
        "        filtered_vocab.add(word)\n",
        "\n",
        "word2id = {'PAD':0}\n",
        "\n",
        "for word in filtered_vocab:\n",
        "    word2id[word] = len(word2id)\n",
        "\n",
        "id2word = {i:word for word, i in word2id.items()}"
      ],
      "metadata": {
        "id": "vyUOkgeD3a6k"
      },
      "id": "vyUOkgeD3a6k",
      "execution_count": 38,
      "outputs": []
    },
    {
      "cell_type": "code",
      "source": [
        "sentences = []\n",
        "\n",
        "for text in wiki:\n",
        "    tokens = preprocess(text)\n",
        "    if not tokens:\n",
        "        continue\n",
        "    ids = [word2id[token] for token in tokens if token in word2id]\n",
        "    sentences.append(ids)"
      ],
      "metadata": {
        "id": "XkcDKc2X6UMT"
      },
      "id": "XkcDKc2X6UMT",
      "execution_count": 39,
      "outputs": []
    },
    {
      "cell_type": "code",
      "source": [
        "def most_similar(word, embeddings):\n",
        "    similar = [id2word[i] for i in\n",
        "               cosine_distances(embeddings[word2id[word]].reshape(1, -1), embeddings).argsort()[0][:10]]\n",
        "    return similar"
      ],
      "metadata": {
        "id": "EfTdDxrVM5-v"
      },
      "id": "EfTdDxrVM5-v",
      "execution_count": 40,
      "outputs": []
    },
    {
      "cell_type": "code",
      "source": [
        "vocab_size = len(id2word)"
      ],
      "metadata": {
        "id": "46AvhSMVRZKo"
      },
      "id": "46AvhSMVRZKo",
      "execution_count": 41,
      "outputs": []
    },
    {
      "cell_type": "markdown",
      "source": [
        "# ОБУЧЕНИЕ С Negative sampling\n"
      ],
      "metadata": {
        "id": "QlToorf-RT0F"
      },
      "id": "QlToorf-RT0F"
    },
    {
      "cell_type": "code",
      "source": [
        "# skip gram\n",
        "def gen_batches_sg(sentences, window = 7, batch_size=1000):\n",
        "\n",
        "    # параметр window задает его целиком\n",
        "    # нам нужно поделить его пополам на левую и правую часть\n",
        "    # когда делится неровно, то левая часть больше на 1\n",
        "    left_context_length = (window/2).__ceil__() # округлить в большую сторону\n",
        "    right_context_length = window // 2 # округлить в меньшую сторону\n",
        "\n",
        "    while True:\n",
        "        X_target = []\n",
        "        X_context = []\n",
        "        y = []\n",
        "\n",
        "        for sent in sentences:\n",
        "            for i in range(len(sent)-1):\n",
        "                word = sent[i]\n",
        "                context = sent[max(0, i-left_context_length):i] + sent[i+1:i+right_context_length]\n",
        "                for context_word in context:\n",
        "                    X_target.append(word)\n",
        "                    X_context.append(context_word)\n",
        "                    y.append(1)\n",
        "\n",
        "                    X_target.append(word)\n",
        "                    X_context.append(np.random.randint(vocab_size))\n",
        "                    y.append(0)\n",
        "\n",
        "                    if len(X_target) >= batch_size:\n",
        "                        X_target = np.array(X_target)\n",
        "                        X_context = np.array(X_context)\n",
        "                        y = np.array(y)\n",
        "                        yield ((X_target, X_context), y)\n",
        "                        X_target = []\n",
        "                        X_context = []\n",
        "                        y = []"
      ],
      "metadata": {
        "id": "L0OnnMBPU3wz"
      },
      "id": "L0OnnMBPU3wz",
      "execution_count": 42,
      "outputs": []
    },
    {
      "cell_type": "code",
      "source": [
        "# cbow\n",
        "def gen_batches_cbow(sentences, window = 7, batch_size=1000):\n",
        "\n",
        "    # параметр window задает его целиком\n",
        "    # нам нужно поделить его пополам на левую и правую часть\n",
        "    # когда делится неровно, то левая часть больше на 1\n",
        "    left_context_length = (window/2).__ceil__() # округлить в большую сторону\n",
        "    right_context_length = window // 2 # округлить в меньшую сторону\n",
        "\n",
        "    while True:\n",
        "        X_target = []\n",
        "        X_context = []\n",
        "        y = []\n",
        "\n",
        "        for sent in sentences:\n",
        "            for i in range(len(sent)-1):\n",
        "                word = sent[i]\n",
        "                context = sent[max(0, i-left_context_length):i] + sent[i+1:i+right_context_length]\n",
        "\n",
        "                X_target.append(word)\n",
        "                X_context.append(context)\n",
        "                y.append(1)\n",
        "\n",
        "                X_target.append(np.random.randint(vocab_size))\n",
        "                X_context.append(context)\n",
        "                y.append(0)\n",
        "\n",
        "                if len(X_target) == batch_size:\n",
        "                    X_target = np.array(X_target)\n",
        "                    X_context = tf.keras.preprocessing.sequence.pad_sequences(X_context, maxlen=window)\n",
        "                    y = np.array(y)\n",
        "                    yield ((X_target, X_context), y)\n",
        "                    X_target = []\n",
        "                    X_context = []\n",
        "                    y = []"
      ],
      "metadata": {
        "id": "_A1G9O9yU69K"
      },
      "id": "_A1G9O9yU69K",
      "execution_count": 43,
      "outputs": []
    },
    {
      "cell_type": "code",
      "source": [
        "inputs_target = tf.keras.layers.Input(shape=(1,))\n",
        "inputs_context = tf.keras.layers.Input(shape=(1,))\n",
        "\n",
        "\n",
        "embeddings_target = tf.keras.layers.Embedding(input_dim=len(word2id), output_dim=200)(inputs_target, )\n",
        "embeddings_context = tf.keras.layers.Embedding(input_dim=len(word2id), output_dim=200)(inputs_context, )\n",
        "\n",
        "target = tf.keras.layers.Flatten()(embeddings_target)\n",
        "context = tf.keras.layers.Flatten()(embeddings_context)\n",
        "\n",
        "dot = tf.keras.layers.Dot(1)([target, context])\n",
        "outputs = tf.keras.layers.Activation(activation='sigmoid')(dot)\n",
        "\n",
        "model = tf.keras.Model(inputs=[inputs_target, inputs_context],\n",
        "                       outputs=outputs)\n",
        "optimizer = tf.keras.optimizers.Adam(learning_rate=0.001)\n",
        "model.compile(optimizer=optimizer,\n",
        "              loss='binary_crossentropy',\n",
        "              metrics=['accuracy'])"
      ],
      "metadata": {
        "id": "raw_17kBVRF8"
      },
      "id": "raw_17kBVRF8",
      "execution_count": 44,
      "outputs": []
    },
    {
      "cell_type": "code",
      "source": [
        "model.fit(gen_batches_sg(sentences[:19000], window=5),\n",
        "          validation_data=gen_batches_sg(sentences[19000:],  window=5),\n",
        "          batch_size=1000,\n",
        "          steps_per_epoch=10000,\n",
        "          validation_steps=30,\n",
        "         epochs=7)"
      ],
      "metadata": {
        "colab": {
          "base_uri": "https://localhost:8080/"
        },
        "id": "oBgkC6Z7ZFhB",
        "outputId": "3ac05f30-20a4-449c-dba6-e9bb0b169526"
      },
      "id": "oBgkC6Z7ZFhB",
      "execution_count": 45,
      "outputs": [
        {
          "output_type": "stream",
          "name": "stdout",
          "text": [
            "Epoch 1/7\n",
            "10000/10000 [==============================] - 94s 9ms/step - loss: 0.4576 - accuracy: 0.7894 - val_loss: 0.4599 - val_accuracy: 0.7943\n",
            "Epoch 2/7\n",
            "10000/10000 [==============================] - 68s 7ms/step - loss: 0.4090 - accuracy: 0.8184 - val_loss: 0.4134 - val_accuracy: 0.8183\n",
            "Epoch 3/7\n",
            "10000/10000 [==============================] - 69s 7ms/step - loss: 0.3940 - accuracy: 0.8254 - val_loss: 0.3739 - val_accuracy: 0.8345\n",
            "Epoch 4/7\n",
            "10000/10000 [==============================] - 65s 7ms/step - loss: 0.3798 - accuracy: 0.8318 - val_loss: 0.3680 - val_accuracy: 0.8443\n",
            "Epoch 5/7\n",
            "10000/10000 [==============================] - 69s 7ms/step - loss: 0.3645 - accuracy: 0.8389 - val_loss: 0.3875 - val_accuracy: 0.8285\n",
            "Epoch 6/7\n",
            "10000/10000 [==============================] - 67s 7ms/step - loss: 0.3636 - accuracy: 0.8390 - val_loss: 0.3752 - val_accuracy: 0.8333\n",
            "Epoch 7/7\n",
            "10000/10000 [==============================] - 66s 7ms/step - loss: 0.3480 - accuracy: 0.8464 - val_loss: 0.3570 - val_accuracy: 0.8469\n"
          ]
        },
        {
          "output_type": "execute_result",
          "data": {
            "text/plain": [
              "<keras.src.callbacks.History at 0x78b1a71b4c10>"
            ]
          },
          "metadata": {},
          "execution_count": 45
        }
      ]
    },
    {
      "cell_type": "code",
      "source": [
        "SG_embeddings = model.layers[2].get_weights()[0]"
      ],
      "metadata": {
        "id": "1ztxhR-DZMQG"
      },
      "id": "1ztxhR-DZMQG",
      "execution_count": 46,
      "outputs": []
    },
    {
      "cell_type": "code",
      "source": [
        "print(model.history.history.keys())\n",
        "# summarize history for accuracy\n",
        "plt.plot(model.history.history['accuracy'])\n",
        "plt.plot(model.history.history['val_accuracy'])\n",
        "plt.title('model accuracy')\n",
        "plt.ylabel('accuracy')\n",
        "plt.xlabel('epoch')\n",
        "plt.legend(['train', 'val'], loc='upper left')\n",
        "plt.show()"
      ],
      "metadata": {
        "colab": {
          "base_uri": "https://localhost:8080/",
          "height": 489
        },
        "id": "PzT8TVNjP1j4",
        "outputId": "9bb5cef6-2e77-4d00-e6c3-8b1b1a57901a"
      },
      "id": "PzT8TVNjP1j4",
      "execution_count": 47,
      "outputs": [
        {
          "output_type": "stream",
          "name": "stdout",
          "text": [
            "dict_keys(['loss', 'accuracy', 'val_loss', 'val_accuracy'])\n"
          ]
        },
        {
          "output_type": "display_data",
          "data": {
            "text/plain": [
              "<Figure size 640x480 with 1 Axes>"
            ],
            "image/png": "[encoded data removed]"
          },
          "metadata": {}
        }
      ]
    },
    {
      "cell_type": "code",
      "source": [
        "most_similar('мама', SG_embeddings)"
      ],
      "metadata": {
        "colab": {
          "base_uri": "https://localhost:8080/"
        },
        "id": "GUrxt6avZNiZ",
        "outputId": "557b8aa6-f34c-4c70-a6f4-c00b3ddefd57"
      },
      "id": "GUrxt6avZNiZ",
      "execution_count": 49,
      "outputs": [
        {
          "output_type": "execute_result",
          "data": {
            "text/plain": [
              "['мама',\n",
              " 'девушка',\n",
              " 'молодая',\n",
              " 'сказала',\n",
              " 'моя',\n",
              " 'тебя',\n",
              " 'думает',\n",
              " 'ты',\n",
              " 'салли',\n",
              " 'дженнифер']"
            ]
          },
          "metadata": {},
          "execution_count": 49
        }
      ]
    },
    {
      "cell_type": "code",
      "source": [
        "most_similar('жизнь', SG_embeddings)"
      ],
      "metadata": {
        "colab": {
          "base_uri": "https://localhost:8080/"
        },
        "id": "0EtyZpHBZQSi",
        "outputId": "a64b90d3-d475-4236-f5b1-10581a96b5fd"
      },
      "id": "0EtyZpHBZQSi",
      "execution_count": 50,
      "outputs": [
        {
          "output_type": "execute_result",
          "data": {
            "text/plain": [
              "['жизнь',\n",
              " 'семью',\n",
              " 'моя',\n",
              " 'хотят',\n",
              " 'убивает',\n",
              " 'политику',\n",
              " 'знает',\n",
              " 'мне',\n",
              " 'уехать',\n",
              " 'самоубийством']"
            ]
          },
          "metadata": {},
          "execution_count": 50
        }
      ]
    },
    {
      "cell_type": "code",
      "source": [
        "inputs_target = tf.keras.layers.Input(shape=(1,))\n",
        "inputs_context = tf.keras.layers.Input(shape=(10,))\n",
        "\n",
        "\n",
        "embeddings_target = tf.keras.layers.Embedding(input_dim=len(word2id), output_dim=200)(inputs_target, )\n",
        "embeddings_context = tf.keras.layers.Embedding(input_dim=len(word2id), output_dim=200)(inputs_context, )\n",
        "\n",
        "target = tf.keras.layers.Flatten()(embeddings_target)\n",
        "context = tf.keras.layers.Lambda(lambda x: tf.keras.backend.sum(x, axis=1))(embeddings_context)\n",
        "dot = tf.keras.layers.Dot(1)([target, context])\n",
        "\n",
        "# полученную близость нужно преобразовать в вероятность\n",
        "# когда она одна используется не софтмакс и сигмоида\n",
        "outputs = tf.keras.layers.Activation(activation='sigmoid')(dot)\n",
        "\n",
        "model = tf.keras.Model(inputs=[inputs_target, inputs_context],\n",
        "                       outputs=outputs)\n",
        "\n",
        "\n",
        "optimizer = tf.keras.optimizers.Adam(learning_rate=0.001)\n",
        "model.compile(optimizer=optimizer,\n",
        "              loss='binary_crossentropy',\n",
        "              metrics=['accuracy'])"
      ],
      "metadata": {
        "id": "V39werNma16b"
      },
      "id": "V39werNma16b",
      "execution_count": 51,
      "outputs": []
    },
    {
      "cell_type": "code",
      "source": [
        "model.fit(gen_batches_cbow(sentences[:19000], window=5),\n",
        "          validation_data=gen_batches_cbow(sentences[19000:],  window=5),\n",
        "          batch_size=1000,\n",
        "          steps_per_epoch=5000,\n",
        "          validation_steps=30,\n",
        "         epochs=7)"
      ],
      "metadata": {
        "colab": {
          "base_uri": "https://localhost:8080/"
        },
        "id": "hFrch1kEa4bu",
        "outputId": "7773b986-0499-465a-9e7c-97306f62ed32"
      },
      "id": "hFrch1kEa4bu",
      "execution_count": 53,
      "outputs": [
        {
          "output_type": "stream",
          "name": "stdout",
          "text": [
            "Epoch 1/7\n",
            "5000/5000 [==============================] - 82s 16ms/step - loss: 0.3625 - accuracy: 0.8414 - val_loss: 0.3093 - val_accuracy: 0.8731\n",
            "Epoch 2/7\n",
            "5000/5000 [==============================] - 50s 10ms/step - loss: 0.2750 - accuracy: 0.8852 - val_loss: 0.2574 - val_accuracy: 0.8924\n",
            "Epoch 3/7\n",
            "5000/5000 [==============================] - 47s 9ms/step - loss: 0.2278 - accuracy: 0.9063 - val_loss: 0.2737 - val_accuracy: 0.8854\n",
            "Epoch 4/7\n",
            "5000/5000 [==============================] - 45s 9ms/step - loss: 0.1938 - accuracy: 0.9219 - val_loss: 0.2426 - val_accuracy: 0.9041\n",
            "Epoch 5/7\n",
            "5000/5000 [==============================] - 45s 9ms/step - loss: 0.1705 - accuracy: 0.9328 - val_loss: 0.2945 - val_accuracy: 0.8878\n",
            "Epoch 6/7\n",
            "5000/5000 [==============================] - 46s 9ms/step - loss: 0.1563 - accuracy: 0.9398 - val_loss: 0.3125 - val_accuracy: 0.8836\n",
            "Epoch 7/7\n",
            "5000/5000 [==============================] - 47s 9ms/step - loss: 0.1392 - accuracy: 0.9484 - val_loss: 0.2713 - val_accuracy: 0.8999\n"
          ]
        },
        {
          "output_type": "execute_result",
          "data": {
            "text/plain": [
              "<keras.src.callbacks.History at 0x78b19ed92b30>"
            ]
          },
          "metadata": {},
          "execution_count": 53
        }
      ]
    },
    {
      "cell_type": "code",
      "source": [
        "cbow_embeddings = model.layers[2].get_weights()[0]"
      ],
      "metadata": {
        "id": "hG8nnx28a8qO"
      },
      "id": "hG8nnx28a8qO",
      "execution_count": 54,
      "outputs": []
    },
    {
      "cell_type": "code",
      "source": [
        "print(model.history.history.keys())\n",
        "# summarize history for accuracy\n",
        "plt.plot(model.history.history['accuracy'])\n",
        "plt.plot(model.history.history['val_accuracy'])\n",
        "plt.title('model accuracy')\n",
        "plt.ylabel('accuracy')\n",
        "plt.xlabel('epoch')\n",
        "plt.legend(['train', 'val'], loc='upper left')\n",
        "plt.show()"
      ],
      "metadata": {
        "colab": {
          "base_uri": "https://localhost:8080/",
          "height": 489
        },
        "id": "O-IeFHz1P4oQ",
        "outputId": "a436d193-66e3-4280-e0d9-fdb51d44d590"
      },
      "id": "O-IeFHz1P4oQ",
      "execution_count": 55,
      "outputs": [
        {
          "output_type": "stream",
          "name": "stdout",
          "text": [
            "dict_keys(['loss', 'accuracy', 'val_loss', 'val_accuracy'])\n"
          ]
        },
        {
          "output_type": "display_data",
          "data": {
            "text/plain": [
              "<Figure size 640x480 with 1 Axes>"
            ],
            "image/png": "[encoded data removed]"
          },
          "metadata": {}
        }
      ]
    },
    {
      "cell_type": "code",
      "source": [
        "most_similar('мама', cbow_embeddings)"
      ],
      "metadata": {
        "colab": {
          "base_uri": "https://localhost:8080/"
        },
        "id": "Miwrt9X2a9uP",
        "outputId": "ea43c770-f8fb-4b98-dcbd-502d9114bad1"
      },
      "id": "Miwrt9X2a9uP",
      "execution_count": 56,
      "outputs": [
        {
          "output_type": "execute_result",
          "data": {
            "text/plain": [
              "['мама',\n",
              " '«ты',\n",
              " 'лиззи',\n",
              " 'молодая',\n",
              " 'александровна',\n",
              " 'подруга',\n",
              " 'петровна',\n",
              " 'сказала',\n",
              " 'урождённая',\n",
              " 'нина']"
            ]
          },
          "metadata": {},
          "execution_count": 56
        }
      ]
    },
    {
      "cell_type": "code",
      "source": [
        "most_similar('жизнь', cbow_embeddings)"
      ],
      "metadata": {
        "colab": {
          "base_uri": "https://localhost:8080/"
        },
        "id": "xRdPgsa6a_Fy",
        "outputId": "d161d5d6-423e-44b1-cbaa-d1e960e2df07"
      },
      "id": "xRdPgsa6a_Fy",
      "execution_count": 57,
      "outputs": [
        {
          "output_type": "execute_result",
          "data": {
            "text/plain": [
              "['жизнь',\n",
              " 'деятельность',\n",
              " 'свободу',\n",
              " 'историю',\n",
              " 'взгляды',\n",
              " 'она',\n",
              " 'церковь',\n",
              " 'веру',\n",
              " 'прошлое',\n",
              " 'мне']"
            ]
          },
          "metadata": {},
          "execution_count": 57
        }
      ]
    },
    {
      "cell_type": "markdown",
      "id": "c3b61b7c",
      "metadata": {
        "id": "c3b61b7c"
      },
      "source": [
        "\n",
        "# Задание 2 (3 балла)"
      ]
    },
    {
      "cell_type": "markdown",
      "id": "66eff080",
      "metadata": {
        "id": "66eff080"
      },
      "source": [
        "Обучите 1 word2vec и 1 fastext модель в gensim. В каждой из модели нужно задать все параметры, которые мы разбирали на семинаре. Заданные значения должны отличаться от дефолтных и от тех, что мы использовали на семинаре."
      ]
    },
    {
      "cell_type": "code",
      "execution_count": 58,
      "id": "986c2018",
      "metadata": {
        "id": "986c2018",
        "colab": {
          "base_uri": "https://localhost:8080/"
        },
        "outputId": "6c711765-42e5-4f79-db33-ea0efd7c36b9"
      },
      "outputs": [
        {
          "output_type": "stream",
          "name": "stdout",
          "text": [
            "Requirement already satisfied: gensim in /usr/local/lib/python3.10/dist-packages (4.3.2)\n",
            "Requirement already satisfied: numpy>=1.18.5 in /usr/local/lib/python3.10/dist-packages (from gensim) (1.23.5)\n",
            "Requirement already satisfied: scipy>=1.7.0 in /usr/local/lib/python3.10/dist-packages (from gensim) (1.11.4)\n",
            "Requirement already satisfied: smart-open>=1.8.1 in /usr/local/lib/python3.10/dist-packages (from gensim) (6.4.0)\n"
          ]
        }
      ],
      "source": [
        "pip install gensim"
      ]
    },
    {
      "cell_type": "code",
      "execution_count": 59,
      "id": "e5035bdc",
      "metadata": {
        "id": "e5035bdc"
      },
      "outputs": [],
      "source": [
        "import gensim\n",
        "from pymystem3 import Mystem\n",
        "m = Mystem()"
      ]
    },
    {
      "cell_type": "code",
      "source": [
        "texts = [preprocess(text) for text in wiki]"
      ],
      "metadata": {
        "id": "0FKIJTKgdCWH"
      },
      "id": "0FKIJTKgdCWH",
      "execution_count": 64,
      "outputs": []
    },
    {
      "cell_type": "code",
      "source": [
        "w2v = gensim.models.Word2Vec(texts,\n",
        "                             cbow_mean=0,\n",
        "                             ns_exponent=0.74,\n",
        "                             sample=2e-5,\n",
        "                             vector_size=200,\n",
        "                             min_count=25,\n",
        "                             max_vocab_size=10000,\n",
        "                             window=7,\n",
        "                             epochs=7,\n",
        "                             sg=1,\n",
        "                             negative=13)"
      ],
      "metadata": {
        "id": "FXpKuptXco9E"
      },
      "id": "FXpKuptXco9E",
      "execution_count": 65,
      "outputs": []
    },
    {
      "cell_type": "code",
      "source": [
        "w2v.wv.most_similar('жизнь')"
      ],
      "metadata": {
        "colab": {
          "base_uri": "https://localhost:8080/"
        },
        "id": "mRopHPK2hcv5",
        "outputId": "ddc0abbb-6460-4642-b7fb-de4852a2d274"
      },
      "id": "mRopHPK2hcv5",
      "execution_count": 68,
      "outputs": [
        {
          "output_type": "execute_result",
          "data": {
            "text/plain": [
              "[('жизни', 0.8177422881126404),\n",
              " ('себе', 0.8092035055160522),\n",
              " ('никогда', 0.7886887192726135),\n",
              " ('которую', 0.7781063318252563),\n",
              " ('постоянно', 0.7732422351837158),\n",
              " ('ей', 0.7715351581573486),\n",
              " ('всё', 0.7705093026161194),\n",
              " ('сама', 0.7622546553611755),\n",
              " ('писал', 0.7504358887672424),\n",
              " ('своими', 0.7453546524047852)]"
            ]
          },
          "metadata": {},
          "execution_count": 68
        }
      ]
    },
    {
      "cell_type": "code",
      "source": [
        "ft = gensim.models.FastText(texts,\n",
        "                             cbow_mean=0,\n",
        "                             ns_exponent=0.74,\n",
        "                             sample=2e-5,\n",
        "                             vector_size=200,\n",
        "                             min_count=25,\n",
        "                             max_vocab_size=10000,\n",
        "                             window=7,\n",
        "                             epochs=7,\n",
        "                             sg=1,\n",
        "                             negative=13)"
      ],
      "metadata": {
        "id": "IfsGnivxnXhQ"
      },
      "id": "IfsGnivxnXhQ",
      "execution_count": 69,
      "outputs": []
    },
    {
      "cell_type": "code",
      "source": [
        "ft.wv.most_similar('жизнь')"
      ],
      "metadata": {
        "colab": {
          "base_uri": "https://localhost:8080/"
        },
        "id": "J1Ska_fJnfbd",
        "outputId": "4e292bd7-df21-4810-e8ca-2c8c7c029993"
      },
      "id": "J1Ska_fJnfbd",
      "execution_count": 70,
      "outputs": [
        {
          "output_type": "execute_result",
          "data": {
            "text/plain": [
              "[('жизни', 0.8610607981681824),\n",
              " ('сама', 0.7595077157020569),\n",
              " ('своей', 0.7585766315460205),\n",
              " ('всё', 0.7579655051231384),\n",
              " ('людей', 0.7519417405128479),\n",
              " ('никогда', 0.74223792552948),\n",
              " ('деньги', 0.7373446822166443),\n",
              " ('себе', 0.734358549118042),\n",
              " ('всю', 0.7173576354980469),\n",
              " ('когда', 0.7102736234664917)]"
            ]
          },
          "metadata": {},
          "execution_count": 70
        }
      ]
    },
    {
      "cell_type": "markdown",
      "id": "e4bb928c",
      "metadata": {
        "id": "e4bb928c"
      },
      "source": [
        "# Задание 3 (4 балла)"
      ]
    },
    {
      "cell_type": "markdown",
      "id": "3019b0d1",
      "metadata": {
        "id": "3019b0d1"
      },
      "source": [
        "Используя датасет для классификации (labeled.csv) и простую нейронную сеть (последняя модель в семинаре), оцените качество полученных эмбедингов в задании 1 и 2 (4 набора эмбедингов), также проверьте 1 любую из предобученных моделей с rus-vectores (но только не tayga_upos_skipgram_300_2_2019).\n",
        "Какая модель показывает наилучший результат?\n",
        "\n",
        "Убедитесь, что для каждой модели вы корректно воспроизводите пайплайн предобработки (в 1 задании у вас лемматизация, не забудьте ее применить к датасету для классификации; у выбранной предобученной модели может быть своя специфичная предобработка - ее нужно воспроизвести)"
      ]
    },
    {
      "cell_type": "code",
      "execution_count": 72,
      "id": "ed908832",
      "metadata": {
        "id": "ed908832"
      },
      "outputs": [],
      "source": [
        "data = pd.read_csv('/content/drive/MyDrive/labeled (1).csv')"
      ]
    },
    {
      "cell_type": "code",
      "execution_count": 73,
      "id": "60c18c5a",
      "metadata": {
        "id": "60c18c5a"
      },
      "outputs": [],
      "source": [
        "data['norm_text'] = data.comment.apply(preprocess)"
      ]
    },
    {
      "cell_type": "code",
      "source": [
        "data"
      ],
      "metadata": {
        "colab": {
          "base_uri": "https://localhost:8080/",
          "height": 423
        },
        "id": "8Y4Nq2Aeq-kK",
        "outputId": "4a633eca-4273-441d-89da-1705d9cd2473"
      },
      "id": "8Y4Nq2Aeq-kK",
      "execution_count": 74,
      "outputs": [
        {
          "output_type": "execute_result",
          "data": {
            "text/plain": [
              "                                                 comment  toxic  \\\n",
              "0                   Верблюдов-то за что? Дебилы, бл...\\n    1.0   \n",
              "1      Хохлы, это отдушина затюканого россиянина, мол...    1.0   \n",
              "2                              Собаке - собачья смерть\\n    1.0   \n",
              "3      Страницу обнови, дебил. Это тоже не оскорблени...    1.0   \n",
              "4      тебя не убедил 6-страничный пдф в том, что Скр...    1.0   \n",
              "...                                                  ...    ...   \n",
              "14407  Вонючий совковый скот прибежал и ноет. А вот и...    1.0   \n",
              "14408  А кого любить? Гоблина тупорылого что-ли? Или ...    1.0   \n",
              "14409  Посмотрел Утомленных солнцем 2. И оказалось, ч...    0.0   \n",
              "14410  КРЫМОТРЕД НАРУШАЕТ ПРАВИЛА РАЗДЕЛА Т.К В НЕМ Н...    1.0   \n",
              "14411  До сих пор пересматриваю его видео. Орамбо кст...    0.0   \n",
              "\n",
              "                                               norm_text  \n",
              "0                    [верблюдов-то, за, что, дебилы, бл]  \n",
              "1      [хохлы, это, отдушина, затюканого, россиянина,...  \n",
              "2                            [собаке, , собачья, смерть]  \n",
              "3      [страницу, обнови, дебил, это, тоже, не, оскор...  \n",
              "4      [тебя, не, убедил, 6-страничный, пдф, в, том, ...  \n",
              "...                                                  ...  \n",
              "14407  [вонючий, совковый, скот, прибежал, и, ноет, а...  \n",
              "14408  [а, кого, любить, гоблина, тупорылого, что-ли,...  \n",
              "14409  [посмотрел, утомленных, солнцем, 2, и, оказало...  \n",
              "14410  [крымотред, нарушает, правила, раздела, т.к, в...  \n",
              "14411  [до, сих, пор, пересматриваю, его, видео, орам...  \n",
              "\n",
              "[14412 rows x 3 columns]"
            ],
            "text/html": [
              "\n",
              "  <div id=\"df-d3bdb2fb-512b-4bda-96e0-02525bad75e6\" class=\"colab-df-container\">\n",
              "    <div>\n",
              "<style scoped>\n",
              "    .dataframe tbody tr th:only-of-type {\n",
              "        vertical-align: middle;\n",
              "    }\n",
              "\n",
              "    .dataframe tbody tr th {\n",
              "        vertical-align: top;\n",
              "    }\n",
              "\n",
              "    .dataframe thead th {\n",
              "        text-align: right;\n",
              "    }\n",
              "</style>\n",
              "<table border=\"1\" class=\"dataframe\">\n",
              "  <thead>\n",
              "    <tr style=\"text-align: right;\">\n",
              "      <th></th>\n",
              "      <th>comment</th>\n",
              "      <th>toxic</th>\n",
              "      <th>norm_text</th>\n",
              "    </tr>\n",
              "  </thead>\n",
              "  <tbody>\n",
              "    <tr>\n",
              "      <th>0</th>\n",
              "      <td>Верблюдов-то за что? Дебилы, бл...\\n</td>\n",
              "      <td>1.0</td>\n",
              "      <td>[верблюдов-то, за, что, дебилы, бл]</td>\n",
              "    </tr>\n",
              "    <tr>\n",
              "      <th>1</th>\n",
              "      <td>Хохлы, это отдушина затюканого россиянина, мол...</td>\n",
              "      <td>1.0</td>\n",
              "      <td>[хохлы, это, отдушина, затюканого, россиянина,...</td>\n",
              "    </tr>\n",
              "    <tr>\n",
              "      <th>2</th>\n",
              "      <td>Собаке - собачья смерть\\n</td>\n",
              "      <td>1.0</td>\n",
              "      <td>[собаке, , собачья, смерть]</td>\n",
              "    </tr>\n",
              "    <tr>\n",
              "      <th>3</th>\n",
              "      <td>Страницу обнови, дебил. Это тоже не оскорблени...</td>\n",
              "      <td>1.0</td>\n",
              "      <td>[страницу, обнови, дебил, это, тоже, не, оскор...</td>\n",
              "    </tr>\n",
              "    <tr>\n",
              "      <th>4</th>\n",
              "      <td>тебя не убедил 6-страничный пдф в том, что Скр...</td>\n",
              "      <td>1.0</td>\n",
              "      <td>[тебя, не, убедил, 6-страничный, пдф, в, том, ...</td>\n",
              "    </tr>\n",
              "    <tr>\n",
              "      <th>...</th>\n",
              "      <td>...</td>\n",
              "      <td>...</td>\n",
              "      <td>...</td>\n",
              "    </tr>\n",
              "    <tr>\n",
              "      <th>14407</th>\n",
              "      <td>Вонючий совковый скот прибежал и ноет. А вот и...</td>\n",
              "      <td>1.0</td>\n",
              "      <td>[вонючий, совковый, скот, прибежал, и, ноет, а...</td>\n",
              "    </tr>\n",
              "    <tr>\n",
              "      <th>14408</th>\n",
              "      <td>А кого любить? Гоблина тупорылого что-ли? Или ...</td>\n",
              "      <td>1.0</td>\n",
              "      <td>[а, кого, любить, гоблина, тупорылого, что-ли,...</td>\n",
              "    </tr>\n",
              "    <tr>\n",
              "      <th>14409</th>\n",
              "      <td>Посмотрел Утомленных солнцем 2. И оказалось, ч...</td>\n",
              "      <td>0.0</td>\n",
              "      <td>[посмотрел, утомленных, солнцем, 2, и, оказало...</td>\n",
              "    </tr>\n",
              "    <tr>\n",
              "      <th>14410</th>\n",
              "      <td>КРЫМОТРЕД НАРУШАЕТ ПРАВИЛА РАЗДЕЛА Т.К В НЕМ Н...</td>\n",
              "      <td>1.0</td>\n",
              "      <td>[крымотред, нарушает, правила, раздела, т.к, в...</td>\n",
              "    </tr>\n",
              "    <tr>\n",
              "      <th>14411</th>\n",
              "      <td>До сих пор пересматриваю его видео. Орамбо кст...</td>\n",
              "      <td>0.0</td>\n",
              "      <td>[до, сих, пор, пересматриваю, его, видео, орам...</td>\n",
              "    </tr>\n",
              "  </tbody>\n",
              "</table>\n",
              "<p>14412 rows × 3 columns</p>\n",
              "</div>\n",
              "    <div class=\"colab-df-buttons\">\n",
              "\n",
              "  <div class=\"colab-df-container\">\n",
              "    <button class=\"colab-df-convert\" onclick=\"convertToInteractive('df-d3bdb2fb-512b-4bda-96e0-02525bad75e6')\"\n",
              "            title=\"Convert this dataframe to an interactive table.\"\n",
              "            style=\"display:none;\">\n",
              "\n",
              "  <svg xmlns=\"http://www.w3.org/2000/svg\" height=\"24px\" viewBox=\"0 -960 960 960\">\n",
              "    <path d=\"M120-120v-720h720v720H120Zm60-500h600v-160H180v160Zm220 220h160v-160H400v160Zm0 220h160v-160H400v160ZM180-400h160v-160H180v160Zm440 0h160v-160H620v160ZM180-180h160v-160H180v160Zm440 0h160v-160H620v160Z\"/>\n",
              "  </svg>\n",
              "    </button>\n",
              "\n",
              "  <style>\n",
              "    .colab-df-container {\n",
              "      display:flex;\n",
              "      gap: 12px;\n",
              "    }\n",
              "\n",
              "    .colab-df-convert {\n",
              "      background-color: #E8F0FE;\n",
              "      border: none;\n",
              "      border-radius: 50%;\n",
              "      cursor: pointer;\n",
              "      display: none;\n",
              "      fill: #1967D2;\n",
              "      height: 32px;\n",
              "      padding: 0 0 0 0;\n",
              "      width: 32px;\n",
              "    }\n",
              "\n",
              "    .colab-df-convert:hover {\n",
              "      background-color: #E2EBFA;\n",
              "      box-shadow: 0px 1px 2px rgba(60, 64, 67, 0.3), 0px 1px 3px 1px rgba(60, 64, 67, 0.15);\n",
              "      fill: #174EA6;\n",
              "    }\n",
              "\n",
              "    .colab-df-buttons div {\n",
              "      margin-bottom: 4px;\n",
              "    }\n",
              "\n",
              "    [theme=dark] .colab-df-convert {\n",
              "      background-color: #3B4455;\n",
              "      fill: #D2E3FC;\n",
              "    }\n",
              "\n",
              "    [theme=dark] .colab-df-convert:hover {\n",
              "      background-color: #434B5C;\n",
              "      box-shadow: 0px 1px 3px 1px rgba(0, 0, 0, 0.15);\n",
              "      filter: drop-shadow(0px 1px 2px rgba(0, 0, 0, 0.3));\n",
              "      fill: #FFFFFF;\n",
              "    }\n",
              "  </style>\n",
              "\n",
              "    <script>\n",
              "      const buttonEl =\n",
              "        document.querySelector('#df-d3bdb2fb-512b-4bda-96e0-02525bad75e6 button.colab-df-convert');\n",
              "      buttonEl.style.display =\n",
              "        google.colab.kernel.accessAllowed ? 'block' : 'none';\n",
              "\n",
              "      async function convertToInteractive(key) {\n",
              "        const element = document.querySelector('#df-d3bdb2fb-512b-4bda-96e0-02525bad75e6');\n",
              "        const dataTable =\n",
              "          await google.colab.kernel.invokeFunction('convertToInteractive',\n",
              "                                                    [key], {});\n",
              "        if (!dataTable) return;\n",
              "\n",
              "        const docLinkHtml = 'Like what you see? Visit the ' +\n",
              "          '<a target=\"_blank\" href=https://colab.research.google.com/notebooks/data_table.ipynb>data table notebook</a>'\n",
              "          + ' to learn more about interactive tables.';\n",
              "        element.innerHTML = '';\n",
              "        dataTable['output_type'] = 'display_data';\n",
              "        await google.colab.output.renderOutput(dataTable, element);\n",
              "        const docLink = document.createElement('div');\n",
              "        docLink.innerHTML = docLinkHtml;\n",
              "        element.appendChild(docLink);\n",
              "      }\n",
              "    </script>\n",
              "  </div>\n",
              "\n",
              "\n",
              "<div id=\"df-95212967-b705-425e-aaf4-7f459d6adf73\">\n",
              "  <button class=\"colab-df-quickchart\" onclick=\"quickchart('df-95212967-b705-425e-aaf4-7f459d6adf73')\"\n",
              "            title=\"Suggest charts\"\n",
              "            style=\"display:none;\">\n",
              "\n",
              "<svg xmlns=\"http://www.w3.org/2000/svg\" height=\"24px\"viewBox=\"0 0 24 24\"\n",
              "     width=\"24px\">\n",
              "    <g>\n",
              "        <path d=\"M19 3H5c-1.1 0-2 .9-2 2v14c0 1.1.9 2 2 2h14c1.1 0 2-.9 2-2V5c0-1.1-.9-2-2-2zM9 17H7v-7h2v7zm4 0h-2V7h2v10zm4 0h-2v-4h2v4z\"/>\n",
              "    </g>\n",
              "</svg>\n",
              "  </button>\n",
              "\n",
              "<style>\n",
              "  .colab-df-quickchart {\n",
              "      --bg-color: #E8F0FE;\n",
              "      --fill-color: #1967D2;\n",
              "      --hover-bg-color: #E2EBFA;\n",
              "      --hover-fill-color: #174EA6;\n",
              "      --disabled-fill-color: #AAA;\n",
              "      --disabled-bg-color: #DDD;\n",
              "  }\n",
              "\n",
              "  [theme=dark] .colab-df-quickchart {\n",
              "      --bg-color: #3B4455;\n",
              "      --fill-color: #D2E3FC;\n",
              "      --hover-bg-color: #434B5C;\n",
              "      --hover-fill-color: #FFFFFF;\n",
              "      --disabled-bg-color: #3B4455;\n",
              "      --disabled-fill-color: #666;\n",
              "  }\n",
              "\n",
              "  .colab-df-quickchart {\n",
              "    background-color: var(--bg-color);\n",
              "    border: none;\n",
              "    border-radius: 50%;\n",
              "    cursor: pointer;\n",
              "    display: none;\n",
              "    fill: var(--fill-color);\n",
              "    height: 32px;\n",
              "    padding: 0;\n",
              "    width: 32px;\n",
              "  }\n",
              "\n",
              "  .colab-df-quickchart:hover {\n",
              "    background-color: var(--hover-bg-color);\n",
              "    box-shadow: 0 1px 2px rgba(60, 64, 67, 0.3), 0 1px 3px 1px rgba(60, 64, 67, 0.15);\n",
              "    fill: var(--button-hover-fill-color);\n",
              "  }\n",
              "\n",
              "  .colab-df-quickchart-complete:disabled,\n",
              "  .colab-df-quickchart-complete:disabled:hover {\n",
              "    background-color: var(--disabled-bg-color);\n",
              "    fill: var(--disabled-fill-color);\n",
              "    box-shadow: none;\n",
              "  }\n",
              "\n",
              "  .colab-df-spinner {\n",
              "    border: 2px solid var(--fill-color);\n",
              "    border-color: transparent;\n",
              "    border-bottom-color: var(--fill-color);\n",
              "    animation:\n",
              "      spin 1s steps(1) infinite;\n",
              "  }\n",
              "\n",
              "  @keyframes spin {\n",
              "    0% {\n",
              "      border-color: transparent;\n",
              "      border-bottom-color: var(--fill-color);\n",
              "      border-left-color: var(--fill-color);\n",
              "    }\n",
              "    20% {\n",
              "      border-color: transparent;\n",
              "      border-left-color: var(--fill-color);\n",
              "      border-top-color: var(--fill-color);\n",
              "    }\n",
              "    30% {\n",
              "      border-color: transparent;\n",
              "      border-left-color: var(--fill-color);\n",
              "      border-top-color: var(--fill-color);\n",
              "      border-right-color: var(--fill-color);\n",
              "    }\n",
              "    40% {\n",
              "      border-color: transparent;\n",
              "      border-right-color: var(--fill-color);\n",
              "      border-top-color: var(--fill-color);\n",
              "    }\n",
              "    60% {\n",
              "      border-color: transparent;\n",
              "      border-right-color: var(--fill-color);\n",
              "    }\n",
              "    80% {\n",
              "      border-color: transparent;\n",
              "      border-right-color: var(--fill-color);\n",
              "      border-bottom-color: var(--fill-color);\n",
              "    }\n",
              "    90% {\n",
              "      border-color: transparent;\n",
              "      border-bottom-color: var(--fill-color);\n",
              "    }\n",
              "  }\n",
              "</style>\n",
              "\n",
              "  <script>\n",
              "    async function quickchart(key) {\n",
              "      const quickchartButtonEl =\n",
              "        document.querySelector('#' + key + ' button');\n",
              "      quickchartButtonEl.disabled = true;  // To prevent multiple clicks.\n",
              "      quickchartButtonEl.classList.add('colab-df-spinner');\n",
              "      try {\n",
              "        const charts = await google.colab.kernel.invokeFunction(\n",
              "            'suggestCharts', [key], {});\n",
              "      } catch (error) {\n",
              "        console.error('Error during call to suggestCharts:', error);\n",
              "      }\n",
              "      quickchartButtonEl.classList.remove('colab-df-spinner');\n",
              "      quickchartButtonEl.classList.add('colab-df-quickchart-complete');\n",
              "    }\n",
              "    (() => {\n",
              "      let quickchartButtonEl =\n",
              "        document.querySelector('#df-95212967-b705-425e-aaf4-7f459d6adf73 button');\n",
              "      quickchartButtonEl.style.display =\n",
              "        google.colab.kernel.accessAllowed ? 'block' : 'none';\n",
              "    })();\n",
              "  </script>\n",
              "</div>\n",
              "    </div>\n",
              "  </div>\n"
            ]
          },
          "metadata": {},
          "execution_count": 74
        }
      ]
    },
    {
      "cell_type": "code",
      "source": [
        "vocab = Counter()\n",
        "\n",
        "for text in data['norm_text']:\n",
        "    vocab.update(text)\n",
        "\n",
        "filtered_vocab = set()\n",
        "\n",
        "for word in vocab:\n",
        "    if vocab[word] > 5:\n",
        "        filtered_vocab.add(word)\n",
        "\n",
        "len(filtered_vocab)"
      ],
      "metadata": {
        "colab": {
          "base_uri": "https://localhost:8080/"
        },
        "id": "m7nZ_UV0s6Aa",
        "outputId": "8ffde78d-3d93-4be5-a4b1-6d68aa0215df"
      },
      "id": "m7nZ_UV0s6Aa",
      "execution_count": 83,
      "outputs": [
        {
          "output_type": "execute_result",
          "data": {
            "text/plain": [
              "7232"
            ]
          },
          "metadata": {},
          "execution_count": 83
        }
      ]
    },
    {
      "cell_type": "code",
      "source": [
        "word2id = { 'PAD':0}\n",
        "\n",
        "for word in filtered_vocab:\n",
        "    word2id[word] = len(word2id)\n",
        "id2word = {i:word for word, i in word2id.items()}\n"
      ],
      "metadata": {
        "id": "f8UhIPiTs9qi",
        "colab": {
          "base_uri": "https://localhost:8080/"
        },
        "outputId": "f5a6de95-fd35-487e-debd-4806d8c446ce"
      },
      "id": "f8UhIPiTs9qi",
      "execution_count": 95,
      "outputs": [
        {
          "output_type": "execute_result",
          "data": {
            "text/plain": [
              "7233"
            ]
          },
          "metadata": {},
          "execution_count": 95
        }
      ]
    },
    {
      "cell_type": "code",
      "source": [
        "X = []\n",
        "\n",
        "for tokens in data['norm_text']:\n",
        "    ids = [word2id[token] for token in tokens if token in word2id]\n",
        "    X.append(ids)"
      ],
      "metadata": {
        "id": "5zDNewXDs_bp"
      },
      "id": "5zDNewXDs_bp",
      "execution_count": 85,
      "outputs": []
    },
    {
      "cell_type": "code",
      "source": [
        "X = tf.keras.preprocessing.sequence.pad_sequences(X, maxlen=200)\n",
        "y = data.toxic.values"
      ],
      "metadata": {
        "id": "eQfZbuhMtAvs"
      },
      "id": "eQfZbuhMtAvs",
      "execution_count": 99,
      "outputs": []
    },
    {
      "cell_type": "code",
      "source": [
        "X_train, X_valid, y_train, y_valid = train_test_split(X, y, test_size=0.05)"
      ],
      "metadata": {
        "id": "9QYRlLgetCua"
      },
      "id": "9QYRlLgetCua",
      "execution_count": 100,
      "outputs": []
    },
    {
      "cell_type": "code",
      "source": [
        "# embeddings\n",
        "fasttext_emb = ft\n",
        "w2v_emb = w2v\n",
        "sg_emb = SG_embeddings\n",
        "cbow_emb = cbow_embeddings"
      ],
      "metadata": {
        "id": "rYQqlVaXjmai"
      },
      "id": "rYQqlVaXjmai",
      "execution_count": 118,
      "outputs": []
    },
    {
      "cell_type": "code",
      "source": [
        "# fasttext_emb\n",
        "weights = np.zeros((len(word2id), 200))\n",
        "\n",
        "for word, i in word2id.items():\n",
        "    # вектор паддинга оставим нулевым\n",
        "    if word == 'PAD':\n",
        "        continue\n",
        "\n",
        "    try:\n",
        "        weights[i] = fasttext_emb.wv[word]\n",
        "\n",
        "\n",
        "    except KeyError:\n",
        "        # для слов, которых нет в модели тоже возьмем какой-то  рандомный вектор\n",
        "        continue\n",
        "        weights[i] = fasttext_emb.wv['опрагпллирао']"
      ],
      "metadata": {
        "id": "Uf6ChANvhE4J"
      },
      "id": "Uf6ChANvhE4J",
      "execution_count": 128,
      "outputs": []
    },
    {
      "cell_type": "code",
      "source": [
        "inputs = tf.keras.layers.Input(shape=(200,))\n",
        "\n",
        "embeddings = tf.keras.layers.Embedding(input_dim=200, output_dim=len(word2id),\n",
        "                                       trainable=False,\n",
        "                                       weights=[weights.T])(inputs, )\n",
        "mean = tf.keras.layers.Lambda(lambda x: tf.keras.backend.mean(x,  axis=1))(embeddings)\n",
        "\n",
        "outputs = tf.keras.layers.Dense(1, activation='sigmoid')(mean)\n",
        "\n",
        "model = tf.keras.Model(inputs=inputs, outputs=outputs)\n",
        "optimizer = tf.keras.optimizers.Adam()\n",
        "model.compile(optimizer=optimizer,\n",
        "              loss='binary_crossentropy',\n",
        "              metrics=['accuracy'])\n",
        "\n"
      ],
      "metadata": {
        "id": "bqIMU916drjZ"
      },
      "id": "bqIMU916drjZ",
      "execution_count": 131,
      "outputs": []
    },
    {
      "cell_type": "code",
      "source": [
        "model.fit(X_train, y_train,\n",
        "          validation_data=(X_valid, y_valid),\n",
        "          batch_size=32,\n",
        "         epochs=30)"
      ],
      "metadata": {
        "colab": {
          "base_uri": "https://localhost:8080/"
        },
        "id": "XzdMzY1ueQwZ",
        "outputId": "43181f62-5dd0-47b0-cfa7-80e5ce05ca96"
      },
      "id": "XzdMzY1ueQwZ",
      "execution_count": 132,
      "outputs": [
        {
          "output_type": "stream",
          "name": "stdout",
          "text": [
            "Epoch 1/30\n",
            "428/428 [==============================] - 3s 5ms/step - loss: 0.6567 - accuracy: 0.6588 - val_loss: 0.6511 - val_accuracy: 0.6519\n",
            "Epoch 2/30\n",
            "428/428 [==============================] - 2s 6ms/step - loss: 0.6502 - accuracy: 0.6639 - val_loss: 0.6546 - val_accuracy: 0.6519\n",
            "Epoch 3/30\n",
            "428/428 [==============================] - 3s 6ms/step - loss: 0.6488 - accuracy: 0.6658 - val_loss: 0.6525 - val_accuracy: 0.6519\n",
            "Epoch 4/30\n",
            "428/428 [==============================] - 2s 5ms/step - loss: 0.6508 - accuracy: 0.6636 - val_loss: 0.6801 - val_accuracy: 0.6519\n",
            "Epoch 5/30\n",
            "428/428 [==============================] - 2s 5ms/step - loss: 0.6518 - accuracy: 0.6627 - val_loss: 0.6511 - val_accuracy: 0.6519\n",
            "Epoch 6/30\n",
            "428/428 [==============================] - 2s 5ms/step - loss: 0.6494 - accuracy: 0.6628 - val_loss: 0.6695 - val_accuracy: 0.6519\n",
            "Epoch 7/30\n",
            "428/428 [==============================] - 2s 5ms/step - loss: 0.6487 - accuracy: 0.6639 - val_loss: 0.6843 - val_accuracy: 0.6519\n",
            "Epoch 8/30\n",
            "428/428 [==============================] - 2s 5ms/step - loss: 0.6479 - accuracy: 0.6644 - val_loss: 0.6471 - val_accuracy: 0.6519\n",
            "Epoch 9/30\n",
            "428/428 [==============================] - 3s 6ms/step - loss: 0.6521 - accuracy: 0.6650 - val_loss: 0.6514 - val_accuracy: 0.6519\n",
            "Epoch 10/30\n",
            "428/428 [==============================] - 2s 5ms/step - loss: 0.6484 - accuracy: 0.6631 - val_loss: 0.6551 - val_accuracy: 0.6519\n",
            "Epoch 11/30\n",
            "428/428 [==============================] - 2s 5ms/step - loss: 0.6477 - accuracy: 0.6635 - val_loss: 0.6500 - val_accuracy: 0.6519\n",
            "Epoch 12/30\n",
            "428/428 [==============================] - 2s 5ms/step - loss: 0.6480 - accuracy: 0.6646 - val_loss: 0.6459 - val_accuracy: 0.6519\n",
            "Epoch 13/30\n",
            "428/428 [==============================] - 2s 5ms/step - loss: 0.6489 - accuracy: 0.6639 - val_loss: 0.6531 - val_accuracy: 0.6519\n",
            "Epoch 14/30\n",
            "428/428 [==============================] - 2s 5ms/step - loss: 0.6483 - accuracy: 0.6612 - val_loss: 0.6466 - val_accuracy: 0.6519\n",
            "Epoch 15/30\n",
            "428/428 [==============================] - 3s 6ms/step - loss: 0.6481 - accuracy: 0.6617 - val_loss: 0.6441 - val_accuracy: 0.6519\n",
            "Epoch 16/30\n",
            "428/428 [==============================] - 2s 5ms/step - loss: 0.6482 - accuracy: 0.6607 - val_loss: 0.6490 - val_accuracy: 0.6519\n",
            "Epoch 17/30\n",
            "428/428 [==============================] - 2s 5ms/step - loss: 0.6474 - accuracy: 0.6653 - val_loss: 0.6596 - val_accuracy: 0.6519\n",
            "Epoch 18/30\n",
            "428/428 [==============================] - 2s 5ms/step - loss: 0.6464 - accuracy: 0.6628 - val_loss: 0.6444 - val_accuracy: 0.6519\n",
            "Epoch 19/30\n",
            "428/428 [==============================] - 2s 5ms/step - loss: 0.6472 - accuracy: 0.6600 - val_loss: 0.6628 - val_accuracy: 0.6519\n",
            "Epoch 20/30\n",
            "428/428 [==============================] - 2s 5ms/step - loss: 0.6471 - accuracy: 0.6620 - val_loss: 0.6711 - val_accuracy: 0.6519\n",
            "Epoch 21/30\n",
            "428/428 [==============================] - 3s 8ms/step - loss: 0.6426 - accuracy: 0.6634 - val_loss: 0.6445 - val_accuracy: 0.6519\n",
            "Epoch 22/30\n",
            "428/428 [==============================] - 2s 6ms/step - loss: 0.6462 - accuracy: 0.6569 - val_loss: 0.6490 - val_accuracy: 0.6519\n",
            "Epoch 23/30\n",
            "428/428 [==============================] - 2s 5ms/step - loss: 0.6433 - accuracy: 0.6646 - val_loss: 0.6567 - val_accuracy: 0.6519\n",
            "Epoch 24/30\n",
            "428/428 [==============================] - 2s 5ms/step - loss: 0.6470 - accuracy: 0.6571 - val_loss: 0.6419 - val_accuracy: 0.6519\n",
            "Epoch 25/30\n",
            "428/428 [==============================] - 2s 5ms/step - loss: 0.6437 - accuracy: 0.6600 - val_loss: 0.6600 - val_accuracy: 0.6519\n",
            "Epoch 26/30\n",
            "428/428 [==============================] - 2s 6ms/step - loss: 0.6424 - accuracy: 0.6638 - val_loss: 0.6451 - val_accuracy: 0.6519\n",
            "Epoch 27/30\n",
            "428/428 [==============================] - 2s 5ms/step - loss: 0.6403 - accuracy: 0.6651 - val_loss: 0.6417 - val_accuracy: 0.6519\n",
            "Epoch 28/30\n",
            "428/428 [==============================] - 2s 5ms/step - loss: 0.6399 - accuracy: 0.6636 - val_loss: 0.6405 - val_accuracy: 0.6519\n",
            "Epoch 29/30\n",
            "428/428 [==============================] - 2s 5ms/step - loss: 0.6438 - accuracy: 0.6626 - val_loss: 0.6469 - val_accuracy: 0.6519\n",
            "Epoch 30/30\n",
            "428/428 [==============================] - 2s 5ms/step - loss: 0.6430 - accuracy: 0.6650 - val_loss: 0.6412 - val_accuracy: 0.6519\n"
          ]
        },
        {
          "output_type": "execute_result",
          "data": {
            "text/plain": [
              "<keras.src.callbacks.History at 0x78b19f873e50>"
            ]
          },
          "metadata": {},
          "execution_count": 132
        }
      ]
    },
    {
      "cell_type": "code",
      "source": [
        "print(model.history.history.keys())\n",
        "# summarize history for accuracy\n",
        "plt.plot(model.history.history['accuracy'])\n",
        "plt.plot(model.history.history['val_accuracy'])\n",
        "plt.title('model accuracy')\n",
        "plt.ylabel('accuracy')\n",
        "plt.xlabel('epoch')\n",
        "plt.legend(['train', 'val'], loc='upper left')\n",
        "plt.show()"
      ],
      "metadata": {
        "colab": {
          "base_uri": "https://localhost:8080/",
          "height": 489
        },
        "id": "bInqqtPieWs4",
        "outputId": "8516c9ea-6558-4792-c254-44400114ea36"
      },
      "id": "bInqqtPieWs4",
      "execution_count": 133,
      "outputs": [
        {
          "output_type": "stream",
          "name": "stdout",
          "text": [
            "dict_keys(['loss', 'accuracy', 'val_loss', 'val_accuracy'])\n"
          ]
        },
        {
          "output_type": "display_data",
          "data": {
            "text/plain": [
              "<Figure size 640x480 with 1 Axes>"
            ],
            "image/png": "[encoded data removed]"
          },
          "metadata": {}
        }
      ]
    },
    {
      "cell_type": "code",
      "source": [
        "# cbow_embeddings\n",
        "weights = np.zeros((len(word2id), 200))\n",
        "\n",
        "for word, i in word2id.items():\n",
        "    # вектор паддинга оставим нулевым\n",
        "    if word == 'PAD':\n",
        "        continue\n",
        "\n",
        "    try:\n",
        "        weights[i] = cbow_embeddings[word2id[word]].reshape(1, -1)\n",
        "\n",
        "\n",
        "    except KeyError:\n",
        "        # для слов, которых нет в модели тоже возьмем какой-то  рандомный вектор\n",
        "        continue\n",
        "        weights[i] = cbow_embeddings[word2id[word]].reshape(1, -1)['опрагпллирао']"
      ],
      "metadata": {
        "id": "V0KIebILkkET"
      },
      "id": "V0KIebILkkET",
      "execution_count": 134,
      "outputs": []
    },
    {
      "cell_type": "code",
      "source": [
        "inputs = tf.keras.layers.Input(shape=(200,))\n",
        "\n",
        "embeddings = tf.keras.layers.Embedding(input_dim=200, output_dim=len(word2id),\n",
        "                                       trainable=False,\n",
        "                                       weights=[weights.T])(inputs, )\n",
        "mean = tf.keras.layers.Lambda(lambda x: tf.keras.backend.mean(x,  axis=1))(embeddings)\n",
        "\n",
        "outputs = tf.keras.layers.Dense(1, activation='sigmoid')(mean)\n",
        "\n",
        "model = tf.keras.Model(inputs=inputs, outputs=outputs)\n",
        "optimizer = tf.keras.optimizers.Adam()\n",
        "model.compile(optimizer=optimizer,\n",
        "              loss='binary_crossentropy',\n",
        "              metrics=['accuracy'])\n",
        "\n"
      ],
      "metadata": {
        "id": "P6qJ9U3Ge4kv"
      },
      "id": "P6qJ9U3Ge4kv",
      "execution_count": 135,
      "outputs": []
    },
    {
      "cell_type": "code",
      "source": [
        "model.fit(X_train, y_train,\n",
        "          validation_data=(X_valid, y_valid),\n",
        "          batch_size=32,\n",
        "         epochs=30)"
      ],
      "metadata": {
        "colab": {
          "base_uri": "https://localhost:8080/"
        },
        "id": "_i30UksafHLF",
        "outputId": "d59df670-fbc4-4903-8d9b-238a0f556c69"
      },
      "id": "_i30UksafHLF",
      "execution_count": 136,
      "outputs": [
        {
          "output_type": "stream",
          "name": "stdout",
          "text": [
            "Epoch 1/30\n",
            "428/428 [==============================] - 3s 5ms/step - loss: 0.6598 - accuracy: 0.6556 - val_loss: 0.6532 - val_accuracy: 0.6519\n",
            "Epoch 2/30\n",
            "428/428 [==============================] - 2s 5ms/step - loss: 0.6635 - accuracy: 0.6455 - val_loss: 0.6475 - val_accuracy: 0.6519\n",
            "Epoch 3/30\n",
            "428/428 [==============================] - 2s 6ms/step - loss: 0.6558 - accuracy: 0.6521 - val_loss: 0.6521 - val_accuracy: 0.6519\n",
            "Epoch 4/30\n",
            "428/428 [==============================] - 2s 5ms/step - loss: 0.6640 - accuracy: 0.6449 - val_loss: 0.6864 - val_accuracy: 0.5146\n",
            "Epoch 5/30\n",
            "428/428 [==============================] - 2s 5ms/step - loss: 0.6556 - accuracy: 0.6543 - val_loss: 0.6438 - val_accuracy: 0.6519\n",
            "Epoch 6/30\n",
            "428/428 [==============================] - 2s 5ms/step - loss: 0.6582 - accuracy: 0.6542 - val_loss: 0.7813 - val_accuracy: 0.3703\n",
            "Epoch 7/30\n",
            "428/428 [==============================] - 2s 5ms/step - loss: 0.6631 - accuracy: 0.6453 - val_loss: 0.6526 - val_accuracy: 0.6519\n",
            "Epoch 8/30\n",
            "428/428 [==============================] - 2s 5ms/step - loss: 0.6600 - accuracy: 0.6477 - val_loss: 0.6439 - val_accuracy: 0.6519\n",
            "Epoch 9/30\n",
            "428/428 [==============================] - 2s 6ms/step - loss: 0.6488 - accuracy: 0.6626 - val_loss: 0.6474 - val_accuracy: 0.6519\n",
            "Epoch 10/30\n",
            "428/428 [==============================] - 2s 5ms/step - loss: 0.6569 - accuracy: 0.6439 - val_loss: 0.6601 - val_accuracy: 0.6519\n",
            "Epoch 11/30\n",
            "428/428 [==============================] - 2s 5ms/step - loss: 0.6597 - accuracy: 0.6462 - val_loss: 0.6840 - val_accuracy: 0.6519\n",
            "Epoch 12/30\n",
            "428/428 [==============================] - 2s 5ms/step - loss: 0.6540 - accuracy: 0.6491 - val_loss: 0.6420 - val_accuracy: 0.6519\n",
            "Epoch 13/30\n",
            "428/428 [==============================] - 2s 5ms/step - loss: 0.6574 - accuracy: 0.6403 - val_loss: 0.6544 - val_accuracy: 0.6519\n",
            "Epoch 14/30\n",
            "428/428 [==============================] - 2s 5ms/step - loss: 0.6586 - accuracy: 0.6468 - val_loss: 0.6411 - val_accuracy: 0.6519\n",
            "Epoch 15/30\n",
            "428/428 [==============================] - 2s 5ms/step - loss: 0.6599 - accuracy: 0.6435 - val_loss: 0.6818 - val_accuracy: 0.6519\n",
            "Epoch 16/30\n",
            "428/428 [==============================] - 2s 5ms/step - loss: 0.6531 - accuracy: 0.6532 - val_loss: 0.6385 - val_accuracy: 0.6519\n",
            "Epoch 17/30\n",
            "428/428 [==============================] - 2s 5ms/step - loss: 0.6548 - accuracy: 0.6402 - val_loss: 0.7000 - val_accuracy: 0.6519\n",
            "Epoch 18/30\n",
            "428/428 [==============================] - 2s 5ms/step - loss: 0.6606 - accuracy: 0.6440 - val_loss: 0.6431 - val_accuracy: 0.6519\n",
            "Epoch 19/30\n",
            "428/428 [==============================] - 2s 5ms/step - loss: 0.6517 - accuracy: 0.6550 - val_loss: 0.6497 - val_accuracy: 0.6505\n",
            "Epoch 20/30\n",
            "428/428 [==============================] - 2s 6ms/step - loss: 0.6494 - accuracy: 0.6500 - val_loss: 0.6381 - val_accuracy: 0.6519\n",
            "Epoch 21/30\n",
            "428/428 [==============================] - 2s 5ms/step - loss: 0.6565 - accuracy: 0.6433 - val_loss: 0.6634 - val_accuracy: 0.6519\n",
            "Epoch 22/30\n",
            "428/428 [==============================] - 2s 5ms/step - loss: 0.6533 - accuracy: 0.6464 - val_loss: 0.6375 - val_accuracy: 0.6519\n",
            "Epoch 23/30\n",
            "428/428 [==============================] - 2s 5ms/step - loss: 0.6482 - accuracy: 0.6537 - val_loss: 0.6396 - val_accuracy: 0.6519\n",
            "Epoch 24/30\n",
            "428/428 [==============================] - 2s 5ms/step - loss: 0.6523 - accuracy: 0.6509 - val_loss: 0.6451 - val_accuracy: 0.6519\n",
            "Epoch 25/30\n",
            "428/428 [==============================] - 2s 5ms/step - loss: 0.6498 - accuracy: 0.6476 - val_loss: 0.6454 - val_accuracy: 0.6519\n",
            "Epoch 26/30\n",
            "428/428 [==============================] - 2s 6ms/step - loss: 0.6512 - accuracy: 0.6547 - val_loss: 0.6423 - val_accuracy: 0.6519\n",
            "Epoch 27/30\n",
            "428/428 [==============================] - 2s 5ms/step - loss: 0.6552 - accuracy: 0.6400 - val_loss: 0.6917 - val_accuracy: 0.6519\n",
            "Epoch 28/30\n",
            "428/428 [==============================] - 2s 5ms/step - loss: 0.6491 - accuracy: 0.6561 - val_loss: 0.6810 - val_accuracy: 0.5270\n",
            "Epoch 29/30\n",
            "428/428 [==============================] - 2s 5ms/step - loss: 0.6550 - accuracy: 0.6476 - val_loss: 0.6362 - val_accuracy: 0.6519\n",
            "Epoch 30/30\n",
            "428/428 [==============================] - 2s 5ms/step - loss: 0.6452 - accuracy: 0.6579 - val_loss: 0.6403 - val_accuracy: 0.6519\n"
          ]
        },
        {
          "output_type": "execute_result",
          "data": {
            "text/plain": [
              "<keras.src.callbacks.History at 0x78b1a5394a90>"
            ]
          },
          "metadata": {},
          "execution_count": 136
        }
      ]
    },
    {
      "cell_type": "code",
      "source": [
        "print(model.history.history.keys())\n",
        "# summarize history for accuracy\n",
        "plt.plot(model.history.history['accuracy'])\n",
        "plt.plot(model.history.history['val_accuracy'])\n",
        "plt.title('model accuracy')\n",
        "plt.ylabel('accuracy')\n",
        "plt.xlabel('epoch')\n",
        "plt.legend(['train', 'val'], loc='upper left')\n",
        "plt.show()"
      ],
      "metadata": {
        "colab": {
          "base_uri": "https://localhost:8080/",
          "height": 489
        },
        "id": "sLlnJOsefIIz",
        "outputId": "63e1575a-b20a-4797-fb43-1aefcd153398"
      },
      "id": "sLlnJOsefIIz",
      "execution_count": 137,
      "outputs": [
        {
          "output_type": "stream",
          "name": "stdout",
          "text": [
            "dict_keys(['loss', 'accuracy', 'val_loss', 'val_accuracy'])\n"
          ]
        },
        {
          "output_type": "display_data",
          "data": {
            "text/plain": [
              "<Figure size 640x480 with 1 Axes>"
            ],
            "image/png": "[encoded data removed]"
          },
          "metadata": {}
        }
      ]
    },
    {
      "cell_type": "markdown",
      "source": [
        "# Я попробовал транспонировать матрицу в надежде, что это положительно повлияет на графики (они хотя бы не прямые теперь), но все равно по ощущениям это не то.."
      ],
      "metadata": {
        "id": "SppMVJdKpeVv"
      },
      "id": "SppMVJdKpeVv"
    }
  ],
  "metadata": {
    "kernelspec": {
      "display_name": "Python 3",
      "name": "python3"
    },
    "language_info": {
      "codemirror_mode": {
        "name": "ipython",
        "version": 3
      },
      "file_extension": ".py",
      "mimetype": "text/x-python",
      "name": "python",
      "nbconvert_exporter": "python",
      "pygments_lexer": "ipython3",
      "version": "3.9.16"
    },
    "colab": {
      "provenance": [],
      "gpuType": "T4"
    },
    "accelerator": "GPU"
  },
  "nbformat": 4,
  "nbformat_minor": 5
}
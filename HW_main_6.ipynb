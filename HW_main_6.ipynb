{
  "cells": [
    {
      "cell_type": "markdown",
      "id": "a98604cb",
      "metadata": {
        "id": "a98604cb"
      },
      "source": [
        "Домашку будет легче делать в колабе (убедитесь, что у вас runtype с gpu)."
      ]
    },
    {
      "cell_type": "markdown",
      "id": "9c422aa0",
      "metadata": {
        "id": "9c422aa0"
      },
      "source": [
        "# Задание 1 (3 балла)"
      ]
    },
    {
      "cell_type": "markdown",
      "id": "e4a72790",
      "metadata": {
        "id": "e4a72790"
      },
      "source": [
        "Обучите word2vec модели с негативным семплированием (cbow и skip-gram) с помощью tensorflow аналогично тому, как это было сделано в семинаре. Вам нужно изменить следующие пункты:\n",
        "1) добавьте лемматизацию в предобработку (любым способом)  \n",
        "2) измените размер окна в большую или меньшую сторону\n",
        "3) измените размерность итоговых векторов\n",
        "\n",
        "Выберете несколько не похожих по смыслу слов (не таких как в семинаре), и протестируйте полученные эмбединги (найдите ближайшие слова и оцените качество, как в семинаре).\n",
        "Постарайтесь обучать модели как можно дольше и на как можно большем количестве данных. (Но если у вас мало времени или ресурсов, то допустимо взять поменьше данных и поставить меньше эпох)"
      ]
    },
    {
      "cell_type": "code",
      "source": [
        "pip install pymystem3"
      ],
      "metadata": {
        "id": "Yamh3Q1IjaFJ"
      },
      "id": "Yamh3Q1IjaFJ",
      "execution_count": null,
      "outputs": []
    },
    {
      "cell_type": "code",
      "execution_count": 2,
      "id": "cde5fd96",
      "metadata": {
        "id": "cde5fd96"
      },
      "outputs": [],
      "source": [
        "import tensorflow as tf\n",
        "import numpy as np\n",
        "import pandas as pd\n",
        "from string import punctuation\n",
        "from sklearn.model_selection import train_test_split\n",
        "from collections import Counter\n",
        "import matplotlib.pyplot as plt\n",
        "from sklearn.decomposition import TruncatedSVD\n",
        "from sklearn.feature_extraction.text import CountVectorizer\n",
        "from sklearn.metrics.pairwise import cosine_distances\n",
        "\n",
        "from IPython.display import Image\n",
        "from IPython.core.display import HTML\n",
        "import re\n",
        "%matplotlib inline"
      ]
    },
    {
      "cell_type": "code",
      "source": [
        "# additional libraries\n",
        "from pymystem3 import Mystem\n",
        "m = Mystem()"
      ],
      "metadata": {
        "id": "ZlvQ4P0gjZha"
      },
      "id": "ZlvQ4P0gjZha",
      "execution_count": null,
      "outputs": []
    },
    {
      "cell_type": "code",
      "source": [
        "from google.colab import drive\n",
        "drive.mount('/content/drive')"
      ],
      "metadata": {
        "id": "hUdMOv7qorWD"
      },
      "id": "hUdMOv7qorWD",
      "execution_count": null,
      "outputs": []
    },
    {
      "cell_type": "code",
      "source": [
        "wiki = open('/content/drive/MyDrive/wiki_data.txt').read().split('\\n')"
      ],
      "metadata": {
        "id": "kCSK4uXP5rQL"
      },
      "id": "kCSK4uXP5rQL",
      "execution_count": 5,
      "outputs": []
    },
    {
      "cell_type": "code",
      "source": [
        "# здесь добавлена лемматизация\n",
        "def preprocess(text):\n",
        "    tokens = re.sub('#+', ' ', text.lower()).split()\n",
        "    tokens = [token.strip(punctuation) for token in tokens]\n",
        "    tokens = [m.lemmatize(token)[0] for token in tokens if token]\n",
        "    return tokens"
      ],
      "metadata": {
        "id": "qldHcFMIo-XH"
      },
      "id": "qldHcFMIo-XH",
      "execution_count": 6,
      "outputs": []
    },
    {
      "cell_type": "code",
      "source": [
        "vocab = Counter()\n",
        "\n",
        "for text in wiki:\n",
        "    vocab.update(preprocess(text))\n",
        "\n",
        "vocab"
      ],
      "metadata": {
        "id": "zEj4ykotp5tj"
      },
      "id": "zEj4ykotp5tj",
      "execution_count": null,
      "outputs": []
    },
    {
      "cell_type": "code",
      "source": [
        "filtered_vocab = set()\n",
        "\n",
        "for word in vocab:\n",
        "    if vocab[word] > 30:\n",
        "        filtered_vocab.add(word)\n",
        "\n",
        "word2id = {'PAD':0}\n",
        "\n",
        "for word in filtered_vocab:\n",
        "    word2id[word] = len(word2id)\n",
        "\n",
        "id2word = {i:word for word, i in word2id.items()}"
      ],
      "metadata": {
        "id": "vyUOkgeD3a6k"
      },
      "id": "vyUOkgeD3a6k",
      "execution_count": 8,
      "outputs": []
    },
    {
      "cell_type": "code",
      "source": [
        "sentences = []\n",
        "\n",
        "for text in wiki:\n",
        "    tokens = preprocess(text)\n",
        "    if not tokens:\n",
        "        continue\n",
        "    ids = [word2id[token] for token in tokens if token in word2id]\n",
        "    sentences.append(ids)"
      ],
      "metadata": {
        "id": "XkcDKc2X6UMT"
      },
      "id": "XkcDKc2X6UMT",
      "execution_count": 9,
      "outputs": []
    },
    {
      "cell_type": "markdown",
      "source": [
        "# SKIP GRAM\n"
      ],
      "metadata": {
        "id": "dLJULkftNV2E"
      },
      "id": "dLJULkftNV2E"
    },
    {
      "cell_type": "code",
      "source": [
        "# skip gram\n",
        "X = []\n",
        "y = []\n",
        "\n",
        "window = 7\n",
        "for sent in sentences[:1000]:\n",
        "    for i in range(len(sent)-1):\n",
        "        word = sent[i] # target\n",
        "        context = sent[max(0, i-window):i] + sent[i+1:i+window]  # context (слова до и после целевого)\n",
        "        # в начале и в конце окно будет неполным, но это не страшно\n",
        "\n",
        "        for context_word in context:\n",
        "            X.append(word)\n",
        "            y.append(context_word)"
      ],
      "metadata": {
        "id": "CIQw3qlf5nnj"
      },
      "id": "CIQw3qlf5nnj",
      "execution_count": 10,
      "outputs": []
    },
    {
      "cell_type": "code",
      "source": [
        "X[1], y[1]"
      ],
      "metadata": {
        "colab": {
          "base_uri": "https://localhost:8080/"
        },
        "id": "U33GtzaO6S3T",
        "outputId": "925ded1b-d402-45d0-f68d-1d68347443f3"
      },
      "id": "U33GtzaO6S3T",
      "execution_count": 11,
      "outputs": [
        {
          "output_type": "execute_result",
          "data": {
            "text/plain": [
              "(10334, 9525)"
            ]
          },
          "metadata": {},
          "execution_count": 11
        }
      ]
    },
    {
      "cell_type": "code",
      "source": [
        "len(X), len(y)"
      ],
      "metadata": {
        "colab": {
          "base_uri": "https://localhost:8080/"
        },
        "id": "3kW4o4Vc6TvZ",
        "outputId": "ef9ade07-4652-47f7-c35d-b3b1f062aa14"
      },
      "id": "3kW4o4Vc6TvZ",
      "execution_count": 12,
      "outputs": [
        {
          "output_type": "execute_result",
          "data": {
            "text/plain": [
              "(3004304, 3004304)"
            ]
          },
          "metadata": {},
          "execution_count": 12
        }
      ]
    },
    {
      "cell_type": "code",
      "source": [
        "X_train, X_valid, y_train, y_valid = train_test_split(X, y, test_size=0.05)"
      ],
      "metadata": {
        "id": "6mFUL07h6hya"
      },
      "id": "6mFUL07h6hya",
      "execution_count": 13,
      "outputs": []
    },
    {
      "cell_type": "code",
      "source": [
        "# инициализируем модель\n",
        "model = tf.keras.Sequential()\n",
        "\n",
        "# первым добавляем эмбединг слой\n",
        "model.add(tf.keras.layers.Embedding(input_dim=len(word2id),\n",
        "                                    input_length=1,\n",
        "                                    output_dim=200)) # также указываем желаемый размер эмбединга\n",
        "# flat размерность эмбедингов\n",
        "model.add(tf.keras.layers.Flatten())\n",
        "\n",
        "# И теперь 1 реальный слой, который называется полносвязным\n",
        "model.add(tf.keras.layers.Dense(len(word2id),\n",
        "                                activation='softmax'))\n",
        "\n",
        "\n",
        "model.compile(optimizer=tf.keras.optimizers.Adam(),\n",
        "              loss='sparse_categorical_crossentropy')"
      ],
      "metadata": {
        "id": "Hxi1huLZ6pgu"
      },
      "id": "Hxi1huLZ6pgu",
      "execution_count": 24,
      "outputs": []
    },
    {
      "cell_type": "code",
      "source": [
        "print(model.summary())"
      ],
      "metadata": {
        "colab": {
          "base_uri": "https://localhost:8080/"
        },
        "id": "TQZDnOr49es4",
        "outputId": "76698ac2-eb67-4558-ede4-ea037d12e316"
      },
      "id": "TQZDnOr49es4",
      "execution_count": 19,
      "outputs": [
        {
          "output_type": "stream",
          "name": "stdout",
          "text": [
            "Model: \"sequential_1\"\n",
            "_________________________________________________________________\n",
            " Layer (type)                Output Shape              Param #   \n",
            "=================================================================\n",
            " embedding_1 (Embedding)     (None, 1, 200)            2449400   \n",
            "                                                                 \n",
            " flatten_1 (Flatten)         (None, 200)               0         \n",
            "                                                                 \n",
            " dense_1 (Dense)             (None, 12247)             2461647   \n",
            "                                                                 \n",
            "=================================================================\n",
            "Total params: 4911047 (18.73 MB)\n",
            "Trainable params: 4911047 (18.73 MB)\n",
            "Non-trainable params: 0 (0.00 Byte)\n",
            "_________________________________________________________________\n",
            "None\n"
          ]
        }
      ]
    },
    {
      "cell_type": "code",
      "source": [
        "# обучение\n",
        "model.fit(X_train, y_train,\n",
        "          validation_data=(X_valid, y_valid),\n",
        "          batch_size=1000,\n",
        "         epochs=10)"
      ],
      "metadata": {
        "colab": {
          "base_uri": "https://localhost:8080/"
        },
        "id": "jgFrcfv99m7g",
        "outputId": "3252afaf-29fd-4dc6-e4c2-a31f2d508e20"
      },
      "id": "jgFrcfv99m7g",
      "execution_count": 20,
      "outputs": [
        {
          "output_type": "stream",
          "name": "stdout",
          "text": [
            "Epoch 1/10\n",
            "2855/2855 [==============================] - 48s 16ms/step - loss: 7.3411 - val_loss: 7.1041\n",
            "Epoch 2/10\n",
            "2855/2855 [==============================] - 31s 11ms/step - loss: 7.0007 - val_loss: 6.9498\n",
            "Epoch 3/10\n",
            "2855/2855 [==============================] - 31s 11ms/step - loss: 6.8366 - val_loss: 6.8684\n",
            "Epoch 4/10\n",
            "2855/2855 [==============================] - 30s 11ms/step - loss: 6.7117 - val_loss: 6.8320\n",
            "Epoch 5/10\n",
            "2855/2855 [==============================] - 31s 11ms/step - loss: 6.6119 - val_loss: 6.8243\n",
            "Epoch 6/10\n",
            "2855/2855 [==============================] - 31s 11ms/step - loss: 6.5308 - val_loss: 6.8343\n",
            "Epoch 7/10\n",
            "2855/2855 [==============================] - 31s 11ms/step - loss: 6.4641 - val_loss: 6.8563\n",
            "Epoch 8/10\n",
            "2855/2855 [==============================] - 31s 11ms/step - loss: 6.4081 - val_loss: 6.8838\n",
            "Epoch 9/10\n",
            "2855/2855 [==============================] - 31s 11ms/step - loss: 6.3611 - val_loss: 6.9137\n",
            "Epoch 10/10\n",
            "2855/2855 [==============================] - 31s 11ms/step - loss: 6.3219 - val_loss: 6.9433\n"
          ]
        },
        {
          "output_type": "execute_result",
          "data": {
            "text/plain": [
              "<keras.src.callbacks.History at 0x7d113c45d2d0>"
            ]
          },
          "metadata": {},
          "execution_count": 20
        }
      ]
    },
    {
      "cell_type": "code",
      "source": [
        "print(model.history.history.keys())\n",
        "# summarize history for accuracy\n",
        "plt.plot(model.history.history['loss'])\n",
        "plt.plot(model.history.history['val_loss'])\n",
        "plt.title('model loss')\n",
        "plt.ylabel('loss')\n",
        "plt.xlabel('epoch')\n",
        "plt.legend(['train', 'val'], loc='upper left')\n",
        "plt.show()"
      ],
      "metadata": {
        "colab": {
          "base_uri": "https://localhost:8080/",
          "height": 489
        },
        "id": "1MYf8nANG9Hv",
        "outputId": "06147070-93db-4ece-a62b-2bf9a827d9f6"
      },
      "id": "1MYf8nANG9Hv",
      "execution_count": 21,
      "outputs": [
        {
          "output_type": "stream",
          "name": "stdout",
          "text": [
            "dict_keys(['loss', 'val_loss'])\n"
          ]
        },
        {
          "output_type": "display_data",
          "data": {
            "text/plain": [
              "<Figure size 640x480 with 1 Axes>"
            ],
            "image/png": "[encoded data removed]"
          },
          "metadata": {}
        }
      ]
    },
    {
      "cell_type": "code",
      "source": [
        "# видно, что после 4й эпохи ошибка на валидации начала расти. Принято решение снизить кол-во эпох до 4"
      ],
      "metadata": {
        "id": "0VUDlBzmKWQa"
      },
      "id": "0VUDlBzmKWQa",
      "execution_count": null,
      "outputs": []
    },
    {
      "cell_type": "code",
      "source": [
        "# обучение\n",
        "model.fit(X_train, y_train,\n",
        "          validation_data=(X_valid, y_valid),\n",
        "          batch_size=1000,\n",
        "         epochs=4)"
      ],
      "metadata": {
        "colab": {
          "base_uri": "https://localhost:8080/"
        },
        "id": "pZNwN4OfKiqZ",
        "outputId": "3850a264-13fa-4096-8f5a-7651223c3ae1"
      },
      "id": "pZNwN4OfKiqZ",
      "execution_count": 25,
      "outputs": [
        {
          "output_type": "stream",
          "name": "stdout",
          "text": [
            "Epoch 1/4\n",
            "2855/2855 [==============================] - 39s 13ms/step - loss: 7.3419 - val_loss: 7.1060\n",
            "Epoch 2/4\n",
            "2855/2855 [==============================] - 31s 11ms/step - loss: 7.0005 - val_loss: 6.9493\n",
            "Epoch 3/4\n",
            "2855/2855 [==============================] - 30s 10ms/step - loss: 6.8364 - val_loss: 6.8693\n",
            "Epoch 4/4\n",
            "2855/2855 [==============================] - 30s 10ms/step - loss: 6.7113 - val_loss: 6.8330\n"
          ]
        },
        {
          "output_type": "execute_result",
          "data": {
            "text/plain": [
              "<keras.src.callbacks.History at 0x7d113de71f60>"
            ]
          },
          "metadata": {},
          "execution_count": 25
        }
      ]
    },
    {
      "cell_type": "code",
      "source": [
        "print(model.history.history.keys())\n",
        "# summarize history for accuracy\n",
        "plt.plot(model.history.history['loss'])\n",
        "plt.plot(model.history.history['val_loss'])\n",
        "plt.title('model loss')\n",
        "plt.ylabel('loss')\n",
        "plt.xlabel('epoch')\n",
        "plt.legend(['train', 'val'], loc='upper left')\n",
        "plt.show()"
      ],
      "metadata": {
        "colab": {
          "base_uri": "https://localhost:8080/",
          "height": 489
        },
        "id": "dNanLGlfKkNd",
        "outputId": "e3ce5921-145d-4bbb-efa1-ae093e701dfc"
      },
      "id": "dNanLGlfKkNd",
      "execution_count": 26,
      "outputs": [
        {
          "output_type": "stream",
          "name": "stdout",
          "text": [
            "dict_keys(['loss', 'val_loss'])\n"
          ]
        },
        {
          "output_type": "display_data",
          "data": {
            "text/plain": [
              "<Figure size 640x480 with 1 Axes>"
            ],
            "image/png": "[encoded data removed]"
          },
          "metadata": {}
        }
      ]
    },
    {
      "cell_type": "code",
      "source": [
        "model.layers"
      ],
      "metadata": {
        "colab": {
          "base_uri": "https://localhost:8080/"
        },
        "id": "47r8pCQZMmjZ",
        "outputId": "10a95b59-7723-4502-d625-dbf3e2e924bc"
      },
      "id": "47r8pCQZMmjZ",
      "execution_count": 27,
      "outputs": [
        {
          "output_type": "execute_result",
          "data": {
            "text/plain": [
              "[<keras.src.layers.core.embedding.Embedding at 0x7d10cc1bde40>,\n",
              " <keras.src.layers.reshaping.flatten.Flatten at 0x7d113fa52230>,\n",
              " <keras.src.layers.core.dense.Dense at 0x7d10bcf0ecb0>]"
            ]
          },
          "metadata": {},
          "execution_count": 27
        }
      ]
    },
    {
      "cell_type": "code",
      "source": [
        "# веса embedding слоя\n",
        "model.layers[0].get_weights()[0].shape"
      ],
      "metadata": {
        "colab": {
          "base_uri": "https://localhost:8080/"
        },
        "id": "9-SmusH0MpFg",
        "outputId": "533795de-375c-4f9a-cc39-93ae6af58e84"
      },
      "id": "9-SmusH0MpFg",
      "execution_count": 28,
      "outputs": [
        {
          "output_type": "execute_result",
          "data": {
            "text/plain": [
              "(12247, 200)"
            ]
          },
          "metadata": {},
          "execution_count": 28
        }
      ]
    },
    {
      "cell_type": "code",
      "source": [
        "# веса полносвязного слоя\n",
        "model.layers[2].get_weights()[0].shape"
      ],
      "metadata": {
        "colab": {
          "base_uri": "https://localhost:8080/"
        },
        "id": "mC-A-WgHMq0M",
        "outputId": "b79cc6f8-0528-401c-e576-8a41932878d3"
      },
      "id": "mC-A-WgHMq0M",
      "execution_count": 29,
      "outputs": [
        {
          "output_type": "execute_result",
          "data": {
            "text/plain": [
              "(200, 12247)"
            ]
          },
          "metadata": {},
          "execution_count": 29
        }
      ]
    },
    {
      "cell_type": "code",
      "source": [
        "embeddings_1 = model.layers[0].get_weights()[0]\n",
        "embeddings_2 = model.layers[2].get_weights()[0].T\n",
        "embeddings = np.mean([embeddings_1, embeddings_2], axis=0)"
      ],
      "metadata": {
        "id": "AkPLKR-VMvIu"
      },
      "id": "AkPLKR-VMvIu",
      "execution_count": 31,
      "outputs": []
    },
    {
      "cell_type": "code",
      "source": [
        "embeddings.shape"
      ],
      "metadata": {
        "colab": {
          "base_uri": "https://localhost:8080/"
        },
        "id": "gQdnAa6dMwg8",
        "outputId": "72c844e6-5009-4920-db79-d108679dcea4"
      },
      "id": "gQdnAa6dMwg8",
      "execution_count": 32,
      "outputs": [
        {
          "output_type": "execute_result",
          "data": {
            "text/plain": [
              "(12247, 200)"
            ]
          },
          "metadata": {},
          "execution_count": 32
        }
      ]
    },
    {
      "cell_type": "code",
      "source": [
        "def most_similar(word, embeddings):\n",
        "    similar = [id2word[i] for i in\n",
        "               cosine_distances(embeddings[word2id[word]].reshape(1, -1), embeddings).argsort()[0][:10]]\n",
        "    return similar"
      ],
      "metadata": {
        "id": "EfTdDxrVM5-v"
      },
      "id": "EfTdDxrVM5-v",
      "execution_count": 34,
      "outputs": []
    },
    {
      "cell_type": "code",
      "source": [
        "most_similar('мама', embeddings)"
      ],
      "metadata": {
        "colab": {
          "base_uri": "https://localhost:8080/"
        },
        "id": "T9Cusop3M07Q",
        "outputId": "19d6360e-2992-4d70-e263-6e8c8a82779e"
      },
      "id": "T9Cusop3M07Q",
      "execution_count": 36,
      "outputs": [
        {
          "output_type": "execute_result",
          "data": {
            "text/plain": [
              "['мама',\n",
              " 'ярость',\n",
              " 'телефильм',\n",
              " 'пробовать',\n",
              " 'ценить',\n",
              " 'ада',\n",
              " 'сатира',\n",
              " 'наказывать',\n",
              " 'переделывать',\n",
              " 'вкус']"
            ]
          },
          "metadata": {},
          "execution_count": 36
        }
      ]
    },
    {
      "cell_type": "code",
      "source": [
        "most_similar('жизнь', embeddings)"
      ],
      "metadata": {
        "colab": {
          "base_uri": "https://localhost:8080/"
        },
        "id": "3mqUlO1cNHWH",
        "outputId": "cec20fc1-c8a1-4f73-d265-473ed82248e4"
      },
      "id": "3mqUlO1cNHWH",
      "execution_count": 37,
      "outputs": [
        {
          "output_type": "execute_result",
          "data": {
            "text/plain": [
              "['жизнь',\n",
              " 'посвящать',\n",
              " 'рассказывать',\n",
              " 'жить',\n",
              " 'свой',\n",
              " 'последний',\n",
              " 'вселенная',\n",
              " 'событие',\n",
              " 'наш',\n",
              " 'ребенок']"
            ]
          },
          "metadata": {},
          "execution_count": 37
        }
      ]
    },
    {
      "cell_type": "code",
      "source": [
        "# сомнительное качество..."
      ],
      "metadata": {
        "id": "bDDnmLEINLOl"
      },
      "id": "bDDnmLEINLOl",
      "execution_count": null,
      "outputs": []
    },
    {
      "cell_type": "markdown",
      "source": [
        "# CBOW\n",
        "\n"
      ],
      "metadata": {
        "id": "aiZYO7JO6bjS"
      },
      "id": "aiZYO7JO6bjS"
    },
    {
      "cell_type": "code",
      "source": [
        "X = []\n",
        "y = []\n",
        "\n",
        "window = 5\n",
        "for sent in sentences[:10000]:\n",
        "    for i in range(len(sent)-1):\n",
        "        word = sent[i]\n",
        "        context = sent[max(0, i-window):i] + sent[i+1:i+window]\n",
        "\n",
        "        X.append(context)\n",
        "        y.append(word)"
      ],
      "metadata": {
        "id": "SGHXMA41NfrG"
      },
      "id": "SGHXMA41NfrG",
      "execution_count": 38,
      "outputs": []
    },
    {
      "cell_type": "code",
      "source": [
        "# оригинальные контексты\n",
        "X[:10]"
      ],
      "metadata": {
        "colab": {
          "base_uri": "https://localhost:8080/"
        },
        "id": "qk9_lxvGNpNz",
        "outputId": "fe009e24-0126-4d24-ffc5-1d39d0644a16"
      },
      "id": "qk9_lxvGNpNz",
      "execution_count": 39,
      "outputs": [
        {
          "output_type": "execute_result",
          "data": {
            "text/plain": [
              "[[6622, 9525, 276, 6974],\n",
              " [10334, 9525, 276, 6974, 12173],\n",
              " [10334, 6622, 276, 6974, 12173, 655],\n",
              " [10334, 6622, 9525, 6974, 12173, 655, 586],\n",
              " [10334, 6622, 9525, 276, 12173, 655, 586, 10334],\n",
              " [10334, 6622, 9525, 276, 6974, 655, 586, 10334, 6622],\n",
              " [6622, 9525, 276, 6974, 12173, 586, 10334, 6622, 11905],\n",
              " [9525, 276, 6974, 12173, 655, 10334, 6622, 11905, 12173],\n",
              " [276, 6974, 12173, 655, 586, 6622, 11905, 12173, 7274],\n",
              " [6974, 12173, 655, 586, 10334, 11905, 12173, 7274, 3930]]"
            ]
          },
          "metadata": {},
          "execution_count": 39
        }
      ]
    },
    {
      "cell_type": "code",
      "source": [
        "X = tf.keras.preprocessing.sequence.pad_sequences(X, maxlen=10, padding='post')\n",
        "y = np.array(y)"
      ],
      "metadata": {
        "id": "FAAtZyb8NtOe"
      },
      "id": "FAAtZyb8NtOe",
      "execution_count": 40,
      "outputs": []
    },
    {
      "cell_type": "code",
      "source": [
        "# контексты после паддинга\n",
        "X"
      ],
      "metadata": {
        "colab": {
          "base_uri": "https://localhost:8080/"
        },
        "id": "-gsIejfQNu8m",
        "outputId": "f26aae2f-84e5-4a52-f8bc-c5fe97a90546"
      },
      "id": "-gsIejfQNu8m",
      "execution_count": 41,
      "outputs": [
        {
          "output_type": "execute_result",
          "data": {
            "text/plain": [
              "array([[ 6622,  9525,   276, ...,     0,     0,     0],\n",
              "       [10334,  9525,   276, ...,     0,     0,     0],\n",
              "       [10334,  6622,   276, ...,     0,     0,     0],\n",
              "       ...,\n",
              "       [ 4458,  8590, 12173, ...,   633,     0,     0],\n",
              "       [ 8590, 12173, 12173, ...,     0,     0,     0],\n",
              "       [12173, 12173,   658, ...,     0,     0,     0]], dtype=int32)"
            ]
          },
          "metadata": {},
          "execution_count": 41
        }
      ]
    },
    {
      "cell_type": "code",
      "source": [
        "X_train, X_valid, y_train, y_valid = train_test_split(X, y, test_size=0.05)"
      ],
      "metadata": {
        "id": "q2qHiXtvNwy7"
      },
      "id": "q2qHiXtvNwy7",
      "execution_count": 42,
      "outputs": []
    },
    {
      "cell_type": "code",
      "source": [
        "model = tf.keras.Sequential()\n",
        "model.add(tf.keras.layers.Embedding(input_dim=len(word2id),\n",
        "                                    input_length=10,\n",
        "                                    output_dim=200))\n",
        "\n",
        "# 2 отличие - нужно усреднить контекст в 1 вектор\n",
        "model.add(tf.keras.layers.Lambda(lambda x: tf.keras.backend.sum(x, axis=1)))\n",
        "\n",
        "model.add(tf.keras.layers.Dense(len(word2id), activation='softmax'))\n",
        "model.compile(optimizer=tf.keras.optimizers.Adam(lr=0.001), loss='sparse_categorical_crossentropy')"
      ],
      "metadata": {
        "colab": {
          "base_uri": "https://localhost:8080/"
        },
        "id": "2Vl_8BqgN5Ih",
        "outputId": "a7e58d78-66f7-4206-eba4-9d2e16c57f0d"
      },
      "id": "2Vl_8BqgN5Ih",
      "execution_count": 47,
      "outputs": [
        {
          "output_type": "stream",
          "name": "stderr",
          "text": [
            "WARNING:absl:`lr` is deprecated in Keras optimizer, please use `learning_rate` or use the legacy optimizer, e.g.,tf.keras.optimizers.legacy.Adam.\n"
          ]
        }
      ]
    },
    {
      "cell_type": "code",
      "source": [
        "print(model.summary())"
      ],
      "metadata": {
        "colab": {
          "base_uri": "https://localhost:8080/"
        },
        "id": "Y04cj0fON9WM",
        "outputId": "0844d449-4670-44eb-d8af-af9f28e5d8cf"
      },
      "id": "Y04cj0fON9WM",
      "execution_count": 44,
      "outputs": [
        {
          "output_type": "stream",
          "name": "stdout",
          "text": [
            "Model: \"sequential_3\"\n",
            "_________________________________________________________________\n",
            " Layer (type)                Output Shape              Param #   \n",
            "=================================================================\n",
            " embedding_3 (Embedding)     (None, 10, 100)           1224700   \n",
            "                                                                 \n",
            " lambda (Lambda)             (None, 100)               0         \n",
            "                                                                 \n",
            " dense_3 (Dense)             (None, 12247)             1236947   \n",
            "                                                                 \n",
            "=================================================================\n",
            "Total params: 2461647 (9.39 MB)\n",
            "Trainable params: 2461647 (9.39 MB)\n",
            "Non-trainable params: 0 (0.00 Byte)\n",
            "_________________________________________________________________\n",
            "None\n"
          ]
        }
      ]
    },
    {
      "cell_type": "code",
      "source": [
        "model.fit(X_train, y_train,\n",
        "          validation_data=(X_valid, y_valid),\n",
        "          batch_size=1000,\n",
        "         epochs=10)"
      ],
      "metadata": {
        "colab": {
          "base_uri": "https://localhost:8080/"
        },
        "id": "63DB8m48N_5h",
        "outputId": "c97bb537-3ec2-42d3-8dc9-a92fc38d4901"
      },
      "id": "63DB8m48N_5h",
      "execution_count": 45,
      "outputs": [
        {
          "output_type": "stream",
          "name": "stdout",
          "text": [
            "Epoch 1/10\n",
            "2045/2045 [==============================] - 55s 26ms/step - loss: 6.7879 - val_loss: 6.2289\n",
            "Epoch 2/10\n",
            "2045/2045 [==============================] - 20s 10ms/step - loss: 5.9598 - val_loss: 5.8835\n",
            "Epoch 3/10\n",
            "2045/2045 [==============================] - 21s 10ms/step - loss: 5.6277 - val_loss: 5.7362\n",
            "Epoch 4/10\n",
            "2045/2045 [==============================] - 19s 9ms/step - loss: 5.4222 - val_loss: 5.6689\n",
            "Epoch 5/10\n",
            "2045/2045 [==============================] - 20s 10ms/step - loss: 5.2795 - val_loss: 5.6382\n",
            "Epoch 6/10\n",
            "2045/2045 [==============================] - 19s 9ms/step - loss: 5.1740 - val_loss: 5.6310\n",
            "Epoch 7/10\n",
            "2045/2045 [==============================] - 19s 9ms/step - loss: 5.0926 - val_loss: 5.6354\n",
            "Epoch 8/10\n",
            "2045/2045 [==============================] - 19s 9ms/step - loss: 5.0277 - val_loss: 5.6481\n",
            "Epoch 9/10\n",
            "2045/2045 [==============================] - 18s 9ms/step - loss: 4.9748 - val_loss: 5.6618\n",
            "Epoch 10/10\n",
            "2045/2045 [==============================] - 19s 9ms/step - loss: 4.9305 - val_loss: 5.6789\n"
          ]
        },
        {
          "output_type": "execute_result",
          "data": {
            "text/plain": [
              "<keras.src.callbacks.History at 0x7d10bd723610>"
            ]
          },
          "metadata": {},
          "execution_count": 45
        }
      ]
    },
    {
      "cell_type": "code",
      "source": [
        "print(model.history.history.keys())\n",
        "# summarize history for accuracy\n",
        "plt.plot(model.history.history['loss'])\n",
        "plt.plot(model.history.history['val_loss'])\n",
        "plt.title('model loss')\n",
        "plt.ylabel('loss')\n",
        "plt.xlabel('epoch')\n",
        "plt.legend(['train', 'val'], loc='upper left')\n",
        "plt.show()"
      ],
      "metadata": {
        "colab": {
          "base_uri": "https://localhost:8080/",
          "height": 489
        },
        "id": "jTDsjmffOFPd",
        "outputId": "6af3b7e1-0d32-4592-8ad1-23ba77b99d46"
      },
      "id": "jTDsjmffOFPd",
      "execution_count": 46,
      "outputs": [
        {
          "output_type": "stream",
          "name": "stdout",
          "text": [
            "dict_keys(['loss', 'val_loss'])\n"
          ]
        },
        {
          "output_type": "display_data",
          "data": {
            "text/plain": [
              "<Figure size 640x480 with 1 Axes>"
            ],
            "image/png": "[encoded data removed]"
          },
          "metadata": {}
        }
      ]
    },
    {
      "cell_type": "code",
      "source": [
        "# интересно, но ситуация аналогичная.. Опять снизим кол-во эпох"
      ],
      "metadata": {
        "id": "u17pzja_PsNV"
      },
      "id": "u17pzja_PsNV",
      "execution_count": null,
      "outputs": []
    },
    {
      "cell_type": "code",
      "source": [
        "model.fit(X_train, y_train,\n",
        "          validation_data=(X_valid, y_valid),\n",
        "          batch_size=1000,\n",
        "         epochs=4)"
      ],
      "metadata": {
        "colab": {
          "base_uri": "https://localhost:8080/"
        },
        "id": "SJSYSocWPy38",
        "outputId": "87729ad7-3aef-49d7-9682-50eae46b17f5"
      },
      "id": "SJSYSocWPy38",
      "execution_count": 48,
      "outputs": [
        {
          "output_type": "stream",
          "name": "stdout",
          "text": [
            "Epoch 1/4\n",
            "2045/2045 [==============================] - 57s 27ms/step - loss: 6.5662 - val_loss: 6.0009\n",
            "Epoch 2/4\n",
            "2045/2045 [==============================] - 26s 13ms/step - loss: 5.6874 - val_loss: 5.6824\n",
            "Epoch 3/4\n",
            "2045/2045 [==============================] - 23s 11ms/step - loss: 5.3130 - val_loss: 5.5703\n",
            "Epoch 4/4\n",
            "2045/2045 [==============================] - 23s 11ms/step - loss: 5.0633 - val_loss: 5.5364\n"
          ]
        },
        {
          "output_type": "execute_result",
          "data": {
            "text/plain": [
              "<keras.src.callbacks.History at 0x7d107a8f3b20>"
            ]
          },
          "metadata": {},
          "execution_count": 48
        }
      ]
    },
    {
      "cell_type": "code",
      "source": [
        "print(model.history.history.keys())\n",
        "# summarize history for accuracy\n",
        "plt.plot(model.history.history['loss'])\n",
        "plt.plot(model.history.history['val_loss'])\n",
        "plt.title('model loss')\n",
        "plt.ylabel('loss')\n",
        "plt.xlabel('epoch')\n",
        "plt.legend(['train', 'val'], loc='upper left')\n",
        "plt.show()"
      ],
      "metadata": {
        "colab": {
          "base_uri": "https://localhost:8080/",
          "height": 489
        },
        "id": "YfW63hFhP0V3",
        "outputId": "b5529eeb-30e1-4470-8b9c-d443a4071a1f"
      },
      "id": "YfW63hFhP0V3",
      "execution_count": 49,
      "outputs": [
        {
          "output_type": "stream",
          "name": "stdout",
          "text": [
            "dict_keys(['loss', 'val_loss'])\n"
          ]
        },
        {
          "output_type": "display_data",
          "data": {
            "text/plain": [
              "<Figure size 640x480 with 1 Axes>"
            ],
            "image/png": "[encoded data removed]"
          },
          "metadata": {}
        }
      ]
    },
    {
      "cell_type": "code",
      "source": [
        "model.layers"
      ],
      "metadata": {
        "colab": {
          "base_uri": "https://localhost:8080/"
        },
        "id": "DWT_PnRxQcgP",
        "outputId": "34b24f41-8672-4285-c04b-5097f3d1fd2d"
      },
      "id": "DWT_PnRxQcgP",
      "execution_count": 50,
      "outputs": [
        {
          "output_type": "execute_result",
          "data": {
            "text/plain": [
              "[<keras.src.layers.core.embedding.Embedding at 0x7d113df12560>,\n",
              " <keras.src.layers.core.lambda_layer.Lambda at 0x7d113de1b070>,\n",
              " <keras.src.layers.core.dense.Dense at 0x7d113de0c130>]"
            ]
          },
          "metadata": {},
          "execution_count": 50
        }
      ]
    },
    {
      "cell_type": "code",
      "source": [
        "# веса embedding слоя\n",
        "model.layers[0].get_weights()[0].shape"
      ],
      "metadata": {
        "colab": {
          "base_uri": "https://localhost:8080/"
        },
        "id": "d2VK1EJgQjH_",
        "outputId": "8188e163-5a7c-4bc7-a01d-975a2ac06620"
      },
      "id": "d2VK1EJgQjH_",
      "execution_count": 51,
      "outputs": [
        {
          "output_type": "execute_result",
          "data": {
            "text/plain": [
              "(12247, 200)"
            ]
          },
          "metadata": {},
          "execution_count": 51
        }
      ]
    },
    {
      "cell_type": "code",
      "source": [
        "# веса полносвязного слоя\n",
        "model.layers[2].get_weights()[0].shape"
      ],
      "metadata": {
        "colab": {
          "base_uri": "https://localhost:8080/"
        },
        "id": "_-qzhWrTQk_j",
        "outputId": "5e479149-aa52-45de-9f4e-ee043752300d"
      },
      "id": "_-qzhWrTQk_j",
      "execution_count": 52,
      "outputs": [
        {
          "output_type": "execute_result",
          "data": {
            "text/plain": [
              "(200, 12247)"
            ]
          },
          "metadata": {},
          "execution_count": 52
        }
      ]
    },
    {
      "cell_type": "code",
      "source": [
        "embeddings_1 = model.layers[0].get_weights()[0]\n",
        "embeddings_2 = model.layers[2].get_weights()[0].T\n",
        "embeddings = np.mean([embeddings_1, embeddings_2], axis=0)"
      ],
      "metadata": {
        "id": "iDd7NtJBQmvu"
      },
      "id": "iDd7NtJBQmvu",
      "execution_count": 53,
      "outputs": []
    },
    {
      "cell_type": "code",
      "source": [
        "embeddings.shape"
      ],
      "metadata": {
        "colab": {
          "base_uri": "https://localhost:8080/"
        },
        "id": "udfBo-1TQoW3",
        "outputId": "369e9532-9e70-4f5d-8419-31f3c5ce8a2c"
      },
      "id": "udfBo-1TQoW3",
      "execution_count": 54,
      "outputs": [
        {
          "output_type": "execute_result",
          "data": {
            "text/plain": [
              "(12247, 200)"
            ]
          },
          "metadata": {},
          "execution_count": 54
        }
      ]
    },
    {
      "cell_type": "code",
      "source": [
        "most_similar('мама', embeddings)"
      ],
      "metadata": {
        "colab": {
          "base_uri": "https://localhost:8080/"
        },
        "id": "jMX0K-CEQq5v",
        "outputId": "f8d1e579-bddc-4d32-98aa-15fdbf41682a"
      },
      "id": "jMX0K-CEQq5v",
      "execution_count": 55,
      "outputs": [
        {
          "output_type": "execute_result",
          "data": {
            "text/plain": [
              "['мама',\n",
              " 'слушать',\n",
              " 'полюбить',\n",
              " 'звать',\n",
              " 'энни',\n",
              " 'нравиться',\n",
              " 'плакать',\n",
              " 'влюбляться',\n",
              " 'бобби',\n",
              " 'мечта']"
            ]
          },
          "metadata": {},
          "execution_count": 55
        }
      ]
    },
    {
      "cell_type": "code",
      "source": [
        "most_similar('жизнь', embeddings)"
      ],
      "metadata": {
        "colab": {
          "base_uri": "https://localhost:8080/"
        },
        "id": "J0iaO6lvQtwc",
        "outputId": "3573069c-3934-4bea-cc59-c187c6edb417"
      },
      "id": "J0iaO6lvQtwc",
      "execution_count": 56,
      "outputs": [
        {
          "output_type": "execute_result",
          "data": {
            "text/plain": [
              "['жизнь',\n",
              " 'самоубийство',\n",
              " 'покончить',\n",
              " 'повседневный',\n",
              " 'вести',\n",
              " 'служение',\n",
              " 'уносить',\n",
              " 'жизненный',\n",
              " 'посвящать',\n",
              " 'здоровый']"
            ]
          },
          "metadata": {},
          "execution_count": 56
        }
      ]
    },
    {
      "cell_type": "code",
      "source": [
        "# CBOW отрабатывает лучше"
      ],
      "metadata": {
        "id": "Kl8wsCh_Q-O8"
      },
      "id": "Kl8wsCh_Q-O8",
      "execution_count": null,
      "outputs": []
    },
    {
      "cell_type": "markdown",
      "source": [
        "# ОБУЧЕНИЕ С Negative sampling\n"
      ],
      "metadata": {
        "id": "QlToorf-RT0F"
      },
      "id": "QlToorf-RT0F"
    },
    {
      "cell_type": "code",
      "source": [
        "vocab_size = len(id2word)"
      ],
      "metadata": {
        "id": "46AvhSMVRZKo"
      },
      "id": "46AvhSMVRZKo",
      "execution_count": 57,
      "outputs": []
    },
    {
      "cell_type": "code",
      "source": [
        "# skip gram\n",
        "def gen_batches_sg(sentences, window = 7, batch_size=1000):\n",
        "\n",
        "    # параметр window задает его целиком\n",
        "    # нам нужно поделить его пополам на левую и правую часть\n",
        "    # когда делится неровно, то левая часть больше на 1\n",
        "    left_context_length = (window/2).__ceil__() # округлить в большую сторону\n",
        "    right_context_length = window // 2 # округлить в меньшую сторону\n",
        "\n",
        "    while True:\n",
        "        X_target = []\n",
        "        X_context = []\n",
        "        y = []\n",
        "\n",
        "        for sent in sentences:\n",
        "            for i in range(len(sent)-1):\n",
        "                word = sent[i]\n",
        "                context = sent[max(0, i-left_context_length):i] + sent[i+1:i+right_context_length]\n",
        "                for context_word in context:\n",
        "                    X_target.append(word)\n",
        "                    X_context.append(context_word)\n",
        "                    y.append(1)\n",
        "\n",
        "                    X_target.append(word)\n",
        "                    X_context.append(np.random.randint(vocab_size))\n",
        "                    y.append(0)\n",
        "\n",
        "                    if len(X_target) >= batch_size:\n",
        "                        X_target = np.array(X_target)\n",
        "                        X_context = np.array(X_context)\n",
        "                        y = np.array(y)\n",
        "                        yield ((X_target, X_context), y)\n",
        "                        X_target = []\n",
        "                        X_context = []\n",
        "                        y = []"
      ],
      "metadata": {
        "id": "L0OnnMBPU3wz"
      },
      "id": "L0OnnMBPU3wz",
      "execution_count": 119,
      "outputs": []
    },
    {
      "cell_type": "code",
      "source": [
        "# cbow\n",
        "def gen_batches_cbow(sentences, window = 7, batch_size=1000):\n",
        "\n",
        "    # параметр window задает его целиком\n",
        "    # нам нужно поделить его пополам на левую и правую часть\n",
        "    # когда делится неровно, то левая часть больше на 1\n",
        "    left_context_length = (window/2).__ceil__() # округлить в большую сторону\n",
        "    right_context_length = window // 2 # округлить в меньшую сторону\n",
        "\n",
        "    while True:\n",
        "        X_target = []\n",
        "        X_context = []\n",
        "        y = []\n",
        "\n",
        "        for sent in sentences:\n",
        "            for i in range(len(sent)-1):\n",
        "                word = sent[i]\n",
        "                context = sent[max(0, i-left_context_length):i] + sent[i+1:i+right_context_length]\n",
        "\n",
        "                X_target.append(word)\n",
        "                X_context.append(context)\n",
        "                y.append(1)\n",
        "\n",
        "                X_target.append(np.random.randint(vocab_size))\n",
        "                X_context.append(context)\n",
        "                y.append(0)\n",
        "\n",
        "                if len(X_target) == batch_size:\n",
        "                    X_target = np.array(X_target)\n",
        "                    X_context = tf.keras.preprocessing.sequence.pad_sequences(X_context, maxlen=window)\n",
        "                    y = np.array(y)\n",
        "                    yield ((X_target, X_context), y)\n",
        "                    X_target = []\n",
        "                    X_context = []\n",
        "                    y = []"
      ],
      "metadata": {
        "id": "_A1G9O9yU69K"
      },
      "id": "_A1G9O9yU69K",
      "execution_count": 120,
      "outputs": []
    },
    {
      "cell_type": "code",
      "source": [
        "inputs_target = tf.keras.layers.Input(shape=(1,))\n",
        "inputs_context = tf.keras.layers.Input(shape=(1,))\n",
        "\n",
        "\n",
        "embeddings_target = tf.keras.layers.Embedding(input_dim=len(word2id), output_dim=200)(inputs_target, )\n",
        "embeddings_context = tf.keras.layers.Embedding(input_dim=len(word2id), output_dim=200)(inputs_context, )\n",
        "\n",
        "target = tf.keras.layers.Flatten()(embeddings_target)\n",
        "context = tf.keras.layers.Flatten()(embeddings_context)\n",
        "\n",
        "dot = tf.keras.layers.Dot(1)([target, context])\n",
        "outputs = tf.keras.layers.Activation(activation='sigmoid')(dot)\n",
        "\n",
        "model = tf.keras.Model(inputs=[inputs_target, inputs_context],\n",
        "                       outputs=outputs)\n",
        "optimizer = tf.keras.optimizers.Adam(learning_rate=0.001)\n",
        "model.compile(optimizer=optimizer,\n",
        "              loss='binary_crossentropy',\n",
        "              metrics=['accuracy'])"
      ],
      "metadata": {
        "id": "raw_17kBVRF8"
      },
      "id": "raw_17kBVRF8",
      "execution_count": 121,
      "outputs": []
    },
    {
      "cell_type": "code",
      "source": [
        "model.fit(gen_batches_sg(sentences[:19000], window=5),\n",
        "          validation_data=gen_batches_sg(sentences[19000:],  window=5),\n",
        "          batch_size=1000,\n",
        "          steps_per_epoch=10000,\n",
        "          validation_steps=30,\n",
        "         epochs=5)"
      ],
      "metadata": {
        "colab": {
          "base_uri": "https://localhost:8080/"
        },
        "id": "oBgkC6Z7ZFhB",
        "outputId": "6e270881-3c1b-45cd-e209-f0fe7064d933"
      },
      "id": "oBgkC6Z7ZFhB",
      "execution_count": 122,
      "outputs": [
        {
          "output_type": "stream",
          "name": "stdout",
          "text": [
            "Epoch 1/5\n",
            "10000/10000 [==============================] - 108s 11ms/step - loss: 0.6220 - accuracy: 0.5844 - val_loss: 0.6278 - val_accuracy: 0.5813\n",
            "Epoch 2/5\n",
            "10000/10000 [==============================] - 68s 7ms/step - loss: 0.6125 - accuracy: 0.5904 - val_loss: 0.6085 - val_accuracy: 0.5940\n",
            "Epoch 3/5\n",
            "10000/10000 [==============================] - 70s 7ms/step - loss: 0.6084 - accuracy: 0.5931 - val_loss: 0.6085 - val_accuracy: 0.5870\n",
            "Epoch 4/5\n",
            "10000/10000 [==============================] - 73s 7ms/step - loss: 0.6060 - accuracy: 0.5932 - val_loss: 0.6012 - val_accuracy: 0.5925\n",
            "Epoch 5/5\n",
            "10000/10000 [==============================] - 68s 7ms/step - loss: 0.6035 - accuracy: 0.5940 - val_loss: 0.6031 - val_accuracy: 0.5924\n"
          ]
        },
        {
          "output_type": "execute_result",
          "data": {
            "text/plain": [
              "<keras.src.callbacks.History at 0x7d0fbdbff640>"
            ]
          },
          "metadata": {},
          "execution_count": 122
        }
      ]
    },
    {
      "cell_type": "code",
      "source": [
        "SG_embeddings = model.layers[2].get_weights()[0]"
      ],
      "metadata": {
        "id": "1ztxhR-DZMQG"
      },
      "id": "1ztxhR-DZMQG",
      "execution_count": 123,
      "outputs": []
    },
    {
      "cell_type": "code",
      "source": [
        "most_similar('мама', embeddings)"
      ],
      "metadata": {
        "colab": {
          "base_uri": "https://localhost:8080/"
        },
        "id": "GUrxt6avZNiZ",
        "outputId": "a76ba4fc-f6b4-468c-c078-8f22b855e4a1"
      },
      "id": "GUrxt6avZNiZ",
      "execution_count": 63,
      "outputs": [
        {
          "output_type": "execute_result",
          "data": {
            "text/plain": [
              "['мама',\n",
              " 'лиза',\n",
              " 'тома',\n",
              " 'пес',\n",
              " 'бри',\n",
              " 'бен',\n",
              " 'мистер',\n",
              " 'лиззи',\n",
              " 'билли',\n",
              " 'гроувер']"
            ]
          },
          "metadata": {},
          "execution_count": 63
        }
      ]
    },
    {
      "cell_type": "code",
      "source": [
        "most_similar('жизнь', embeddings)"
      ],
      "metadata": {
        "colab": {
          "base_uri": "https://localhost:8080/"
        },
        "id": "0EtyZpHBZQSi",
        "outputId": "56f0e5e2-468e-45ea-e3a9-e6beb17d77f5"
      },
      "id": "0EtyZpHBZQSi",
      "execution_count": 64,
      "outputs": [
        {
          "output_type": "execute_result",
          "data": {
            "text/plain": [
              "['жизнь',\n",
              " 'жизненный',\n",
              " 'семейный',\n",
              " 'сознание',\n",
              " 'счастие',\n",
              " 'рыбак',\n",
              " 'месть',\n",
              " 'горожанин',\n",
              " 'самоубийство',\n",
              " 'сексуальный']"
            ]
          },
          "metadata": {},
          "execution_count": 64
        }
      ]
    },
    {
      "cell_type": "code",
      "source": [
        "# уже гораздо лучше, чем обучение без NS"
      ],
      "metadata": {
        "id": "QYe20hd_axS2"
      },
      "id": "QYe20hd_axS2",
      "execution_count": null,
      "outputs": []
    },
    {
      "cell_type": "code",
      "source": [
        "inputs_target = tf.keras.layers.Input(shape=(1,))\n",
        "inputs_context = tf.keras.layers.Input(shape=(10,))\n",
        "\n",
        "\n",
        "embeddings_target = tf.keras.layers.Embedding(input_dim=len(word2id), output_dim=200)(inputs_target, )\n",
        "embeddings_context = tf.keras.layers.Embedding(input_dim=len(word2id), output_dim=200)(inputs_context, )\n",
        "\n",
        "target = tf.keras.layers.Flatten()(embeddings_target)\n",
        "context = tf.keras.layers.Lambda(lambda x: tf.keras.backend.sum(x, axis=1))(embeddings_context)\n",
        "dot = tf.keras.layers.Dot(1)([target, context])\n",
        "\n",
        "# полученную близость нужно преобразовать в вероятность\n",
        "# когда она одна используется не софтмакс и сигмоида\n",
        "outputs = tf.keras.layers.Activation(activation='sigmoid')(dot)\n",
        "\n",
        "model = tf.keras.Model(inputs=[inputs_target, inputs_context],\n",
        "                       outputs=outputs)\n",
        "\n",
        "\n",
        "optimizer = tf.keras.optimizers.Adam(learning_rate=0.001)\n",
        "model.compile(optimizer=optimizer,\n",
        "              loss='binary_crossentropy',\n",
        "              metrics=['accuracy'])"
      ],
      "metadata": {
        "id": "V39werNma16b"
      },
      "id": "V39werNma16b",
      "execution_count": 124,
      "outputs": []
    },
    {
      "cell_type": "code",
      "source": [
        "model.fit(gen_batches_cbow(sentences[:19000], window=5),\n",
        "          validation_data=gen_batches_cbow(sentences[19000:],  window=5),\n",
        "          batch_size=1000,\n",
        "          steps_per_epoch=5000,\n",
        "          validation_steps=30,\n",
        "         epochs=5)"
      ],
      "metadata": {
        "colab": {
          "base_uri": "https://localhost:8080/"
        },
        "id": "hFrch1kEa4bu",
        "outputId": "2278757f-a759-4948-9844-95b8f1ab9829"
      },
      "id": "hFrch1kEa4bu",
      "execution_count": 125,
      "outputs": [
        {
          "output_type": "stream",
          "name": "stdout",
          "text": [
            "Epoch 1/5\n",
            "5000/5000 [==============================] - 124s 25ms/step - loss: 0.5461 - accuracy: 0.6698 - val_loss: 0.5374 - val_accuracy: 0.6737\n",
            "Epoch 2/5\n",
            "5000/5000 [==============================] - 54s 11ms/step - loss: 0.5176 - accuracy: 0.6846 - val_loss: 0.5186 - val_accuracy: 0.6818\n",
            "Epoch 3/5\n",
            "5000/5000 [==============================] - 49s 10ms/step - loss: 0.5001 - accuracy: 0.6912 - val_loss: 0.5074 - val_accuracy: 0.6862\n",
            "Epoch 4/5\n",
            "5000/5000 [==============================] - 49s 10ms/step - loss: 0.4892 - accuracy: 0.6961 - val_loss: 0.4937 - val_accuracy: 0.6949\n",
            "Epoch 5/5\n",
            "5000/5000 [==============================] - 50s 10ms/step - loss: 0.4798 - accuracy: 0.6999 - val_loss: 0.5063 - val_accuracy: 0.6882\n"
          ]
        },
        {
          "output_type": "execute_result",
          "data": {
            "text/plain": [
              "<keras.src.callbacks.History at 0x7d0f5da2f100>"
            ]
          },
          "metadata": {},
          "execution_count": 125
        }
      ]
    },
    {
      "cell_type": "code",
      "source": [
        "cbow_embeddings = model.layers[2].get_weights()[0]"
      ],
      "metadata": {
        "id": "hG8nnx28a8qO"
      },
      "id": "hG8nnx28a8qO",
      "execution_count": 126,
      "outputs": []
    },
    {
      "cell_type": "code",
      "source": [
        "most_similar('мама', embeddings)"
      ],
      "metadata": {
        "colab": {
          "base_uri": "https://localhost:8080/"
        },
        "id": "Miwrt9X2a9uP",
        "outputId": "4feb59c0-bd31-4dda-9080-347689b585ff"
      },
      "id": "Miwrt9X2a9uP",
      "execution_count": 68,
      "outputs": [
        {
          "output_type": "execute_result",
          "data": {
            "text/plain": [
              "['мама',\n",
              " 'подруга',\n",
              " 'тетя',\n",
              " 'дедушка',\n",
              " 'дочка',\n",
              " 'возлюбленная',\n",
              " 'невеста',\n",
              " 'миссис',\n",
              " 'прасковья',\n",
              " 'приятель']"
            ]
          },
          "metadata": {},
          "execution_count": 68
        }
      ]
    },
    {
      "cell_type": "code",
      "source": [
        "most_similar('жизнь', embeddings)"
      ],
      "metadata": {
        "colab": {
          "base_uri": "https://localhost:8080/"
        },
        "id": "xRdPgsa6a_Fy",
        "outputId": "8cd88044-b2a9-4dea-efbd-2a9ccc4a08ad"
      },
      "id": "xRdPgsa6a_Fy",
      "execution_count": 69,
      "outputs": [
        {
          "output_type": "execute_result",
          "data": {
            "text/plain": [
              "['жизнь',\n",
              " 'работа',\n",
              " 'время',\n",
              " 'идея',\n",
              " 'картина',\n",
              " 'когда',\n",
              " 'путь',\n",
              " 'состояние',\n",
              " 'общество',\n",
              " 'свой']"
            ]
          },
          "metadata": {},
          "execution_count": 69
        }
      ]
    },
    {
      "cell_type": "code",
      "source": [
        "# по субъективной визуальной оценке cbow показал лучший результат"
      ],
      "metadata": {
        "id": "Cb2xxEZucOwa"
      },
      "id": "Cb2xxEZucOwa",
      "execution_count": null,
      "outputs": []
    },
    {
      "cell_type": "markdown",
      "id": "c3b61b7c",
      "metadata": {
        "id": "c3b61b7c"
      },
      "source": [
        "\n",
        "# Задание 2 (3 балла)"
      ]
    },
    {
      "cell_type": "markdown",
      "id": "66eff080",
      "metadata": {
        "id": "66eff080"
      },
      "source": [
        "Обучите 1 word2vec и 1 fastext модель в gensim. В каждой из модели нужно задать все параметры, которые мы разбирали на семинаре. Заданные значения должны отличаться от дефолтных и от тех, что мы использовали на семинаре."
      ]
    },
    {
      "cell_type": "code",
      "execution_count": 70,
      "id": "986c2018",
      "metadata": {
        "id": "986c2018",
        "colab": {
          "base_uri": "https://localhost:8080/"
        },
        "outputId": "ef3bd17a-64dd-45b2-8d87-bf4add05ed8a"
      },
      "outputs": [
        {
          "output_type": "stream",
          "name": "stdout",
          "text": [
            "Requirement already satisfied: gensim in /usr/local/lib/python3.10/dist-packages (4.3.2)\n",
            "Requirement already satisfied: numpy>=1.18.5 in /usr/local/lib/python3.10/dist-packages (from gensim) (1.23.5)\n",
            "Requirement already satisfied: scipy>=1.7.0 in /usr/local/lib/python3.10/dist-packages (from gensim) (1.11.4)\n",
            "Requirement already satisfied: smart-open>=1.8.1 in /usr/local/lib/python3.10/dist-packages (from gensim) (6.4.0)\n"
          ]
        }
      ],
      "source": [
        "pip install gensim"
      ]
    },
    {
      "cell_type": "code",
      "execution_count": 100,
      "id": "e5035bdc",
      "metadata": {
        "id": "e5035bdc"
      },
      "outputs": [],
      "source": [
        "import gensim\n",
        "\n",
        "# additional libraries\n",
        "from pymystem3 import Mystem\n",
        "m = Mystem()"
      ]
    },
    {
      "cell_type": "code",
      "source": [
        "wiki = open('/content/drive/MyDrive/wiki_data.txt').read().split('\\n')"
      ],
      "metadata": {
        "id": "jZn1qQcPcyD-"
      },
      "id": "jZn1qQcPcyD-",
      "execution_count": 101,
      "outputs": []
    },
    {
      "cell_type": "code",
      "source": [
        "# здесь добавлена лемматизация\n",
        "def preprocess(text):\n",
        "    tokens = re.sub('#+', ' ', text.lower()).split()\n",
        "    tokens = [token.strip(punctuation) for token in tokens]\n",
        "    tokens = [m.lemmatize(token)[0] for token in tokens if token]\n",
        "    return tokens"
      ],
      "metadata": {
        "id": "EceZZ3SadFi1"
      },
      "id": "EceZZ3SadFi1",
      "execution_count": 102,
      "outputs": []
    },
    {
      "cell_type": "code",
      "source": [
        "texts = [preprocess(text) for text in wiki]"
      ],
      "metadata": {
        "id": "0FKIJTKgdCWH"
      },
      "id": "0FKIJTKgdCWH",
      "execution_count": 103,
      "outputs": []
    },
    {
      "cell_type": "code",
      "source": [
        "w2v = gensim.models.Word2Vec(texts,\n",
        "                             cbow_mean=0,\n",
        "                             ns_exponent=0.74,\n",
        "                             sample=2e-5,\n",
        "                             vector_size=200,\n",
        "                             min_count=25,\n",
        "                             max_vocab_size=10000,\n",
        "                             window=7,\n",
        "                             epochs=7,\n",
        "                             sg=1,\n",
        "                             negative=13)"
      ],
      "metadata": {
        "id": "FXpKuptXco9E"
      },
      "id": "FXpKuptXco9E",
      "execution_count": 93,
      "outputs": []
    },
    {
      "cell_type": "code",
      "source": [
        "# не очень понимаю, почему это слово до этого было, а теперь его нет -__-\n",
        "w2v.wv.most_similar('мама')"
      ],
      "metadata": {
        "colab": {
          "base_uri": "https://localhost:8080/",
          "height": 322
        },
        "id": "LEWlMHBIhbPl",
        "outputId": "103b46ec-62c9-4ae7-f22d-4b0f7e778df1"
      },
      "id": "LEWlMHBIhbPl",
      "execution_count": 94,
      "outputs": [
        {
          "output_type": "error",
          "ename": "KeyError",
          "evalue": "\"Key 'мама' not present in vocabulary\"",
          "traceback": [
            "\u001b[0;31m---------------------------------------------------------------------------\u001b[0m",
            "\u001b[0;31mKeyError\u001b[0m                                  Traceback (most recent call last)",
            "\u001b[0;32m<ipython-input-94-bfa3c2d96167>\u001b[0m in \u001b[0;36m<cell line: 1>\u001b[0;34m()\u001b[0m\n\u001b[0;32m----> 1\u001b[0;31m \u001b[0mw2v\u001b[0m\u001b[0;34m.\u001b[0m\u001b[0mwv\u001b[0m\u001b[0;34m.\u001b[0m\u001b[0mmost_similar\u001b[0m\u001b[0;34m(\u001b[0m\u001b[0;34m'мама'\u001b[0m\u001b[0;34m)\u001b[0m\u001b[0;34m\u001b[0m\u001b[0;34m\u001b[0m\u001b[0m\n\u001b[0m",
            "\u001b[0;32m/usr/local/lib/python3.10/dist-packages/gensim/models/keyedvectors.py\u001b[0m in \u001b[0;36mmost_similar\u001b[0;34m(self, positive, negative, topn, clip_start, clip_end, restrict_vocab, indexer)\u001b[0m\n\u001b[1;32m    839\u001b[0m \u001b[0;34m\u001b[0m\u001b[0m\n\u001b[1;32m    840\u001b[0m         \u001b[0;31m# compute the weighted average of all keys\u001b[0m\u001b[0;34m\u001b[0m\u001b[0;34m\u001b[0m\u001b[0m\n\u001b[0;32m--> 841\u001b[0;31m         \u001b[0mmean\u001b[0m \u001b[0;34m=\u001b[0m \u001b[0mself\u001b[0m\u001b[0;34m.\u001b[0m\u001b[0mget_mean_vector\u001b[0m\u001b[0;34m(\u001b[0m\u001b[0mkeys\u001b[0m\u001b[0;34m,\u001b[0m \u001b[0mweight\u001b[0m\u001b[0;34m,\u001b[0m \u001b[0mpre_normalize\u001b[0m\u001b[0;34m=\u001b[0m\u001b[0;32mTrue\u001b[0m\u001b[0;34m,\u001b[0m \u001b[0mpost_normalize\u001b[0m\u001b[0;34m=\u001b[0m\u001b[0;32mTrue\u001b[0m\u001b[0;34m,\u001b[0m \u001b[0mignore_missing\u001b[0m\u001b[0;34m=\u001b[0m\u001b[0;32mFalse\u001b[0m\u001b[0;34m)\u001b[0m\u001b[0;34m\u001b[0m\u001b[0;34m\u001b[0m\u001b[0m\n\u001b[0m\u001b[1;32m    842\u001b[0m         all_keys = [\n\u001b[1;32m    843\u001b[0m             \u001b[0mself\u001b[0m\u001b[0;34m.\u001b[0m\u001b[0mget_index\u001b[0m\u001b[0;34m(\u001b[0m\u001b[0mkey\u001b[0m\u001b[0;34m)\u001b[0m \u001b[0;32mfor\u001b[0m \u001b[0mkey\u001b[0m \u001b[0;32min\u001b[0m \u001b[0mkeys\u001b[0m \u001b[0;32mif\u001b[0m \u001b[0misinstance\u001b[0m\u001b[0;34m(\u001b[0m\u001b[0mkey\u001b[0m\u001b[0;34m,\u001b[0m \u001b[0m_KEY_TYPES\u001b[0m\u001b[0;34m)\u001b[0m \u001b[0;32mand\u001b[0m \u001b[0mself\u001b[0m\u001b[0;34m.\u001b[0m\u001b[0mhas_index_for\u001b[0m\u001b[0;34m(\u001b[0m\u001b[0mkey\u001b[0m\u001b[0;34m)\u001b[0m\u001b[0;34m\u001b[0m\u001b[0;34m\u001b[0m\u001b[0m\n",
            "\u001b[0;32m/usr/local/lib/python3.10/dist-packages/gensim/models/keyedvectors.py\u001b[0m in \u001b[0;36mget_mean_vector\u001b[0;34m(self, keys, weights, pre_normalize, post_normalize, ignore_missing)\u001b[0m\n\u001b[1;32m    516\u001b[0m                 \u001b[0mtotal_weight\u001b[0m \u001b[0;34m+=\u001b[0m \u001b[0mabs\u001b[0m\u001b[0;34m(\u001b[0m\u001b[0mweights\u001b[0m\u001b[0;34m[\u001b[0m\u001b[0midx\u001b[0m\u001b[0;34m]\u001b[0m\u001b[0;34m)\u001b[0m\u001b[0;34m\u001b[0m\u001b[0;34m\u001b[0m\u001b[0m\n\u001b[1;32m    517\u001b[0m             \u001b[0;32melif\u001b[0m \u001b[0;32mnot\u001b[0m \u001b[0mignore_missing\u001b[0m\u001b[0;34m:\u001b[0m\u001b[0;34m\u001b[0m\u001b[0;34m\u001b[0m\u001b[0m\n\u001b[0;32m--> 518\u001b[0;31m                 \u001b[0;32mraise\u001b[0m \u001b[0mKeyError\u001b[0m\u001b[0;34m(\u001b[0m\u001b[0;34mf\"Key '{key}' not present in vocabulary\"\u001b[0m\u001b[0;34m)\u001b[0m\u001b[0;34m\u001b[0m\u001b[0;34m\u001b[0m\u001b[0m\n\u001b[0m\u001b[1;32m    519\u001b[0m \u001b[0;34m\u001b[0m\u001b[0m\n\u001b[1;32m    520\u001b[0m         \u001b[0;32mif\u001b[0m \u001b[0mtotal_weight\u001b[0m \u001b[0;34m>\u001b[0m \u001b[0;36m0\u001b[0m\u001b[0;34m:\u001b[0m\u001b[0;34m\u001b[0m\u001b[0;34m\u001b[0m\u001b[0m\n",
            "\u001b[0;31mKeyError\u001b[0m: \"Key 'мама' not present in vocabulary\""
          ]
        }
      ]
    },
    {
      "cell_type": "code",
      "source": [
        "'мама' in texts"
      ],
      "metadata": {
        "colab": {
          "base_uri": "https://localhost:8080/"
        },
        "id": "1_mGLnYWj-DE",
        "outputId": "f20bd80c-9704-42dd-96b2-c01baa84330d"
      },
      "id": "1_mGLnYWj-DE",
      "execution_count": 104,
      "outputs": [
        {
          "output_type": "execute_result",
          "data": {
            "text/plain": [
              "False"
            ]
          },
          "metadata": {},
          "execution_count": 104
        }
      ]
    },
    {
      "cell_type": "code",
      "source": [
        "w2v.wv.most_similar('жизнь')"
      ],
      "metadata": {
        "colab": {
          "base_uri": "https://localhost:8080/"
        },
        "id": "mRopHPK2hcv5",
        "outputId": "941f2733-b285-4357-ea11-555865497058"
      },
      "id": "mRopHPK2hcv5",
      "execution_count": 95,
      "outputs": [
        {
          "output_type": "execute_result",
          "data": {
            "text/plain": [
              "[('любовь', 0.6348199844360352),\n",
              " ('посвящать', 0.6154699921607971),\n",
              " ('жить', 0.6077913045883179),\n",
              " ('много', 0.6047798991203308),\n",
              " ('любить', 0.5935583114624023),\n",
              " ('ради', 0.5830317139625549),\n",
              " ('писать', 0.5829160809516907),\n",
              " ('жена', 0.5720778107643127),\n",
              " ('сердце', 0.5709187388420105),\n",
              " ('сон', 0.5700564384460449)]"
            ]
          },
          "metadata": {},
          "execution_count": 95
        }
      ]
    },
    {
      "cell_type": "code",
      "source": [
        "ft = gensim.models.FastText(texts,\n",
        "                             cbow_mean=0,\n",
        "                             ns_exponent=0.74,\n",
        "                             sample=2e-5,\n",
        "                             vector_size=200,\n",
        "                             min_count=25,\n",
        "                             max_vocab_size=10000,\n",
        "                             window=7,\n",
        "                             epochs=7,\n",
        "                             sg=1,\n",
        "                             negative=13)"
      ],
      "metadata": {
        "id": "IfsGnivxnXhQ"
      },
      "id": "IfsGnivxnXhQ",
      "execution_count": 105,
      "outputs": []
    },
    {
      "cell_type": "code",
      "source": [
        "ft.wv.most_similar('жизнь')"
      ],
      "metadata": {
        "colab": {
          "base_uri": "https://localhost:8080/"
        },
        "id": "J1Ska_fJnfbd",
        "outputId": "51003cab-62e3-4102-c8bf-9cbf48a4cba8"
      },
      "id": "J1Ska_fJnfbd",
      "execution_count": 107,
      "outputs": [
        {
          "output_type": "execute_result",
          "data": {
            "text/plain": [
              "[('любовь', 0.6552883386611938),\n",
              " ('писать', 0.6439223885536194),\n",
              " ('писатель', 0.6379637718200684),\n",
              " ('жить', 0.6378950476646423),\n",
              " ('любить', 0.6290308833122253),\n",
              " ('дух', 0.6274406909942627),\n",
              " ('творчество', 0.6185585856437683),\n",
              " ('смерть', 0.6155495047569275),\n",
              " ('стихотворение', 0.6135231256484985),\n",
              " ('литературный', 0.6063507199287415)]"
            ]
          },
          "metadata": {},
          "execution_count": 107
        }
      ]
    },
    {
      "cell_type": "markdown",
      "id": "e4bb928c",
      "metadata": {
        "id": "e4bb928c"
      },
      "source": [
        "# Задание 3 (4 балла)"
      ]
    },
    {
      "cell_type": "markdown",
      "id": "3019b0d1",
      "metadata": {
        "id": "3019b0d1"
      },
      "source": [
        "Используя датасет для классификации (labeled.csv) и простую нейронную сеть (последняя модель в семинаре), оцените качество полученных эмбедингов в задании 1 и 2 (4 набора эмбедингов), также проверьте 1 любую из предобученных моделей с rus-vectores (но только не tayga_upos_skipgram_300_2_2019).\n",
        "Какая модель показывает наилучший результат?\n",
        "\n",
        "Убедитесь, что для каждой модели вы корректно воспроизводите пайплайн предобработки (в 1 задании у вас лемматизация, не забудьте ее применить к датасету для классификации; у выбранной предобученной модели может быть своя специфичная предобработка - ее нужно воспроизвести)"
      ]
    },
    {
      "cell_type": "code",
      "execution_count": 109,
      "id": "ed908832",
      "metadata": {
        "id": "ed908832"
      },
      "outputs": [],
      "source": [
        "data = pd.read_csv('/content/drive/MyDrive/labeled (1).csv')"
      ]
    },
    {
      "cell_type": "code",
      "execution_count": 110,
      "id": "60c18c5a",
      "metadata": {
        "id": "60c18c5a"
      },
      "outputs": [],
      "source": [
        "data['norm_text'] = data.comment.apply(preprocess)"
      ]
    },
    {
      "cell_type": "code",
      "source": [
        "data"
      ],
      "metadata": {
        "colab": {
          "base_uri": "https://localhost:8080/",
          "height": 424
        },
        "id": "8Y4Nq2Aeq-kK",
        "outputId": "c95de252-4146-4a91-a3de-874b02823ac0"
      },
      "id": "8Y4Nq2Aeq-kK",
      "execution_count": 111,
      "outputs": [
        {
          "output_type": "execute_result",
          "data": {
            "text/plain": [
              "                                                 comment  toxic  \\\n",
              "0                   Верблюдов-то за что? Дебилы, бл...\\n    1.0   \n",
              "1      Хохлы, это отдушина затюканого россиянина, мол...    1.0   \n",
              "2                              Собаке - собачья смерть\\n    1.0   \n",
              "3      Страницу обнови, дебил. Это тоже не оскорблени...    1.0   \n",
              "4      тебя не убедил 6-страничный пдф в том, что Скр...    1.0   \n",
              "...                                                  ...    ...   \n",
              "14407  Вонючий совковый скот прибежал и ноет. А вот и...    1.0   \n",
              "14408  А кого любить? Гоблина тупорылого что-ли? Или ...    1.0   \n",
              "14409  Посмотрел Утомленных солнцем 2. И оказалось, ч...    0.0   \n",
              "14410  КРЫМОТРЕД НАРУШАЕТ ПРАВИЛА РАЗДЕЛА Т.К В НЕМ Н...    1.0   \n",
              "14411  До сих пор пересматриваю его видео. Орамбо кст...    0.0   \n",
              "\n",
              "                                               norm_text  \n",
              "0                          [верблюд, за, что, дебил, бл]  \n",
              "1      [хохол, это, отдушина, затюканый, россиянин, м...  \n",
              "2                              [собака, собачий, смерть]  \n",
              "3      [страница, обновлять, дебил, это, тоже, не, ос...  \n",
              "4      [ты, не, убеждать, 6, пдф, в, том, что, скрипа...  \n",
              "...                                                  ...  \n",
              "14407  [вонючий, совковый, скот, прибегать, и, ныть, ...  \n",
              "14408  [а, кто, любить, гоблин, тупорылый, что, или, ...  \n",
              "14409  [посмотреть, утомленный, солнце, 2, и, оказыва...  \n",
              "14410  [крымотред, нарушать, правило, раздел, т, в, н...  \n",
              "14411  [до, сей, пора, пересматривать, он, видео, ора...  \n",
              "\n",
              "[14412 rows x 3 columns]"
            ],
            "text/html": [
              "\n",
              "  <div id=\"df-3a2f007d-1bee-4911-bdce-0bdf3986c65b\" class=\"colab-df-container\">\n",
              "    <div>\n",
              "<style scoped>\n",
              "    .dataframe tbody tr th:only-of-type {\n",
              "        vertical-align: middle;\n",
              "    }\n",
              "\n",
              "    .dataframe tbody tr th {\n",
              "        vertical-align: top;\n",
              "    }\n",
              "\n",
              "    .dataframe thead th {\n",
              "        text-align: right;\n",
              "    }\n",
              "</style>\n",
              "<table border=\"1\" class=\"dataframe\">\n",
              "  <thead>\n",
              "    <tr style=\"text-align: right;\">\n",
              "      <th></th>\n",
              "      <th>comment</th>\n",
              "      <th>toxic</th>\n",
              "      <th>norm_text</th>\n",
              "    </tr>\n",
              "  </thead>\n",
              "  <tbody>\n",
              "    <tr>\n",
              "      <th>0</th>\n",
              "      <td>Верблюдов-то за что? Дебилы, бл...\\n</td>\n",
              "      <td>1.0</td>\n",
              "      <td>[верблюд, за, что, дебил, бл]</td>\n",
              "    </tr>\n",
              "    <tr>\n",
              "      <th>1</th>\n",
              "      <td>Хохлы, это отдушина затюканого россиянина, мол...</td>\n",
              "      <td>1.0</td>\n",
              "      <td>[хохол, это, отдушина, затюканый, россиянин, м...</td>\n",
              "    </tr>\n",
              "    <tr>\n",
              "      <th>2</th>\n",
              "      <td>Собаке - собачья смерть\\n</td>\n",
              "      <td>1.0</td>\n",
              "      <td>[собака, собачий, смерть]</td>\n",
              "    </tr>\n",
              "    <tr>\n",
              "      <th>3</th>\n",
              "      <td>Страницу обнови, дебил. Это тоже не оскорблени...</td>\n",
              "      <td>1.0</td>\n",
              "      <td>[страница, обновлять, дебил, это, тоже, не, ос...</td>\n",
              "    </tr>\n",
              "    <tr>\n",
              "      <th>4</th>\n",
              "      <td>тебя не убедил 6-страничный пдф в том, что Скр...</td>\n",
              "      <td>1.0</td>\n",
              "      <td>[ты, не, убеждать, 6, пдф, в, том, что, скрипа...</td>\n",
              "    </tr>\n",
              "    <tr>\n",
              "      <th>...</th>\n",
              "      <td>...</td>\n",
              "      <td>...</td>\n",
              "      <td>...</td>\n",
              "    </tr>\n",
              "    <tr>\n",
              "      <th>14407</th>\n",
              "      <td>Вонючий совковый скот прибежал и ноет. А вот и...</td>\n",
              "      <td>1.0</td>\n",
              "      <td>[вонючий, совковый, скот, прибегать, и, ныть, ...</td>\n",
              "    </tr>\n",
              "    <tr>\n",
              "      <th>14408</th>\n",
              "      <td>А кого любить? Гоблина тупорылого что-ли? Или ...</td>\n",
              "      <td>1.0</td>\n",
              "      <td>[а, кто, любить, гоблин, тупорылый, что, или, ...</td>\n",
              "    </tr>\n",
              "    <tr>\n",
              "      <th>14409</th>\n",
              "      <td>Посмотрел Утомленных солнцем 2. И оказалось, ч...</td>\n",
              "      <td>0.0</td>\n",
              "      <td>[посмотреть, утомленный, солнце, 2, и, оказыва...</td>\n",
              "    </tr>\n",
              "    <tr>\n",
              "      <th>14410</th>\n",
              "      <td>КРЫМОТРЕД НАРУШАЕТ ПРАВИЛА РАЗДЕЛА Т.К В НЕМ Н...</td>\n",
              "      <td>1.0</td>\n",
              "      <td>[крымотред, нарушать, правило, раздел, т, в, н...</td>\n",
              "    </tr>\n",
              "    <tr>\n",
              "      <th>14411</th>\n",
              "      <td>До сих пор пересматриваю его видео. Орамбо кст...</td>\n",
              "      <td>0.0</td>\n",
              "      <td>[до, сей, пора, пересматривать, он, видео, ора...</td>\n",
              "    </tr>\n",
              "  </tbody>\n",
              "</table>\n",
              "<p>14412 rows × 3 columns</p>\n",
              "</div>\n",
              "    <div class=\"colab-df-buttons\">\n",
              "\n",
              "  <div class=\"colab-df-container\">\n",
              "    <button class=\"colab-df-convert\" onclick=\"convertToInteractive('df-3a2f007d-1bee-4911-bdce-0bdf3986c65b')\"\n",
              "            title=\"Convert this dataframe to an interactive table.\"\n",
              "            style=\"display:none;\">\n",
              "\n",
              "  <svg xmlns=\"http://www.w3.org/2000/svg\" height=\"24px\" viewBox=\"0 -960 960 960\">\n",
              "    <path d=\"M120-120v-720h720v720H120Zm60-500h600v-160H180v160Zm220 220h160v-160H400v160Zm0 220h160v-160H400v160ZM180-400h160v-160H180v160Zm440 0h160v-160H620v160ZM180-180h160v-160H180v160Zm440 0h160v-160H620v160Z\"/>\n",
              "  </svg>\n",
              "    </button>\n",
              "\n",
              "  <style>\n",
              "    .colab-df-container {\n",
              "      display:flex;\n",
              "      gap: 12px;\n",
              "    }\n",
              "\n",
              "    .colab-df-convert {\n",
              "      background-color: #E8F0FE;\n",
              "      border: none;\n",
              "      border-radius: 50%;\n",
              "      cursor: pointer;\n",
              "      display: none;\n",
              "      fill: #1967D2;\n",
              "      height: 32px;\n",
              "      padding: 0 0 0 0;\n",
              "      width: 32px;\n",
              "    }\n",
              "\n",
              "    .colab-df-convert:hover {\n",
              "      background-color: #E2EBFA;\n",
              "      box-shadow: 0px 1px 2px rgba(60, 64, 67, 0.3), 0px 1px 3px 1px rgba(60, 64, 67, 0.15);\n",
              "      fill: #174EA6;\n",
              "    }\n",
              "\n",
              "    .colab-df-buttons div {\n",
              "      margin-bottom: 4px;\n",
              "    }\n",
              "\n",
              "    [theme=dark] .colab-df-convert {\n",
              "      background-color: #3B4455;\n",
              "      fill: #D2E3FC;\n",
              "    }\n",
              "\n",
              "    [theme=dark] .colab-df-convert:hover {\n",
              "      background-color: #434B5C;\n",
              "      box-shadow: 0px 1px 3px 1px rgba(0, 0, 0, 0.15);\n",
              "      filter: drop-shadow(0px 1px 2px rgba(0, 0, 0, 0.3));\n",
              "      fill: #FFFFFF;\n",
              "    }\n",
              "  </style>\n",
              "\n",
              "    <script>\n",
              "      const buttonEl =\n",
              "        document.querySelector('#df-3a2f007d-1bee-4911-bdce-0bdf3986c65b button.colab-df-convert');\n",
              "      buttonEl.style.display =\n",
              "        google.colab.kernel.accessAllowed ? 'block' : 'none';\n",
              "\n",
              "      async function convertToInteractive(key) {\n",
              "        const element = document.querySelector('#df-3a2f007d-1bee-4911-bdce-0bdf3986c65b');\n",
              "        const dataTable =\n",
              "          await google.colab.kernel.invokeFunction('convertToInteractive',\n",
              "                                                    [key], {});\n",
              "        if (!dataTable) return;\n",
              "\n",
              "        const docLinkHtml = 'Like what you see? Visit the ' +\n",
              "          '<a target=\"_blank\" href=https://colab.research.google.com/notebooks/data_table.ipynb>data table notebook</a>'\n",
              "          + ' to learn more about interactive tables.';\n",
              "        element.innerHTML = '';\n",
              "        dataTable['output_type'] = 'display_data';\n",
              "        await google.colab.output.renderOutput(dataTable, element);\n",
              "        const docLink = document.createElement('div');\n",
              "        docLink.innerHTML = docLinkHtml;\n",
              "        element.appendChild(docLink);\n",
              "      }\n",
              "    </script>\n",
              "  </div>\n",
              "\n",
              "\n",
              "<div id=\"df-0ef996b5-d708-42cf-bedd-86016e59d153\">\n",
              "  <button class=\"colab-df-quickchart\" onclick=\"quickchart('df-0ef996b5-d708-42cf-bedd-86016e59d153')\"\n",
              "            title=\"Suggest charts\"\n",
              "            style=\"display:none;\">\n",
              "\n",
              "<svg xmlns=\"http://www.w3.org/2000/svg\" height=\"24px\"viewBox=\"0 0 24 24\"\n",
              "     width=\"24px\">\n",
              "    <g>\n",
              "        <path d=\"M19 3H5c-1.1 0-2 .9-2 2v14c0 1.1.9 2 2 2h14c1.1 0 2-.9 2-2V5c0-1.1-.9-2-2-2zM9 17H7v-7h2v7zm4 0h-2V7h2v10zm4 0h-2v-4h2v4z\"/>\n",
              "    </g>\n",
              "</svg>\n",
              "  </button>\n",
              "\n",
              "<style>\n",
              "  .colab-df-quickchart {\n",
              "      --bg-color: #E8F0FE;\n",
              "      --fill-color: #1967D2;\n",
              "      --hover-bg-color: #E2EBFA;\n",
              "      --hover-fill-color: #174EA6;\n",
              "      --disabled-fill-color: #AAA;\n",
              "      --disabled-bg-color: #DDD;\n",
              "  }\n",
              "\n",
              "  [theme=dark] .colab-df-quickchart {\n",
              "      --bg-color: #3B4455;\n",
              "      --fill-color: #D2E3FC;\n",
              "      --hover-bg-color: #434B5C;\n",
              "      --hover-fill-color: #FFFFFF;\n",
              "      --disabled-bg-color: #3B4455;\n",
              "      --disabled-fill-color: #666;\n",
              "  }\n",
              "\n",
              "  .colab-df-quickchart {\n",
              "    background-color: var(--bg-color);\n",
              "    border: none;\n",
              "    border-radius: 50%;\n",
              "    cursor: pointer;\n",
              "    display: none;\n",
              "    fill: var(--fill-color);\n",
              "    height: 32px;\n",
              "    padding: 0;\n",
              "    width: 32px;\n",
              "  }\n",
              "\n",
              "  .colab-df-quickchart:hover {\n",
              "    background-color: var(--hover-bg-color);\n",
              "    box-shadow: 0 1px 2px rgba(60, 64, 67, 0.3), 0 1px 3px 1px rgba(60, 64, 67, 0.15);\n",
              "    fill: var(--button-hover-fill-color);\n",
              "  }\n",
              "\n",
              "  .colab-df-quickchart-complete:disabled,\n",
              "  .colab-df-quickchart-complete:disabled:hover {\n",
              "    background-color: var(--disabled-bg-color);\n",
              "    fill: var(--disabled-fill-color);\n",
              "    box-shadow: none;\n",
              "  }\n",
              "\n",
              "  .colab-df-spinner {\n",
              "    border: 2px solid var(--fill-color);\n",
              "    border-color: transparent;\n",
              "    border-bottom-color: var(--fill-color);\n",
              "    animation:\n",
              "      spin 1s steps(1) infinite;\n",
              "  }\n",
              "\n",
              "  @keyframes spin {\n",
              "    0% {\n",
              "      border-color: transparent;\n",
              "      border-bottom-color: var(--fill-color);\n",
              "      border-left-color: var(--fill-color);\n",
              "    }\n",
              "    20% {\n",
              "      border-color: transparent;\n",
              "      border-left-color: var(--fill-color);\n",
              "      border-top-color: var(--fill-color);\n",
              "    }\n",
              "    30% {\n",
              "      border-color: transparent;\n",
              "      border-left-color: var(--fill-color);\n",
              "      border-top-color: var(--fill-color);\n",
              "      border-right-color: var(--fill-color);\n",
              "    }\n",
              "    40% {\n",
              "      border-color: transparent;\n",
              "      border-right-color: var(--fill-color);\n",
              "      border-top-color: var(--fill-color);\n",
              "    }\n",
              "    60% {\n",
              "      border-color: transparent;\n",
              "      border-right-color: var(--fill-color);\n",
              "    }\n",
              "    80% {\n",
              "      border-color: transparent;\n",
              "      border-right-color: var(--fill-color);\n",
              "      border-bottom-color: var(--fill-color);\n",
              "    }\n",
              "    90% {\n",
              "      border-color: transparent;\n",
              "      border-bottom-color: var(--fill-color);\n",
              "    }\n",
              "  }\n",
              "</style>\n",
              "\n",
              "  <script>\n",
              "    async function quickchart(key) {\n",
              "      const quickchartButtonEl =\n",
              "        document.querySelector('#' + key + ' button');\n",
              "      quickchartButtonEl.disabled = true;  // To prevent multiple clicks.\n",
              "      quickchartButtonEl.classList.add('colab-df-spinner');\n",
              "      try {\n",
              "        const charts = await google.colab.kernel.invokeFunction(\n",
              "            'suggestCharts', [key], {});\n",
              "      } catch (error) {\n",
              "        console.error('Error during call to suggestCharts:', error);\n",
              "      }\n",
              "      quickchartButtonEl.classList.remove('colab-df-spinner');\n",
              "      quickchartButtonEl.classList.add('colab-df-quickchart-complete');\n",
              "    }\n",
              "    (() => {\n",
              "      let quickchartButtonEl =\n",
              "        document.querySelector('#df-0ef996b5-d708-42cf-bedd-86016e59d153 button');\n",
              "      quickchartButtonEl.style.display =\n",
              "        google.colab.kernel.accessAllowed ? 'block' : 'none';\n",
              "    })();\n",
              "  </script>\n",
              "</div>\n",
              "    </div>\n",
              "  </div>\n"
            ]
          },
          "metadata": {},
          "execution_count": 111
        }
      ]
    },
    {
      "cell_type": "code",
      "source": [
        "vocab = Counter()\n",
        "\n",
        "for text in data['norm_text']:\n",
        "    vocab.update(text)\n",
        "\n",
        "filtered_vocab = set()\n",
        "\n",
        "for word in vocab:\n",
        "    if vocab[word] > 5:\n",
        "        filtered_vocab.add(word)\n",
        "\n",
        "len(filtered_vocab)"
      ],
      "metadata": {
        "colab": {
          "base_uri": "https://localhost:8080/"
        },
        "id": "m7nZ_UV0s6Aa",
        "outputId": "6f8aae05-802e-4d54-d743-a3bd8bd3870d"
      },
      "id": "m7nZ_UV0s6Aa",
      "execution_count": 112,
      "outputs": [
        {
          "output_type": "execute_result",
          "data": {
            "text/plain": [
              "6256"
            ]
          },
          "metadata": {},
          "execution_count": 112
        }
      ]
    },
    {
      "cell_type": "code",
      "source": [
        "word2id = { 'PAD':0}\n",
        "\n",
        "for word in filtered_vocab:\n",
        "    word2id[word] = len(word2id)\n",
        "id2word = {i:word for word, i in word2id.items()}"
      ],
      "metadata": {
        "id": "f8UhIPiTs9qi"
      },
      "id": "f8UhIPiTs9qi",
      "execution_count": 113,
      "outputs": []
    },
    {
      "cell_type": "code",
      "source": [
        "X = []\n",
        "\n",
        "for tokens in data['norm_text']:\n",
        "    ids = [word2id[token] for token in tokens if token in word2id]\n",
        "    X.append(ids)"
      ],
      "metadata": {
        "id": "5zDNewXDs_bp"
      },
      "id": "5zDNewXDs_bp",
      "execution_count": 114,
      "outputs": []
    },
    {
      "cell_type": "code",
      "source": [
        "X = tf.keras.preprocessing.sequence.pad_sequences(X, maxlen=100)\n",
        "y = data.toxic.values"
      ],
      "metadata": {
        "id": "eQfZbuhMtAvs"
      },
      "id": "eQfZbuhMtAvs",
      "execution_count": 115,
      "outputs": []
    },
    {
      "cell_type": "code",
      "source": [
        "X_train, X_valid, y_train, y_valid = train_test_split(X, y, test_size=0.05)"
      ],
      "metadata": {
        "id": "9QYRlLgetCua"
      },
      "id": "9QYRlLgetCua",
      "execution_count": 127,
      "outputs": []
    },
    {
      "cell_type": "code",
      "source": [
        "# у меня почему-то ничего не загружается по ссылке https://rusvectores.org/ru/models/, поэтому не получилось проверить предобученную модель :(\n",
        "# но вставил код, как я бы это сделал по тетрадки семинара"
      ],
      "metadata": {
        "id": "viIOtJJ_3vcg"
      },
      "id": "viIOtJJ_3vcg",
      "execution_count": null,
      "outputs": []
    },
    {
      "cell_type": "code",
      "source": [
        "import gensim\n",
        "model = gensim.models.KeyedVectors.load_word2vec_format('эмбединги', binary=False)"
      ],
      "metadata": {
        "id": "bTd1-KLM4AmK"
      },
      "id": "bTd1-KLM4AmK",
      "execution_count": null,
      "outputs": []
    },
    {
      "cell_type": "code",
      "source": [
        "mapping = {}\n",
        "\n",
        "for line in open('./ru-rnc.map'):\n",
        "    ms, ud = line.strip('\\n').split()\n",
        "    mapping[ms] = ud"
      ],
      "metadata": {
        "id": "TvZnii8k4J0-"
      },
      "id": "TvZnii8k4J0-",
      "execution_count": null,
      "outputs": []
    },
    {
      "cell_type": "code",
      "source": [
        "from pymystem3 import Mystem\n",
        "m = Mystem()"
      ],
      "metadata": {
        "id": "n6JKPPX-4P28"
      },
      "id": "n6JKPPX-4P28",
      "execution_count": null,
      "outputs": []
    },
    {
      "cell_type": "code",
      "source": [
        "def normalize_mystem(text):\n",
        "    tokens = []\n",
        "    norm_words = m.analyze(text)\n",
        "    for norm_word in norm_words:\n",
        "        if 'analysis' not in norm_word:\n",
        "            continue\n",
        "\n",
        "        if not len(norm_word['analysis']):\n",
        "            lemma = norm_word['text']\n",
        "            pos = 'UNKN'\n",
        "        else:\n",
        "            lemma = norm_word[\"analysis\"][0][\"lex\"].lower().strip()\n",
        "            pos = norm_word[\"analysis\"][0][\"gr\"].split(',')[0]\n",
        "            pos = pos.split('=')[0].strip()\n",
        "        pos = mapping[pos]\n",
        "        tokens.append(lemma+'_'+pos)\n",
        "\n",
        "    return tokens"
      ],
      "metadata": {
        "id": "5_qrhCnu4SGJ"
      },
      "id": "5_qrhCnu4SGJ",
      "execution_count": null,
      "outputs": []
    },
    {
      "cell_type": "code",
      "source": [
        "# сложно сказать надо ли что-то еще делать, т.к. в тетрадки семинара на этом все.\n",
        "# Далее я пробовал обучить последнюю модель тетрадки и оценить все эмбединги"
      ],
      "metadata": {
        "id": "roeBlbue5G7D"
      },
      "id": "roeBlbue5G7D",
      "execution_count": null,
      "outputs": []
    },
    {
      "cell_type": "code",
      "source": [
        "ft = gensim.models.FastText(texts + data['norm_text'].values.tolist(), window=10, epochs=10)"
      ],
      "metadata": {
        "id": "jDp_7IvIx6fK"
      },
      "id": "jDp_7IvIx6fK",
      "execution_count": 137,
      "outputs": []
    },
    {
      "cell_type": "code",
      "source": [
        "weights = np.zeros((len(word2id), 100))\n",
        "\n",
        "for word, i in word2id.items():\n",
        "    # вектор паддинга оставим нулевым\n",
        "    if word == 'PAD':\n",
        "        continue\n",
        "\n",
        "    try:\n",
        "        weights[i] = ft.wv[word]\n",
        "\n",
        "\n",
        "    except KeyError:\n",
        "        # для слов, которых нет в модели тоже возьмем какой-то  рандомный вектор\n",
        "        continue\n",
        "        weights[i] = ft.wv['опрагпллирао']"
      ],
      "metadata": {
        "id": "VCSmTrX02XKN"
      },
      "id": "VCSmTrX02XKN",
      "execution_count": 138,
      "outputs": []
    },
    {
      "cell_type": "code",
      "source": [
        "inputs = tf.keras.layers.Input(shape=(100,))\n",
        "\n",
        "# передаем матрицу в эмбединг слой\n",
        "# указываем параметр trainable=False, чтобы вектора не обучались\n",
        "# Пояснение: кажется, что обучение векторов отключать не стоит, так как модель должна взять готовые\n",
        "# эмбединги и подогнать их к нашей задаче. На практитке это однако не работает - эмбединги просто\n",
        "# # обучатся заново\n",
        "embeddings = tf.keras.layers.Embedding(input_dim=len(word2id), output_dim=100,\n",
        "                                       trainable=False,\n",
        "                                       weights=[weights])(inputs, )\n",
        "mean = tf.keras.layers.Lambda(lambda x: tf.keras.backend.mean(x,  axis=1))(embeddings)\n",
        "\n",
        "outputs = tf.keras.layers.Dense(1, activation='sigmoid')(mean)\n",
        "\n",
        "model = tf.keras.Model(inputs=inputs, outputs=outputs)\n",
        "optimizer = tf.keras.optimizers.Adam()\n",
        "model.compile(optimizer=optimizer,\n",
        "              loss='binary_crossentropy',\n",
        "              metrics=['accuracy'])"
      ],
      "metadata": {
        "id": "QA5SaN6L3MSq"
      },
      "id": "QA5SaN6L3MSq",
      "execution_count": 153,
      "outputs": []
    },
    {
      "cell_type": "code",
      "source": [
        "model.fit(X_train, y_train,\n",
        "          validation_data=(X_valid, y_valid),\n",
        "          batch_size=32,\n",
        "          epochs=30)"
      ],
      "metadata": {
        "colab": {
          "base_uri": "https://localhost:8080/"
        },
        "id": "yzFCBj5s3NzW",
        "outputId": "c4e5ef1b-1f7e-44a9-ab9f-283d98eec81e"
      },
      "id": "yzFCBj5s3NzW",
      "execution_count": 157,
      "outputs": [
        {
          "output_type": "stream",
          "name": "stdout",
          "text": [
            "Epoch 1/30\n",
            "428/428 [==============================] - 2s 4ms/step - loss: 0.4931 - accuracy: 0.7657 - val_loss: 0.4923 - val_accuracy: 0.7920\n",
            "Epoch 2/30\n",
            "428/428 [==============================] - 1s 3ms/step - loss: 0.4840 - accuracy: 0.7734 - val_loss: 0.4817 - val_accuracy: 0.8044\n",
            "Epoch 3/30\n",
            "428/428 [==============================] - 1s 3ms/step - loss: 0.4770 - accuracy: 0.7780 - val_loss: 0.4764 - val_accuracy: 0.8058\n",
            "Epoch 4/30\n",
            "428/428 [==============================] - 1s 3ms/step - loss: 0.4715 - accuracy: 0.7853 - val_loss: 0.4747 - val_accuracy: 0.7989\n",
            "Epoch 5/30\n",
            "428/428 [==============================] - 1s 3ms/step - loss: 0.4668 - accuracy: 0.7881 - val_loss: 0.4661 - val_accuracy: 0.8086\n",
            "Epoch 6/30\n",
            "428/428 [==============================] - 2s 4ms/step - loss: 0.4625 - accuracy: 0.7910 - val_loss: 0.4613 - val_accuracy: 0.8183\n",
            "Epoch 7/30\n",
            "428/428 [==============================] - 2s 5ms/step - loss: 0.4595 - accuracy: 0.7950 - val_loss: 0.4592 - val_accuracy: 0.8169\n",
            "Epoch 8/30\n",
            "428/428 [==============================] - 2s 5ms/step - loss: 0.4565 - accuracy: 0.7965 - val_loss: 0.4565 - val_accuracy: 0.8225\n",
            "Epoch 9/30\n",
            "428/428 [==============================] - 1s 3ms/step - loss: 0.4539 - accuracy: 0.7986 - val_loss: 0.4524 - val_accuracy: 0.8280\n",
            "Epoch 10/30\n",
            "428/428 [==============================] - 1s 3ms/step - loss: 0.4519 - accuracy: 0.8013 - val_loss: 0.4544 - val_accuracy: 0.8225\n",
            "Epoch 11/30\n",
            "428/428 [==============================] - 1s 3ms/step - loss: 0.4497 - accuracy: 0.8016 - val_loss: 0.4507 - val_accuracy: 0.8280\n",
            "Epoch 12/30\n",
            "428/428 [==============================] - 1s 3ms/step - loss: 0.4480 - accuracy: 0.8034 - val_loss: 0.4478 - val_accuracy: 0.8308\n",
            "Epoch 13/30\n",
            "428/428 [==============================] - 1s 3ms/step - loss: 0.4461 - accuracy: 0.8044 - val_loss: 0.4458 - val_accuracy: 0.8336\n",
            "Epoch 14/30\n",
            "428/428 [==============================] - 1s 3ms/step - loss: 0.4450 - accuracy: 0.8049 - val_loss: 0.4444 - val_accuracy: 0.8377\n",
            "Epoch 15/30\n",
            "428/428 [==============================] - 1s 3ms/step - loss: 0.4436 - accuracy: 0.8062 - val_loss: 0.4475 - val_accuracy: 0.8266\n",
            "Epoch 16/30\n",
            "428/428 [==============================] - 2s 4ms/step - loss: 0.4426 - accuracy: 0.8064 - val_loss: 0.4470 - val_accuracy: 0.8266\n",
            "Epoch 17/30\n",
            "428/428 [==============================] - 2s 4ms/step - loss: 0.4417 - accuracy: 0.8076 - val_loss: 0.4432 - val_accuracy: 0.8308\n",
            "Epoch 18/30\n",
            "428/428 [==============================] - 2s 4ms/step - loss: 0.4404 - accuracy: 0.8080 - val_loss: 0.4404 - val_accuracy: 0.8363\n",
            "Epoch 19/30\n",
            "428/428 [==============================] - 1s 3ms/step - loss: 0.4395 - accuracy: 0.8103 - val_loss: 0.4388 - val_accuracy: 0.8377\n",
            "Epoch 20/30\n",
            "428/428 [==============================] - 1s 3ms/step - loss: 0.4387 - accuracy: 0.8091 - val_loss: 0.4420 - val_accuracy: 0.8308\n",
            "Epoch 21/30\n",
            "428/428 [==============================] - 1s 3ms/step - loss: 0.4381 - accuracy: 0.8097 - val_loss: 0.4412 - val_accuracy: 0.8308\n",
            "Epoch 22/30\n",
            "428/428 [==============================] - 1s 3ms/step - loss: 0.4373 - accuracy: 0.8099 - val_loss: 0.4424 - val_accuracy: 0.8294\n",
            "Epoch 23/30\n",
            "428/428 [==============================] - 1s 3ms/step - loss: 0.4367 - accuracy: 0.8124 - val_loss: 0.4375 - val_accuracy: 0.8391\n",
            "Epoch 24/30\n",
            "428/428 [==============================] - 1s 3ms/step - loss: 0.4359 - accuracy: 0.8118 - val_loss: 0.4404 - val_accuracy: 0.8363\n",
            "Epoch 25/30\n",
            "428/428 [==============================] - 1s 3ms/step - loss: 0.4351 - accuracy: 0.8121 - val_loss: 0.4403 - val_accuracy: 0.8336\n",
            "Epoch 26/30\n",
            "428/428 [==============================] - 1s 3ms/step - loss: 0.4350 - accuracy: 0.8121 - val_loss: 0.4378 - val_accuracy: 0.8377\n",
            "Epoch 27/30\n",
            "428/428 [==============================] - 2s 4ms/step - loss: 0.4343 - accuracy: 0.8140 - val_loss: 0.4359 - val_accuracy: 0.8377\n",
            "Epoch 28/30\n",
            "428/428 [==============================] - 2s 4ms/step - loss: 0.4336 - accuracy: 0.8132 - val_loss: 0.4344 - val_accuracy: 0.8377\n",
            "Epoch 29/30\n",
            "428/428 [==============================] - 2s 4ms/step - loss: 0.4334 - accuracy: 0.8138 - val_loss: 0.4362 - val_accuracy: 0.8308\n",
            "Epoch 30/30\n",
            "428/428 [==============================] - 1s 3ms/step - loss: 0.4330 - accuracy: 0.8138 - val_loss: 0.4351 - val_accuracy: 0.8363\n"
          ]
        },
        {
          "output_type": "execute_result",
          "data": {
            "text/plain": [
              "<keras.src.callbacks.History at 0x7d0f5916a7a0>"
            ]
          },
          "metadata": {},
          "execution_count": 157
        }
      ]
    },
    {
      "cell_type": "code",
      "source": [
        "embeddings_1 = model.layers[1].get_weights()[0]\n",
        "embeddings_2 = model.layers[3].get_weights()[0].T"
      ],
      "metadata": {
        "id": "6_qqAD397ADX"
      },
      "id": "6_qqAD397ADX",
      "execution_count": 168,
      "outputs": []
    },
    {
      "cell_type": "code",
      "source": [
        "# embeddings\n",
        "fasttext_emb = ft\n",
        "w2v_emb = w2v\n",
        "sg_emb = SG_embeddings\n",
        "cbow_emb = cbow_embeddings\n",
        "last_model_embeddings = np.mean([embeddings_1, embeddings_2], axis=0)"
      ],
      "metadata": {
        "colab": {
          "base_uri": "https://localhost:8080/"
        },
        "id": "h_i8bLcTtKNc",
        "outputId": "22c27929-305a-4b5b-fc4e-f185bcf0f08b"
      },
      "id": "h_i8bLcTtKNc",
      "execution_count": 169,
      "outputs": [
        {
          "output_type": "stream",
          "name": "stderr",
          "text": [
            "/usr/local/lib/python3.10/dist-packages/numpy/core/_methods.py:164: VisibleDeprecationWarning: Creating an ndarray from ragged nested sequences (which is a list-or-tuple of lists-or-tuples-or ndarrays with different lengths or shapes) is deprecated. If you meant to do this, you must specify 'dtype=object' when creating the ndarray.\n",
            "  arr = asanyarray(a)\n"
          ]
        }
      ]
    },
    {
      "cell_type": "code",
      "source": [
        "fasttext_embs = [word for word, prob in fasttext_emb.wv.most_similar('жизнь')]\n",
        "w2v_embs = [word for word, prob in w2v_emb.wv.most_similar('жизнь')]\n",
        "sg_embs = most_similar('жизнь', sg_emb)\n",
        "cbow_embs = most_similar('жизнь', cbow_emb)\n",
        "last_model_embs = most_similar('жизнь', last_model_embeddings)"
      ],
      "metadata": {
        "id": "9AOqiEQx2c-X"
      },
      "id": "9AOqiEQx2c-X",
      "execution_count": 177,
      "outputs": []
    },
    {
      "cell_type": "code",
      "source": [
        "pd.DataFrame({'fasttext_embs': fasttext_embs, 'w2v_embs': w2v_embs, 'sg_embs': sg_embs,\n",
        "              'cbow_embs': cbow_embs, 'last_model_embs': last_model_embs})"
      ],
      "metadata": {
        "colab": {
          "base_uri": "https://localhost:8080/",
          "height": 363
        },
        "id": "iP4B6Ui39rGt",
        "outputId": "c3794ecf-4d79-44dc-8c26-cc9b23932c79"
      },
      "id": "iP4B6Ui39rGt",
      "execution_count": 189,
      "outputs": [
        {
          "output_type": "execute_result",
          "data": {
            "text/plain": [
              "       fasttext_embs   w2v_embs          sg_embs  cbow_embs last_model_embs\n",
              "0           жизненно     любовь            жизнь      жизнь           жизнь\n",
              "1             жиздра  посвящать           весить      часть       жизненный\n",
              "2         пожизненно       жить          тронуть  подсветка         детство\n",
              "3              рознь      много         попадать      нищий      творчество\n",
              "4             боязнь     любить         конечный      блядь         чувство\n",
              "5  жизнедеятельность       ради         выливать     сатана         болезнь\n",
              "6              жизор     писать       уменьшение    палатка          любовь\n",
              "7   жизнеспособность       жена          счетчик        PAD           покой\n",
              "8          жизненный     сердце              инф   сплошной        сознание\n",
              "9             живьем        сон  ответственность         ты            душа"
            ],
            "text/html": [
              "\n",
              "  <div id=\"df-0c8d3fd6-5205-45bc-a14a-f8cb6317d4d1\" class=\"colab-df-container\">\n",
              "    <div>\n",
              "<style scoped>\n",
              "    .dataframe tbody tr th:only-of-type {\n",
              "        vertical-align: middle;\n",
              "    }\n",
              "\n",
              "    .dataframe tbody tr th {\n",
              "        vertical-align: top;\n",
              "    }\n",
              "\n",
              "    .dataframe thead th {\n",
              "        text-align: right;\n",
              "    }\n",
              "</style>\n",
              "<table border=\"1\" class=\"dataframe\">\n",
              "  <thead>\n",
              "    <tr style=\"text-align: right;\">\n",
              "      <th></th>\n",
              "      <th>fasttext_embs</th>\n",
              "      <th>w2v_embs</th>\n",
              "      <th>sg_embs</th>\n",
              "      <th>cbow_embs</th>\n",
              "      <th>last_model_embs</th>\n",
              "    </tr>\n",
              "  </thead>\n",
              "  <tbody>\n",
              "    <tr>\n",
              "      <th>0</th>\n",
              "      <td>жизненно</td>\n",
              "      <td>любовь</td>\n",
              "      <td>жизнь</td>\n",
              "      <td>жизнь</td>\n",
              "      <td>жизнь</td>\n",
              "    </tr>\n",
              "    <tr>\n",
              "      <th>1</th>\n",
              "      <td>жиздра</td>\n",
              "      <td>посвящать</td>\n",
              "      <td>весить</td>\n",
              "      <td>часть</td>\n",
              "      <td>жизненный</td>\n",
              "    </tr>\n",
              "    <tr>\n",
              "      <th>2</th>\n",
              "      <td>пожизненно</td>\n",
              "      <td>жить</td>\n",
              "      <td>тронуть</td>\n",
              "      <td>подсветка</td>\n",
              "      <td>детство</td>\n",
              "    </tr>\n",
              "    <tr>\n",
              "      <th>3</th>\n",
              "      <td>рознь</td>\n",
              "      <td>много</td>\n",
              "      <td>попадать</td>\n",
              "      <td>нищий</td>\n",
              "      <td>творчество</td>\n",
              "    </tr>\n",
              "    <tr>\n",
              "      <th>4</th>\n",
              "      <td>боязнь</td>\n",
              "      <td>любить</td>\n",
              "      <td>конечный</td>\n",
              "      <td>блядь</td>\n",
              "      <td>чувство</td>\n",
              "    </tr>\n",
              "    <tr>\n",
              "      <th>5</th>\n",
              "      <td>жизнедеятельность</td>\n",
              "      <td>ради</td>\n",
              "      <td>выливать</td>\n",
              "      <td>сатана</td>\n",
              "      <td>болезнь</td>\n",
              "    </tr>\n",
              "    <tr>\n",
              "      <th>6</th>\n",
              "      <td>жизор</td>\n",
              "      <td>писать</td>\n",
              "      <td>уменьшение</td>\n",
              "      <td>палатка</td>\n",
              "      <td>любовь</td>\n",
              "    </tr>\n",
              "    <tr>\n",
              "      <th>7</th>\n",
              "      <td>жизнеспособность</td>\n",
              "      <td>жена</td>\n",
              "      <td>счетчик</td>\n",
              "      <td>PAD</td>\n",
              "      <td>покой</td>\n",
              "    </tr>\n",
              "    <tr>\n",
              "      <th>8</th>\n",
              "      <td>жизненный</td>\n",
              "      <td>сердце</td>\n",
              "      <td>инф</td>\n",
              "      <td>сплошной</td>\n",
              "      <td>сознание</td>\n",
              "    </tr>\n",
              "    <tr>\n",
              "      <th>9</th>\n",
              "      <td>живьем</td>\n",
              "      <td>сон</td>\n",
              "      <td>ответственность</td>\n",
              "      <td>ты</td>\n",
              "      <td>душа</td>\n",
              "    </tr>\n",
              "  </tbody>\n",
              "</table>\n",
              "</div>\n",
              "    <div class=\"colab-df-buttons\">\n",
              "\n",
              "  <div class=\"colab-df-container\">\n",
              "    <button class=\"colab-df-convert\" onclick=\"convertToInteractive('df-0c8d3fd6-5205-45bc-a14a-f8cb6317d4d1')\"\n",
              "            title=\"Convert this dataframe to an interactive table.\"\n",
              "            style=\"display:none;\">\n",
              "\n",
              "  <svg xmlns=\"http://www.w3.org/2000/svg\" height=\"24px\" viewBox=\"0 -960 960 960\">\n",
              "    <path d=\"M120-120v-720h720v720H120Zm60-500h600v-160H180v160Zm220 220h160v-160H400v160Zm0 220h160v-160H400v160ZM180-400h160v-160H180v160Zm440 0h160v-160H620v160ZM180-180h160v-160H180v160Zm440 0h160v-160H620v160Z\"/>\n",
              "  </svg>\n",
              "    </button>\n",
              "\n",
              "  <style>\n",
              "    .colab-df-container {\n",
              "      display:flex;\n",
              "      gap: 12px;\n",
              "    }\n",
              "\n",
              "    .colab-df-convert {\n",
              "      background-color: #E8F0FE;\n",
              "      border: none;\n",
              "      border-radius: 50%;\n",
              "      cursor: pointer;\n",
              "      display: none;\n",
              "      fill: #1967D2;\n",
              "      height: 32px;\n",
              "      padding: 0 0 0 0;\n",
              "      width: 32px;\n",
              "    }\n",
              "\n",
              "    .colab-df-convert:hover {\n",
              "      background-color: #E2EBFA;\n",
              "      box-shadow: 0px 1px 2px rgba(60, 64, 67, 0.3), 0px 1px 3px 1px rgba(60, 64, 67, 0.15);\n",
              "      fill: #174EA6;\n",
              "    }\n",
              "\n",
              "    .colab-df-buttons div {\n",
              "      margin-bottom: 4px;\n",
              "    }\n",
              "\n",
              "    [theme=dark] .colab-df-convert {\n",
              "      background-color: #3B4455;\n",
              "      fill: #D2E3FC;\n",
              "    }\n",
              "\n",
              "    [theme=dark] .colab-df-convert:hover {\n",
              "      background-color: #434B5C;\n",
              "      box-shadow: 0px 1px 3px 1px rgba(0, 0, 0, 0.15);\n",
              "      filter: drop-shadow(0px 1px 2px rgba(0, 0, 0, 0.3));\n",
              "      fill: #FFFFFF;\n",
              "    }\n",
              "  </style>\n",
              "\n",
              "    <script>\n",
              "      const buttonEl =\n",
              "        document.querySelector('#df-0c8d3fd6-5205-45bc-a14a-f8cb6317d4d1 button.colab-df-convert');\n",
              "      buttonEl.style.display =\n",
              "        google.colab.kernel.accessAllowed ? 'block' : 'none';\n",
              "\n",
              "      async function convertToInteractive(key) {\n",
              "        const element = document.querySelector('#df-0c8d3fd6-5205-45bc-a14a-f8cb6317d4d1');\n",
              "        const dataTable =\n",
              "          await google.colab.kernel.invokeFunction('convertToInteractive',\n",
              "                                                    [key], {});\n",
              "        if (!dataTable) return;\n",
              "\n",
              "        const docLinkHtml = 'Like what you see? Visit the ' +\n",
              "          '<a target=\"_blank\" href=https://colab.research.google.com/notebooks/data_table.ipynb>data table notebook</a>'\n",
              "          + ' to learn more about interactive tables.';\n",
              "        element.innerHTML = '';\n",
              "        dataTable['output_type'] = 'display_data';\n",
              "        await google.colab.output.renderOutput(dataTable, element);\n",
              "        const docLink = document.createElement('div');\n",
              "        docLink.innerHTML = docLinkHtml;\n",
              "        element.appendChild(docLink);\n",
              "      }\n",
              "    </script>\n",
              "  </div>\n",
              "\n",
              "\n",
              "<div id=\"df-ffd1a9ef-5b74-4ad1-89ea-57ac5bfce915\">\n",
              "  <button class=\"colab-df-quickchart\" onclick=\"quickchart('df-ffd1a9ef-5b74-4ad1-89ea-57ac5bfce915')\"\n",
              "            title=\"Suggest charts\"\n",
              "            style=\"display:none;\">\n",
              "\n",
              "<svg xmlns=\"http://www.w3.org/2000/svg\" height=\"24px\"viewBox=\"0 0 24 24\"\n",
              "     width=\"24px\">\n",
              "    <g>\n",
              "        <path d=\"M19 3H5c-1.1 0-2 .9-2 2v14c0 1.1.9 2 2 2h14c1.1 0 2-.9 2-2V5c0-1.1-.9-2-2-2zM9 17H7v-7h2v7zm4 0h-2V7h2v10zm4 0h-2v-4h2v4z\"/>\n",
              "    </g>\n",
              "</svg>\n",
              "  </button>\n",
              "\n",
              "<style>\n",
              "  .colab-df-quickchart {\n",
              "      --bg-color: #E8F0FE;\n",
              "      --fill-color: #1967D2;\n",
              "      --hover-bg-color: #E2EBFA;\n",
              "      --hover-fill-color: #174EA6;\n",
              "      --disabled-fill-color: #AAA;\n",
              "      --disabled-bg-color: #DDD;\n",
              "  }\n",
              "\n",
              "  [theme=dark] .colab-df-quickchart {\n",
              "      --bg-color: #3B4455;\n",
              "      --fill-color: #D2E3FC;\n",
              "      --hover-bg-color: #434B5C;\n",
              "      --hover-fill-color: #FFFFFF;\n",
              "      --disabled-bg-color: #3B4455;\n",
              "      --disabled-fill-color: #666;\n",
              "  }\n",
              "\n",
              "  .colab-df-quickchart {\n",
              "    background-color: var(--bg-color);\n",
              "    border: none;\n",
              "    border-radius: 50%;\n",
              "    cursor: pointer;\n",
              "    display: none;\n",
              "    fill: var(--fill-color);\n",
              "    height: 32px;\n",
              "    padding: 0;\n",
              "    width: 32px;\n",
              "  }\n",
              "\n",
              "  .colab-df-quickchart:hover {\n",
              "    background-color: var(--hover-bg-color);\n",
              "    box-shadow: 0 1px 2px rgba(60, 64, 67, 0.3), 0 1px 3px 1px rgba(60, 64, 67, 0.15);\n",
              "    fill: var(--button-hover-fill-color);\n",
              "  }\n",
              "\n",
              "  .colab-df-quickchart-complete:disabled,\n",
              "  .colab-df-quickchart-complete:disabled:hover {\n",
              "    background-color: var(--disabled-bg-color);\n",
              "    fill: var(--disabled-fill-color);\n",
              "    box-shadow: none;\n",
              "  }\n",
              "\n",
              "  .colab-df-spinner {\n",
              "    border: 2px solid var(--fill-color);\n",
              "    border-color: transparent;\n",
              "    border-bottom-color: var(--fill-color);\n",
              "    animation:\n",
              "      spin 1s steps(1) infinite;\n",
              "  }\n",
              "\n",
              "  @keyframes spin {\n",
              "    0% {\n",
              "      border-color: transparent;\n",
              "      border-bottom-color: var(--fill-color);\n",
              "      border-left-color: var(--fill-color);\n",
              "    }\n",
              "    20% {\n",
              "      border-color: transparent;\n",
              "      border-left-color: var(--fill-color);\n",
              "      border-top-color: var(--fill-color);\n",
              "    }\n",
              "    30% {\n",
              "      border-color: transparent;\n",
              "      border-left-color: var(--fill-color);\n",
              "      border-top-color: var(--fill-color);\n",
              "      border-right-color: var(--fill-color);\n",
              "    }\n",
              "    40% {\n",
              "      border-color: transparent;\n",
              "      border-right-color: var(--fill-color);\n",
              "      border-top-color: var(--fill-color);\n",
              "    }\n",
              "    60% {\n",
              "      border-color: transparent;\n",
              "      border-right-color: var(--fill-color);\n",
              "    }\n",
              "    80% {\n",
              "      border-color: transparent;\n",
              "      border-right-color: var(--fill-color);\n",
              "      border-bottom-color: var(--fill-color);\n",
              "    }\n",
              "    90% {\n",
              "      border-color: transparent;\n",
              "      border-bottom-color: var(--fill-color);\n",
              "    }\n",
              "  }\n",
              "</style>\n",
              "\n",
              "  <script>\n",
              "    async function quickchart(key) {\n",
              "      const quickchartButtonEl =\n",
              "        document.querySelector('#' + key + ' button');\n",
              "      quickchartButtonEl.disabled = true;  // To prevent multiple clicks.\n",
              "      quickchartButtonEl.classList.add('colab-df-spinner');\n",
              "      try {\n",
              "        const charts = await google.colab.kernel.invokeFunction(\n",
              "            'suggestCharts', [key], {});\n",
              "      } catch (error) {\n",
              "        console.error('Error during call to suggestCharts:', error);\n",
              "      }\n",
              "      quickchartButtonEl.classList.remove('colab-df-spinner');\n",
              "      quickchartButtonEl.classList.add('colab-df-quickchart-complete');\n",
              "    }\n",
              "    (() => {\n",
              "      let quickchartButtonEl =\n",
              "        document.querySelector('#df-ffd1a9ef-5b74-4ad1-89ea-57ac5bfce915 button');\n",
              "      quickchartButtonEl.style.display =\n",
              "        google.colab.kernel.accessAllowed ? 'block' : 'none';\n",
              "    })();\n",
              "  </script>\n",
              "</div>\n",
              "    </div>\n",
              "  </div>\n"
            ]
          },
          "metadata": {},
          "execution_count": 189
        }
      ]
    }
  ],
  "metadata": {
    "kernelspec": {
      "display_name": "Python 3",
      "name": "python3"
    },
    "language_info": {
      "codemirror_mode": {
        "name": "ipython",
        "version": 3
      },
      "file_extension": ".py",
      "mimetype": "text/x-python",
      "name": "python",
      "nbconvert_exporter": "python",
      "pygments_lexer": "ipython3",
      "version": "3.9.16"
    },
    "colab": {
      "provenance": [],
      "gpuType": "T4"
    },
    "accelerator": "GPU"
  },
  "nbformat": 4,
  "nbformat_minor": 5
}
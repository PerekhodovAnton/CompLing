{
  "cells": [
    {
      "cell_type": "markdown",
      "metadata": {
        "id": "b20f786e"
      },
      "source": [
        "# Домашнее задание № 2. Мешок слов"
      ],
      "id": "b20f786e"
    },
    {
      "cell_type": "markdown",
      "metadata": {
        "id": "0cf72d19"
      },
      "source": [
        "## Задание 1 (3 балла)"
      ],
      "id": "0cf72d19"
    },
    {
      "cell_type": "markdown",
      "metadata": {
        "id": "4a045e99"
      },
      "source": [
        "У векторайзеров в sklearn есть встроенная токенизация на регулярных выражениях. Найдите способо заменить её на кастомную токенизацию"
      ],
      "id": "4a045e99"
    },
    {
      "cell_type": "markdown",
      "metadata": {
        "id": "90b4d453"
      },
      "source": [
        "Обучите векторайзер с дефолтной токенизацией и с токенизацией razdel.tokenize. Обучите классификатор (любой) с каждым из векторизаторов. Сравните метрики и выберете победителя.\n",
        "\n",
        "(в вашей тетрадке должен быть код обучения и все метрики; если вы сдаете в .py файлах то сохраните полученные метрики в отдельном файле или в комментариях)"
      ],
      "id": "90b4d453"
    },
    {
      "cell_type": "code",
      "execution_count": 52,
      "metadata": {
        "id": "129c4d2e",
        "colab": {
          "base_uri": "https://localhost:8080/",
          "height": 0
        },
        "outputId": "993ceea2-2b54-4ef9-8e6f-16c8c1177071"
      },
      "outputs": [
        {
          "output_type": "stream",
          "name": "stderr",
          "text": [
            "[nltk_data] Downloading package stopwords to /root/nltk_data...\n",
            "[nltk_data]   Package stopwords is already up-to-date!\n"
          ]
        },
        {
          "output_type": "execute_result",
          "data": {
            "text/plain": [
              "True"
            ]
          },
          "metadata": {},
          "execution_count": 52
        }
      ],
      "source": [
        "import pandas as pd\n",
        "import numpy as np\n",
        "from sklearn.neighbors import KNeighborsClassifier\n",
        "from sklearn.feature_extraction.text import CountVectorizer\n",
        "from sklearn.metrics import classification_report, accuracy_score\n",
        "from sklearn.model_selection import train_test_split\n",
        "from sklearn.linear_model import LogisticRegression\n",
        "from sklearn.feature_extraction.text import TfidfVectorizer\n",
        "import nltk\n",
        "from nltk.corpus import stopwords\n",
        "from sklearn.ensemble import RandomForestClassifier\n",
        "nltk.download('stopwords')\n"
      ],
      "id": "129c4d2e"
    },
    {
      "cell_type": "code",
      "execution_count": 2,
      "metadata": {
        "colab": {
          "base_uri": "https://localhost:8080/",
          "height": 0
        },
        "id": "isQL56trP4-B",
        "outputId": "5ece99e5-e558-4650-c224-d295f04fccd8"
      },
      "outputs": [
        {
          "output_type": "execute_result",
          "data": {
            "text/plain": [
              "array(['feature four', 'feature one', 'feature three', 'feature two',\n",
              "       'one feature', 'two feature'], dtype=object)"
            ]
          },
          "metadata": {},
          "execution_count": 2
        }
      ],
      "source": [
        "docs = [\n",
        "'feature one`feature two`feature three',\n",
        "'feature one`feature two`feature four',\n",
        "'feature one'\n",
        "]\n",
        "\n",
        "vocab = ['feature one', 'feature two', 'feature three', 'feature four']\n",
        "vec = CountVectorizer(vocabulary=vocab)\n",
        "\n",
        "# OR\n",
        "\n",
        "vec = CountVectorizer(ngram_range=(2,2))\n",
        "\n",
        "X = vec.fit_transform(docs)\n",
        "vec.get_feature_names_out()"
      ],
      "id": "isQL56trP4-B"
    },
    {
      "cell_type": "code",
      "execution_count": 3,
      "metadata": {
        "id": "b4314de5"
      },
      "outputs": [],
      "source": [
        "data = pd.read_csv('/content/labeled.csv')"
      ],
      "id": "b4314de5"
    },
    {
      "cell_type": "code",
      "execution_count": 4,
      "metadata": {
        "colab": {
          "base_uri": "https://localhost:8080/",
          "height": 363
        },
        "id": "cbffbbc7",
        "outputId": "3c0d9257-1ebf-4235-e28c-920d34446f95"
      },
      "outputs": [
        {
          "output_type": "execute_result",
          "data": {
            "text/plain": [
              "                                             comment  toxic\n",
              "0               Верблюдов-то за что? Дебилы, бл...\\n    1.0\n",
              "1  Хохлы, это отдушина затюканого россиянина, мол...    1.0\n",
              "2                          Собаке - собачья смерть\\n    1.0\n",
              "3  Страницу обнови, дебил. Это тоже не оскорблени...    1.0\n",
              "4  тебя не убедил 6-страничный пдф в том, что Скр...    1.0\n",
              "5  Для каких стан является эталоном современная с...    1.0\n",
              "6  В шапке были ссылки на инфу по текущему фильму...    0.0\n",
              "7  УПАД Т! ТАМ НЕЛЬЗЯ СТРОИТЬ! ТЕХНОЛОГИЙ НЕТ! РА...    1.0\n",
              "8                      Ебать тебя разносит, шизик.\\n    1.0\n",
              "9                          Обосрался, сиди обтекай\\n    1.0"
            ],
            "text/html": [
              "\n",
              "  <div id=\"df-8b0bd97f-7718-428a-a707-3ff2083b891d\" class=\"colab-df-container\">\n",
              "    <div>\n",
              "<style scoped>\n",
              "    .dataframe tbody tr th:only-of-type {\n",
              "        vertical-align: middle;\n",
              "    }\n",
              "\n",
              "    .dataframe tbody tr th {\n",
              "        vertical-align: top;\n",
              "    }\n",
              "\n",
              "    .dataframe thead th {\n",
              "        text-align: right;\n",
              "    }\n",
              "</style>\n",
              "<table border=\"1\" class=\"dataframe\">\n",
              "  <thead>\n",
              "    <tr style=\"text-align: right;\">\n",
              "      <th></th>\n",
              "      <th>comment</th>\n",
              "      <th>toxic</th>\n",
              "    </tr>\n",
              "  </thead>\n",
              "  <tbody>\n",
              "    <tr>\n",
              "      <th>0</th>\n",
              "      <td>Верблюдов-то за что? Дебилы, бл...\\n</td>\n",
              "      <td>1.0</td>\n",
              "    </tr>\n",
              "    <tr>\n",
              "      <th>1</th>\n",
              "      <td>Хохлы, это отдушина затюканого россиянина, мол...</td>\n",
              "      <td>1.0</td>\n",
              "    </tr>\n",
              "    <tr>\n",
              "      <th>2</th>\n",
              "      <td>Собаке - собачья смерть\\n</td>\n",
              "      <td>1.0</td>\n",
              "    </tr>\n",
              "    <tr>\n",
              "      <th>3</th>\n",
              "      <td>Страницу обнови, дебил. Это тоже не оскорблени...</td>\n",
              "      <td>1.0</td>\n",
              "    </tr>\n",
              "    <tr>\n",
              "      <th>4</th>\n",
              "      <td>тебя не убедил 6-страничный пдф в том, что Скр...</td>\n",
              "      <td>1.0</td>\n",
              "    </tr>\n",
              "    <tr>\n",
              "      <th>5</th>\n",
              "      <td>Для каких стан является эталоном современная с...</td>\n",
              "      <td>1.0</td>\n",
              "    </tr>\n",
              "    <tr>\n",
              "      <th>6</th>\n",
              "      <td>В шапке были ссылки на инфу по текущему фильму...</td>\n",
              "      <td>0.0</td>\n",
              "    </tr>\n",
              "    <tr>\n",
              "      <th>7</th>\n",
              "      <td>УПАД Т! ТАМ НЕЛЬЗЯ СТРОИТЬ! ТЕХНОЛОГИЙ НЕТ! РА...</td>\n",
              "      <td>1.0</td>\n",
              "    </tr>\n",
              "    <tr>\n",
              "      <th>8</th>\n",
              "      <td>Ебать тебя разносит, шизик.\\n</td>\n",
              "      <td>1.0</td>\n",
              "    </tr>\n",
              "    <tr>\n",
              "      <th>9</th>\n",
              "      <td>Обосрался, сиди обтекай\\n</td>\n",
              "      <td>1.0</td>\n",
              "    </tr>\n",
              "  </tbody>\n",
              "</table>\n",
              "</div>\n",
              "    <div class=\"colab-df-buttons\">\n",
              "\n",
              "  <div class=\"colab-df-container\">\n",
              "    <button class=\"colab-df-convert\" onclick=\"convertToInteractive('df-8b0bd97f-7718-428a-a707-3ff2083b891d')\"\n",
              "            title=\"Convert this dataframe to an interactive table.\"\n",
              "            style=\"display:none;\">\n",
              "\n",
              "  <svg xmlns=\"http://www.w3.org/2000/svg\" height=\"24px\" viewBox=\"0 -960 960 960\">\n",
              "    <path d=\"M120-120v-720h720v720H120Zm60-500h600v-160H180v160Zm220 220h160v-160H400v160Zm0 220h160v-160H400v160ZM180-400h160v-160H180v160Zm440 0h160v-160H620v160ZM180-180h160v-160H180v160Zm440 0h160v-160H620v160Z\"/>\n",
              "  </svg>\n",
              "    </button>\n",
              "\n",
              "  <style>\n",
              "    .colab-df-container {\n",
              "      display:flex;\n",
              "      gap: 12px;\n",
              "    }\n",
              "\n",
              "    .colab-df-convert {\n",
              "      background-color: #E8F0FE;\n",
              "      border: none;\n",
              "      border-radius: 50%;\n",
              "      cursor: pointer;\n",
              "      display: none;\n",
              "      fill: #1967D2;\n",
              "      height: 32px;\n",
              "      padding: 0 0 0 0;\n",
              "      width: 32px;\n",
              "    }\n",
              "\n",
              "    .colab-df-convert:hover {\n",
              "      background-color: #E2EBFA;\n",
              "      box-shadow: 0px 1px 2px rgba(60, 64, 67, 0.3), 0px 1px 3px 1px rgba(60, 64, 67, 0.15);\n",
              "      fill: #174EA6;\n",
              "    }\n",
              "\n",
              "    .colab-df-buttons div {\n",
              "      margin-bottom: 4px;\n",
              "    }\n",
              "\n",
              "    [theme=dark] .colab-df-convert {\n",
              "      background-color: #3B4455;\n",
              "      fill: #D2E3FC;\n",
              "    }\n",
              "\n",
              "    [theme=dark] .colab-df-convert:hover {\n",
              "      background-color: #434B5C;\n",
              "      box-shadow: 0px 1px 3px 1px rgba(0, 0, 0, 0.15);\n",
              "      filter: drop-shadow(0px 1px 2px rgba(0, 0, 0, 0.3));\n",
              "      fill: #FFFFFF;\n",
              "    }\n",
              "  </style>\n",
              "\n",
              "    <script>\n",
              "      const buttonEl =\n",
              "        document.querySelector('#df-8b0bd97f-7718-428a-a707-3ff2083b891d button.colab-df-convert');\n",
              "      buttonEl.style.display =\n",
              "        google.colab.kernel.accessAllowed ? 'block' : 'none';\n",
              "\n",
              "      async function convertToInteractive(key) {\n",
              "        const element = document.querySelector('#df-8b0bd97f-7718-428a-a707-3ff2083b891d');\n",
              "        const dataTable =\n",
              "          await google.colab.kernel.invokeFunction('convertToInteractive',\n",
              "                                                    [key], {});\n",
              "        if (!dataTable) return;\n",
              "\n",
              "        const docLinkHtml = 'Like what you see? Visit the ' +\n",
              "          '<a target=\"_blank\" href=https://colab.research.google.com/notebooks/data_table.ipynb>data table notebook</a>'\n",
              "          + ' to learn more about interactive tables.';\n",
              "        element.innerHTML = '';\n",
              "        dataTable['output_type'] = 'display_data';\n",
              "        await google.colab.output.renderOutput(dataTable, element);\n",
              "        const docLink = document.createElement('div');\n",
              "        docLink.innerHTML = docLinkHtml;\n",
              "        element.appendChild(docLink);\n",
              "      }\n",
              "    </script>\n",
              "  </div>\n",
              "\n",
              "\n",
              "<div id=\"df-280266f2-ae2b-4a24-a638-1dc227b623e1\">\n",
              "  <button class=\"colab-df-quickchart\" onclick=\"quickchart('df-280266f2-ae2b-4a24-a638-1dc227b623e1')\"\n",
              "            title=\"Suggest charts\"\n",
              "            style=\"display:none;\">\n",
              "\n",
              "<svg xmlns=\"http://www.w3.org/2000/svg\" height=\"24px\"viewBox=\"0 0 24 24\"\n",
              "     width=\"24px\">\n",
              "    <g>\n",
              "        <path d=\"M19 3H5c-1.1 0-2 .9-2 2v14c0 1.1.9 2 2 2h14c1.1 0 2-.9 2-2V5c0-1.1-.9-2-2-2zM9 17H7v-7h2v7zm4 0h-2V7h2v10zm4 0h-2v-4h2v4z\"/>\n",
              "    </g>\n",
              "</svg>\n",
              "  </button>\n",
              "\n",
              "<style>\n",
              "  .colab-df-quickchart {\n",
              "      --bg-color: #E8F0FE;\n",
              "      --fill-color: #1967D2;\n",
              "      --hover-bg-color: #E2EBFA;\n",
              "      --hover-fill-color: #174EA6;\n",
              "      --disabled-fill-color: #AAA;\n",
              "      --disabled-bg-color: #DDD;\n",
              "  }\n",
              "\n",
              "  [theme=dark] .colab-df-quickchart {\n",
              "      --bg-color: #3B4455;\n",
              "      --fill-color: #D2E3FC;\n",
              "      --hover-bg-color: #434B5C;\n",
              "      --hover-fill-color: #FFFFFF;\n",
              "      --disabled-bg-color: #3B4455;\n",
              "      --disabled-fill-color: #666;\n",
              "  }\n",
              "\n",
              "  .colab-df-quickchart {\n",
              "    background-color: var(--bg-color);\n",
              "    border: none;\n",
              "    border-radius: 50%;\n",
              "    cursor: pointer;\n",
              "    display: none;\n",
              "    fill: var(--fill-color);\n",
              "    height: 32px;\n",
              "    padding: 0;\n",
              "    width: 32px;\n",
              "  }\n",
              "\n",
              "  .colab-df-quickchart:hover {\n",
              "    background-color: var(--hover-bg-color);\n",
              "    box-shadow: 0 1px 2px rgba(60, 64, 67, 0.3), 0 1px 3px 1px rgba(60, 64, 67, 0.15);\n",
              "    fill: var(--button-hover-fill-color);\n",
              "  }\n",
              "\n",
              "  .colab-df-quickchart-complete:disabled,\n",
              "  .colab-df-quickchart-complete:disabled:hover {\n",
              "    background-color: var(--disabled-bg-color);\n",
              "    fill: var(--disabled-fill-color);\n",
              "    box-shadow: none;\n",
              "  }\n",
              "\n",
              "  .colab-df-spinner {\n",
              "    border: 2px solid var(--fill-color);\n",
              "    border-color: transparent;\n",
              "    border-bottom-color: var(--fill-color);\n",
              "    animation:\n",
              "      spin 1s steps(1) infinite;\n",
              "  }\n",
              "\n",
              "  @keyframes spin {\n",
              "    0% {\n",
              "      border-color: transparent;\n",
              "      border-bottom-color: var(--fill-color);\n",
              "      border-left-color: var(--fill-color);\n",
              "    }\n",
              "    20% {\n",
              "      border-color: transparent;\n",
              "      border-left-color: var(--fill-color);\n",
              "      border-top-color: var(--fill-color);\n",
              "    }\n",
              "    30% {\n",
              "      border-color: transparent;\n",
              "      border-left-color: var(--fill-color);\n",
              "      border-top-color: var(--fill-color);\n",
              "      border-right-color: var(--fill-color);\n",
              "    }\n",
              "    40% {\n",
              "      border-color: transparent;\n",
              "      border-right-color: var(--fill-color);\n",
              "      border-top-color: var(--fill-color);\n",
              "    }\n",
              "    60% {\n",
              "      border-color: transparent;\n",
              "      border-right-color: var(--fill-color);\n",
              "    }\n",
              "    80% {\n",
              "      border-color: transparent;\n",
              "      border-right-color: var(--fill-color);\n",
              "      border-bottom-color: var(--fill-color);\n",
              "    }\n",
              "    90% {\n",
              "      border-color: transparent;\n",
              "      border-bottom-color: var(--fill-color);\n",
              "    }\n",
              "  }\n",
              "</style>\n",
              "\n",
              "  <script>\n",
              "    async function quickchart(key) {\n",
              "      const quickchartButtonEl =\n",
              "        document.querySelector('#' + key + ' button');\n",
              "      quickchartButtonEl.disabled = true;  // To prevent multiple clicks.\n",
              "      quickchartButtonEl.classList.add('colab-df-spinner');\n",
              "      try {\n",
              "        const charts = await google.colab.kernel.invokeFunction(\n",
              "            'suggestCharts', [key], {});\n",
              "      } catch (error) {\n",
              "        console.error('Error during call to suggestCharts:', error);\n",
              "      }\n",
              "      quickchartButtonEl.classList.remove('colab-df-spinner');\n",
              "      quickchartButtonEl.classList.add('colab-df-quickchart-complete');\n",
              "    }\n",
              "    (() => {\n",
              "      let quickchartButtonEl =\n",
              "        document.querySelector('#df-280266f2-ae2b-4a24-a638-1dc227b623e1 button');\n",
              "      quickchartButtonEl.style.display =\n",
              "        google.colab.kernel.accessAllowed ? 'block' : 'none';\n",
              "    })();\n",
              "  </script>\n",
              "</div>\n",
              "    </div>\n",
              "  </div>\n"
            ]
          },
          "metadata": {},
          "execution_count": 4
        }
      ],
      "source": [
        "data.head(10)"
      ],
      "id": "cbffbbc7"
    },
    {
      "cell_type": "code",
      "execution_count": 5,
      "metadata": {
        "colab": {
          "base_uri": "https://localhost:8080/",
          "height": 0
        },
        "id": "BN79fD0xVaOe",
        "outputId": "abbcf138-ffc8-4f6e-e364-a4a3da79521d"
      },
      "outputs": [
        {
          "output_type": "stream",
          "name": "stdout",
          "text": [
            "Requirement already satisfied: razdel in /usr/local/lib/python3.10/dist-packages (0.5.0)\n"
          ]
        }
      ],
      "source": [
        "pip install razdel"
      ],
      "id": "BN79fD0xVaOe"
    },
    {
      "cell_type": "code",
      "execution_count": 6,
      "metadata": {
        "id": "1d2477b9"
      },
      "outputs": [],
      "source": [
        "from razdel import tokenize\n",
        "vectorizer_default = CountVectorizer()\n",
        "vectorizer_razdel = CountVectorizer(tokenizer=lambda text: [token.text for token in tokenize(text)])"
      ],
      "id": "1d2477b9"
    },
    {
      "cell_type": "code",
      "execution_count": 7,
      "metadata": {
        "id": "0BmjDWdVeb6d"
      },
      "outputs": [],
      "source": [
        "train, test = train_test_split(data, test_size=0.3, shuffle=True)\n",
        "train.reset_index(inplace=True)\n",
        "test.reset_index(inplace=True)"
      ],
      "id": "0BmjDWdVeb6d"
    },
    {
      "cell_type": "code",
      "execution_count": 8,
      "metadata": {
        "colab": {
          "base_uri": "https://localhost:8080/",
          "height": 0
        },
        "id": "LaazargUduNe",
        "outputId": "52a1ca52-503b-436b-80b7-fca562eb4a53"
      },
      "outputs": [
        {
          "output_type": "execute_result",
          "data": {
            "text/plain": [
              "((10088, 54407), (4324, 54407))"
            ]
          },
          "metadata": {},
          "execution_count": 8
        }
      ],
      "source": [
        "# СЧИТАЮ ДЛЯ vectorizer_default\n",
        "X_def = vectorizer_default.fit_transform(train.comment)\n",
        "X_test_def = vectorizer_default.transform(test.comment)\n",
        "\n",
        "y_def = train.toxic.values\n",
        "y_test_def = test.toxic.values\n",
        "\n",
        "X_def.shape, X_test_def.shape"
      ],
      "id": "LaazargUduNe"
    },
    {
      "cell_type": "code",
      "execution_count": 9,
      "metadata": {
        "id": "tAchIjUMjZNW"
      },
      "outputs": [],
      "source": [
        "clf = LogisticRegression(C=0.1, class_weight='balanced')\n",
        "clf.fit(X_def, y_def)\n",
        "clf.classes_\n",
        "preds = clf.predict(X_test_def)"
      ],
      "id": "tAchIjUMjZNW"
    },
    {
      "cell_type": "code",
      "execution_count": 10,
      "metadata": {
        "colab": {
          "base_uri": "https://localhost:8080/",
          "height": 0
        },
        "id": "9Ok5n-tdjoDH",
        "outputId": "3a3313e2-4ed5-4d8b-fc71-b03398adcaa3"
      },
      "outputs": [
        {
          "output_type": "stream",
          "name": "stdout",
          "text": [
            "              precision    recall  f1-score   support\n",
            "\n",
            "         0.0       0.91      0.83      0.87      2880\n",
            "         1.0       0.71      0.84      0.77      1444\n",
            "\n",
            "    accuracy                           0.83      4324\n",
            "   macro avg       0.81      0.83      0.82      4324\n",
            "weighted avg       0.84      0.83      0.83      4324\n",
            "\n"
          ]
        }
      ],
      "source": [
        "print(classification_report(y_test_def, preds, zero_division=0))"
      ],
      "id": "9Ok5n-tdjoDH"
    },
    {
      "cell_type": "code",
      "execution_count": 11,
      "metadata": {
        "colab": {
          "base_uri": "https://localhost:8080/",
          "height": 0
        },
        "id": "bV1bo6eFkH3h",
        "outputId": "cb0cec9e-3936-47f5-dc25-24c2f2d0346a"
      },
      "outputs": [
        {
          "output_type": "stream",
          "name": "stderr",
          "text": [
            "/usr/local/lib/python3.10/dist-packages/sklearn/feature_extraction/text.py:528: UserWarning: The parameter 'token_pattern' will not be used since 'tokenizer' is not None'\n",
            "  warnings.warn(\n"
          ]
        },
        {
          "output_type": "execute_result",
          "data": {
            "text/plain": [
              "((10088, 55187), (4324, 55187))"
            ]
          },
          "metadata": {},
          "execution_count": 11
        }
      ],
      "source": [
        "# СЧИТАЮ ДЛЯ vectorizer_razdel\n",
        "\n",
        "X_raz = vectorizer_razdel.fit_transform(train.comment)\n",
        "X_test_raz = vectorizer_razdel.transform(test.comment)\n",
        "\n",
        "y_raz = train.toxic.values\n",
        "y_test_raz = test.toxic.values\n",
        "\n",
        "X_raz.shape, X_test_raz.shape"
      ],
      "id": "bV1bo6eFkH3h"
    },
    {
      "cell_type": "code",
      "execution_count": null,
      "metadata": {
        "id": "pq3S1Hoenhdy"
      },
      "outputs": [],
      "source": [
        "clf = LogisticRegression(C=0.1, class_weight='balanced')\n",
        "clf.fit(X_raz, y_raz)\n",
        "clf.classes_\n",
        "preds = clf.predict(X_test_raz)"
      ],
      "id": "pq3S1Hoenhdy"
    },
    {
      "cell_type": "code",
      "execution_count": 13,
      "metadata": {
        "colab": {
          "base_uri": "https://localhost:8080/",
          "height": 0
        },
        "id": "VEPadPjInmoP",
        "outputId": "45d41b7b-4649-45c6-ebd8-a1e5101cff68"
      },
      "outputs": [
        {
          "output_type": "stream",
          "name": "stdout",
          "text": [
            "              precision    recall  f1-score   support\n",
            "\n",
            "         0.0       0.91      0.83      0.87      2880\n",
            "         1.0       0.71      0.83      0.77      1444\n",
            "\n",
            "    accuracy                           0.83      4324\n",
            "   macro avg       0.81      0.83      0.82      4324\n",
            "weighted avg       0.84      0.83      0.83      4324\n",
            "\n"
          ]
        }
      ],
      "source": [
        "print(classification_report(y_test_raz, preds, zero_division=0))\n",
        "# Вывод: примерно одинаково"
      ],
      "id": "VEPadPjInmoP"
    },
    {
      "cell_type": "markdown",
      "metadata": {
        "id": "91b9076e"
      },
      "source": [
        "## Задание 2 (3 балла)"
      ],
      "id": "91b9076e"
    },
    {
      "cell_type": "markdown",
      "metadata": {
        "id": "14e25357"
      },
      "source": [
        "Обучите 2 любых разных классификатора из семинара. Предскажите токсичность для текстов из тестовой выборки (используйте одну и ту же выборку для обоих классификаторов) и найдите 10 самых токсичных для каждого из классификаторов. Сравните получаемые тексты - какие тексты совпадают, какие отличаются, правда ли тексты токсичные?"
      ],
      "id": "14e25357"
    },
    {
      "cell_type": "markdown",
      "metadata": {
        "id": "7de962ad"
      },
      "source": [
        "Требования к моделям:   \n",
        "а) один классификатор должен использовать CountVectorizer, другой TfidfVectorizer  \n",
        "б) у векторазера должны быть вручную заданы как минимум 5 параметров (можно ставить разные параметры tfidfvectorizer и countvectorizer)  \n",
        "в) у классификатора должно быть задано вручную как минимум 2 параметра (по возможности)  \n",
        "г)  f1 мера каждого из классификаторов должна быть минимум 0.75  \n",
        "\n",
        "*random_seed не считается за параметр"
      ],
      "id": "7de962ad"
    },
    {
      "cell_type": "code",
      "execution_count": 14,
      "metadata": {
        "colab": {
          "base_uri": "https://localhost:8080/",
          "height": 0
        },
        "id": "EV7GQ4q9rOFv",
        "outputId": "7e411f23-e3fa-4903-dc3c-1a2f209ab9f2"
      },
      "outputs": [
        {
          "output_type": "stream",
          "name": "stderr",
          "text": [
            "/usr/local/lib/python3.10/dist-packages/sklearn/feature_extraction/text.py:528: UserWarning: The parameter 'token_pattern' will not be used since 'tokenizer' is not None'\n",
            "  warnings.warn(\n"
          ]
        }
      ],
      "source": [
        "# COUNT_VEC + LogReg\n",
        "\n",
        "stop = list(stopwords.words('russian'))\n",
        "\n",
        "count_vec = CountVectorizer(lowercase=True, encoding='UTF-8', min_df=1, tokenizer=lambda text: [token.text for token in tokenize(text)], stop_words=stop)\n",
        "\n",
        "X = count_vec.fit_transform(train.comment)\n",
        "X_test = count_vec.transform(test.comment)\n",
        "\n",
        "y = train.toxic.values\n",
        "y_test = test.toxic.values"
      ],
      "id": "EV7GQ4q9rOFv"
    },
    {
      "cell_type": "code",
      "execution_count": 23,
      "metadata": {
        "colab": {
          "base_uri": "https://localhost:8080/",
          "height": 0
        },
        "id": "9m4fwqRTrYiF",
        "outputId": "3e718d06-d2b7-403d-a654-a79458e4dd27"
      },
      "outputs": [
        {
          "output_type": "stream",
          "name": "stderr",
          "text": [
            "/usr/local/lib/python3.10/dist-packages/sklearn/linear_model/_sag.py:350: ConvergenceWarning: The max_iter was reached which means the coef_ did not converge\n",
            "  warnings.warn(\n"
          ]
        }
      ],
      "source": [
        "clf = LogisticRegression(C=0.5, class_weight='balanced', max_iter=100, penalty='l1', solver='saga')\n",
        "clf.fit(X, y)\n",
        "clf.classes_\n",
        "preds = clf.predict(X_test)"
      ],
      "id": "9m4fwqRTrYiF"
    },
    {
      "cell_type": "code",
      "execution_count": 24,
      "metadata": {
        "colab": {
          "base_uri": "https://localhost:8080/",
          "height": 0
        },
        "id": "kKVvq4COrolR",
        "outputId": "54a1520d-f922-4d6a-835d-9a325ee52a74"
      },
      "outputs": [
        {
          "output_type": "stream",
          "name": "stdout",
          "text": [
            "              precision    recall  f1-score   support\n",
            "\n",
            "         0.0       0.86      0.76      0.81      2880\n",
            "         1.0       0.61      0.75      0.67      1444\n",
            "\n",
            "    accuracy                           0.76      4324\n",
            "   macro avg       0.73      0.75      0.74      4324\n",
            "weighted avg       0.77      0.76      0.76      4324\n",
            "\n"
          ]
        }
      ],
      "source": [
        "print(classification_report(y_test, preds, zero_division=0))"
      ],
      "id": "kKVvq4COrolR"
    },
    {
      "cell_type": "code",
      "source": [
        "percents_top10 = list(np.sort(clf.predict_proba(X_test)[:, 1])[::-1][:10])\n",
        "indices_top10  = list(np.argsort(clf.predict_proba(X_test)[:, 1])[::-1][:10])\n",
        "top10_sents = [count_vec.inverse_transform(X_test[i]) for i in indices_top10]\n",
        "top10_sents"
      ],
      "metadata": {
        "colab": {
          "base_uri": "https://localhost:8080/",
          "height": 0
        },
        "id": "zmy_sqdOBBG7",
        "outputId": "be3754d3-dcab-48f1-f017-206d34060099"
      },
      "id": "zmy_sqdOBBG7",
      "execution_count": 25,
      "outputs": [
        {
          "output_type": "execute_result",
          "data": {
            "text/plain": [
              "[[array(['!', '(', ',', '-', '.', '00', '2', '2019', '22', '23', '25', '5',\n",
              "         '6', ':', '?', '?!', 'b', 'ch', 'd', 'hk', 'm', 'абу', 'аватарка',\n",
              "         'аватарок', 'аниме', 'анон', 'анонов', 'ахуенно', 'бан', 'банит',\n",
              "         'бля', 'блядь', 'бред', 'вебм', 'вебмки', 'видео', 'видимо', 'вне',\n",
              "         'вообще', 'вопросы', 'вроде', 'второй', 'выпей', 'выписывают',\n",
              "         'глаза', 'говоря', 'давайте', 'дал', 'данных', 'даунов', 'двач',\n",
              "         'две', 'дебилов', 'деньги', 'должности', 'друг', 'другом',\n",
              "         'ебанутые', 'единственное', 'ещё', 'желанию', 'жертвой', 'жизни',\n",
              "         'жопу', 'забанили', 'застал', 'затем', 'злоупотребления', 'значит',\n",
              "         'идти', 'изгнать', 'истекает', 'итоге', 'каких', 'какого', 'какое',\n",
              "         'капчу', 'которые', 'который', 'кстати', 'логика', 'могут',\n",
              "         'модератор', 'модератора', 'мочи', 'мочух', 'написав',\n",
              "         'немедленно', 'нему', 'несправедливый', 'никаких', 'никто',\n",
              "         'новом', 'обсуждение', 'обсуждения', 'общался', 'общее', 'одному',\n",
              "         'одну', 'остальных', 'ответов', 'отменить', 'отсюда', 'ошибка',\n",
              "         'пасскод', 'первое', 'пересмотреть', 'пиздюлей', 'писал',\n",
              "         'получаю', 'получить', 'пользователей', 'пообщатся', 'попал',\n",
              "         'попросил', 'постил', 'постинг', 'постинга', 'постить', 'посты',\n",
              "         'посчитал', 'почему', 'пошёл', 'поэтому', 'предупреждение',\n",
              "         'причина', 'причинам', 'причине', 'продолжается', 'продолжать',\n",
              "         'просто', 'прошлого', 'разной', 'речь', 'своему', 'свои',\n",
              "         'связанные', 'связи', 'сделал', 'сказал', 'скинул', 'скинуть',\n",
              "         'скоростью', 'скрин', 'собирать', 'сообщение', 'сообщения',\n",
              "         'спасибо', 'справедливые', 'стал', 'стоит', 'сумасшедший',\n",
              "         'таблетки', 'твоего', 'текста', 'тему', 'тех', 'требую', 'тред',\n",
              "         'треда', 'треде', 'удаления', 'улетел', 'херню', 'хрена', 'хуй',\n",
              "         'чатиков', 'че', 'человека', 'что-то', 'шебм', 'этим', 'это'],\n",
              "        dtype='<U67')],\n",
              " [array(['!', ',', '-', '...', '1', 'блять', 'васи', 'великий', 'вс', 'всё',\n",
              "         'добился', 'другие', 'еблан', 'жизни', 'заебали', 'какие',\n",
              "         'которым', 'меньше', 'начинают', 'обстоятельств', 'ой',\n",
              "         'появились', 'прилично', 'сами', 'сделал', 'смотрите', 'ссука',\n",
              "         'стечению', 'тему', 'устроили', 'устроится', 'фанаты', 'хер',\n",
              "         'хуже'], dtype='<U67')],\n",
              " [array(['!', ',', '.', 'бога', 'видите', 'вижу', 'говорить', 'другие',\n",
              "         'идите', 'лично', 'мимо', 'начинается', 'общество', 'одни',\n",
              "         'писать', 'приличное', 'разницы', 'руке', 'стадо', 'тебе',\n",
              "         'упоминание', 'хуй'], dtype='<U67')],\n",
              " [array(['!', 'б', 'бесплатно', 'бочку', 'видео', 'е', 'з', 'знаков',\n",
              "         'избиение', 'лайк', 'м', 'н', 'написал', 'онлайн', 'посмотрели',\n",
              "         'посмотрите', 'почку', 'сделайте', 'слышите', 'смотреть',\n",
              "         'смотрите', 'смс', 'ставьте'], dtype='<U67')],\n",
              " [array(['!', '!!!', ',', 'говно', 'говорите', 'государства', 'государство',\n",
              "         'дух', 'ебут', 'живет', 'живут', 'жопе', 'контракты', 'короче',\n",
              "         'лицо', 'любите', 'нациков', 'открыто', 'пацаны', 'подскочил',\n",
              "         'пояснил', 'прямо', 'репутацию', 'рот', 'свободы', 'сегодня',\n",
              "         'смело', 'убрать', 'увидел', 'флажком', 'хардкор', 'шел'],\n",
              "        dtype='<U67')],\n",
              " [array(['!', ',', '?', 'буду', 'весь', 'иди', 'нахуй', 'пидор', 'тебе',\n",
              "         'тред', 'читать'], dtype='<U67')],\n",
              " [array(['!', ',', '.', 'анальной', 'анальных', 'будьте', 'вами', 'вашего',\n",
              "         'вашу', 'верят', 'весь', 'видать', 'вновь', 'возвращается',\n",
              "         'время', 'встретить', 'вся', 'всякого', 'говне', 'готовиться',\n",
              "         'граждане', 'дегенерат', 'детей', 'доводить', 'доносят', 'ебало',\n",
              "         'жопу', 'злобный', 'изнасиловать', 'которого', 'кукана', 'лишь',\n",
              "         'насиловать', 'начался', 'никто', 'ночи', 'оперативные', 'отец',\n",
              "         'педераст', 'педофил', 'педофила', 'передоза', 'полиции',\n",
              "         'поступает', 'придти', 'самое', 'сатаны', 'сводки', 'сделать',\n",
              "         'северная', 'случай', 'собирается', 'стороны', 'суть', 'сына',\n",
              "         'такова', 'телефон', 'трясется', 'угрожает', 'ужаса', 'форс',\n",
              "         'часа', 'это'], dtype='<U67')],\n",
              " [array(['!', 'л', 'могут', 'нормально', 'сделать', 'строить', 'т',\n",
              "         'технологий', 'тупые'], dtype='<U67')],\n",
              " [array([',', '.', '9', '?', 'анус', 'будешь', 'восемь', 'всем', 'выпил',\n",
              "         'добавки', 'ещё', 'жизнь', 'забирать', 'зашёл', 'игорь',\n",
              "         'изнасиловал', 'класс', 'классе', 'классом', 'который', 'кругу',\n",
              "         'кружку', 'м', 'магазине', 'наложили', 'нассали', 'ненавидеть',\n",
              "         'облизнулся', 'обосрался', 'одноклассник', 'отец', 'отпиздить',\n",
              "         'поживаешь', 'получил', 'помнишь', 'попросил', 'пошёл', 'пришёл',\n",
              "         'пустили', 'рейд', 'самый', 'сказал', 'словам', 'смеяться',\n",
              "         'собаку', 'срок', 'стали', 'сырок', 'твоим', 'твой', 'тебе',\n",
              "         'третьем', 'узнал', 'украл', 'условный', 'швов', 'шизоидным'],\n",
              "        dtype='<U67')],\n",
              " [array(['!', '!!!', '!!!!', ',', ':', 'вперед', 'депутатов', 'извини',\n",
              "         'ой', 'помойку', 'пыню', 'свиньи', 'сралина'], dtype='<U67')]]"
            ]
          },
          "metadata": {},
          "execution_count": 25
        }
      ]
    },
    {
      "cell_type": "code",
      "execution_count": 26,
      "metadata": {
        "colab": {
          "base_uri": "https://localhost:8080/",
          "height": 0
        },
        "id": "eZHbJCFis6Rt",
        "outputId": "5b33c844-5d04-45ca-bc4c-7f7a4a9b64e6"
      },
      "outputs": [
        {
          "output_type": "stream",
          "name": "stderr",
          "text": [
            "/usr/local/lib/python3.10/dist-packages/sklearn/feature_extraction/text.py:528: UserWarning: The parameter 'token_pattern' will not be used since 'tokenizer' is not None'\n",
            "  warnings.warn(\n"
          ]
        },
        {
          "output_type": "execute_result",
          "data": {
            "text/plain": [
              "((10088, 55036), (4324, 55036))"
            ]
          },
          "metadata": {},
          "execution_count": 26
        }
      ],
      "source": [
        "# TF-IDF_VEC + KNN\n",
        "\n",
        "vectorizer = TfidfVectorizer(lowercase=True, encoding='UTF-8', min_df=1, tokenizer=lambda text: [token.text for token in tokenize(text)], stop_words=stop)\n",
        "\n",
        "X = vectorizer.fit_transform(train.comment)\n",
        "X_test = vectorizer.transform(test.comment)\n",
        "\n",
        "y = train.toxic.values\n",
        "y_test = test.toxic.values\n",
        "\n",
        "X.shape, X_test.shape"
      ],
      "id": "eZHbJCFis6Rt"
    },
    {
      "cell_type": "code",
      "execution_count": 27,
      "metadata": {
        "id": "potW0cjV1Cud"
      },
      "outputs": [],
      "source": [
        "clf = KNeighborsClassifier(n_neighbors=10)\n",
        "\n",
        "clf.fit(X, y)\n",
        "\n",
        "preds = clf.predict(X_test)"
      ],
      "id": "potW0cjV1Cud"
    },
    {
      "cell_type": "code",
      "execution_count": 28,
      "metadata": {
        "colab": {
          "base_uri": "https://localhost:8080/",
          "height": 0
        },
        "id": "yDzBeSVy1TTl",
        "outputId": "2615f478-c348-48b0-f147-ccc551d29119"
      },
      "outputs": [
        {
          "output_type": "stream",
          "name": "stdout",
          "text": [
            "              precision    recall  f1-score   support\n",
            "\n",
            "         0.0       0.79      0.96      0.86      2880\n",
            "         1.0       0.85      0.48      0.61      1444\n",
            "\n",
            "    accuracy                           0.80      4324\n",
            "   macro avg       0.82      0.72      0.74      4324\n",
            "weighted avg       0.81      0.80      0.78      4324\n",
            "\n"
          ]
        }
      ],
      "source": [
        "print(classification_report(y_test, preds, zero_division=0))"
      ],
      "id": "yDzBeSVy1TTl"
    },
    {
      "cell_type": "code",
      "source": [
        "percents_top10 = list(np.sort(clf.predict_proba(X_test)[:, 1])[::-1][:10])\n",
        "indices_top10  = list(np.argsort(clf.predict_proba(X_test)[:, 1])[::-1][:10])\n",
        "top10_sents = [count_vec.inverse_transform(X_test[i]) for i in indices_top10]\n",
        "top10_sents"
      ],
      "metadata": {
        "colab": {
          "base_uri": "https://localhost:8080/",
          "height": 0
        },
        "id": "FTmpvwbLEO3t",
        "outputId": "83006ef8-4d98-45c7-c098-5f717904c0a2"
      },
      "id": "FTmpvwbLEO3t",
      "execution_count": 29,
      "outputs": [
        {
          "output_type": "execute_result",
          "data": {
            "text/plain": [
              "[[array(['сука', '.'], dtype='<U67')],\n",
              " [array(['тредом', 'существу', 'политач', 'покинуть', 'пидор', 'должны',\n",
              "         'ваша', '.', ','], dtype='<U67')],\n",
              " [array(['хохлов', 'тему', 'стрелки', 'кого', 'жидов', '?', '...', ','],\n",
              "        dtype='<U67')],\n",
              " [array(['хохлов', 'хотели', 'т', 'сказал', 'реального', 'против',\n",
              "         'посадить', 'оружия', 'лднр', 'е', 'выложил', 'вместо', 'бтр', '?',\n",
              "         '.', ','], dtype='<U67')],\n",
              " [array(['явления', 'своими', 'просто', 'пидор', 'называть', 'именами',\n",
              "         'давайте', 'вещи', '...', ',', '!'], dtype='<U67')],\n",
              " [array(['просто', 'дегенерат', '.'], dtype='<U67')],\n",
              " [array(['москали', 'лице', 'кожу', 'злые', 'ебать'], dtype='<U67')],\n",
              " [array(['похуй', 'всем', '.'], dtype='<U67')],\n",
              " [array(['хохол', 'москаль', '?', ',', '!'], dtype='<U67')],\n",
              " [array(['хохлов', 'раза'], dtype='<U67')]]"
            ]
          },
          "metadata": {},
          "execution_count": 29
        }
      ]
    },
    {
      "cell_type": "code",
      "source": [
        "# Вывод: Пердложения абсолютно разные, но все являются токсичными"
      ],
      "metadata": {
        "id": "Fnywd-IiGCc0"
      },
      "id": "Fnywd-IiGCc0",
      "execution_count": null,
      "outputs": []
    },
    {
      "cell_type": "markdown",
      "metadata": {
        "id": "6f228c3e"
      },
      "source": [
        "## Задание 3 (4 балла - 1 балл за каждый классификатор)"
      ],
      "id": "6f228c3e"
    },
    {
      "cell_type": "markdown",
      "metadata": {
        "id": "566929b7"
      },
      "source": [
        "Для классификаторов Logistic Regression, Decision Trees, Naive Bayes, RandomForest найдите способ извлечь важность признаков для предсказания токсичного класса. Сопоставьте полученные числа со словами (или нграммами) в словаре и найдите топ - 5 \"токсичных\" слов для каждого из классификаторов.\n",
        "\n",
        "Важное требование: в топе не должно быть стоп-слов. Для этого вам нужно будет правильным образом настроить векторизацию.\n",
        "Также как и в предыдущем задании у классификаторов должно быть задано вручную как минимум 2 параметра (по возможности, f1 мера каждого из классификаторов должна быть минимум 0.75"
      ],
      "id": "566929b7"
    },
    {
      "cell_type": "code",
      "execution_count": 87,
      "metadata": {
        "id": "81f86878",
        "colab": {
          "base_uri": "https://localhost:8080/",
          "height": 0
        },
        "outputId": "72b9cbd6-7525-4973-aab4-0b54adeaf52d"
      },
      "outputs": [
        {
          "output_type": "stream",
          "name": "stderr",
          "text": [
            "/usr/local/lib/python3.10/dist-packages/sklearn/linear_model/_sag.py:350: ConvergenceWarning: The max_iter was reached which means the coef_ did not converge\n",
            "  warnings.warn(\n"
          ]
        }
      ],
      "source": [
        "# LogReg\n",
        "count_vec = CountVectorizer(stop_words=stop)\n",
        "\n",
        "X = count_vec.fit_transform(train.comment)\n",
        "X_test = count_vec.transform(test.comment)\n",
        "\n",
        "y = train.toxic.values\n",
        "y_test = test.toxic.values\n",
        "\n",
        "clf = LogisticRegression(C=0.5, class_weight='balanced', max_iter=10, penalty='l1', solver='saga')\n",
        "clf.fit(X, y)\n",
        "clf.classes_\n",
        "\n",
        "preds = clf.predict(X_test)"
      ],
      "id": "81f86878"
    },
    {
      "cell_type": "code",
      "source": [
        "print(classification_report(y_test, preds, zero_division=0))"
      ],
      "metadata": {
        "colab": {
          "base_uri": "https://localhost:8080/",
          "height": 0
        },
        "id": "rACOb1LWGRok",
        "outputId": "5937e774-f737-4e92-af68-c20f5caf6a6a"
      },
      "id": "rACOb1LWGRok",
      "execution_count": 88,
      "outputs": [
        {
          "output_type": "stream",
          "name": "stdout",
          "text": [
            "              precision    recall  f1-score   support\n",
            "\n",
            "         0.0       0.86      0.72      0.79      2880\n",
            "         1.0       0.58      0.77      0.66      1444\n",
            "\n",
            "    accuracy                           0.74      4324\n",
            "   macro avg       0.72      0.75      0.73      4324\n",
            "weighted avg       0.77      0.74      0.75      4324\n",
            "\n"
          ]
        }
      ]
    },
    {
      "cell_type": "code",
      "source": [
        "top_index = []\n",
        "\n",
        "for i in np.sort(clf.coef_[0])[::-1][:12]:\n",
        "  top_index.append(list(clf.coef_[0]).index(i))\n",
        "# оставим только слова (уберем \"!\" и \"?\")\n",
        "count_vec.get_feature_names_out()[top_index][2:7]"
      ],
      "metadata": {
        "colab": {
          "base_uri": "https://localhost:8080/",
          "height": 0
        },
        "id": "0SwNe2hGAU_q",
        "outputId": "08d46090-c1ce-4fba-8056-58afb48cf0f2"
      },
      "id": "0SwNe2hGAU_q",
      "execution_count": 91,
      "outputs": [
        {
          "output_type": "execute_result",
          "data": {
            "text/plain": [
              "array(['нахуй', 'хохлов', 'блядь', 'пиздец', 'хуй'], dtype=object)"
            ]
          },
          "metadata": {},
          "execution_count": 91
        }
      ]
    },
    {
      "cell_type": "code",
      "source": [
        "# KNN\n",
        "count_vec = TfidfVectorizer(stop_words=stop)\n",
        "\n",
        "X = count_vec.fit_transform(train.comment)\n",
        "X_test = count_vec.transform(test.comment)\n",
        "\n",
        "y = train.toxic.values\n",
        "y_test = test.toxic.values"
      ],
      "metadata": {
        "id": "xprXuAzEG-Ee"
      },
      "id": "xprXuAzEG-Ee",
      "execution_count": 84,
      "outputs": []
    },
    {
      "cell_type": "code",
      "source": [
        "clf = RandomForestClassifier(n_estimators=300, max_depth=500)\n",
        "\n",
        "clf.fit(X, y)\n",
        "\n",
        "preds = clf.predict(X_test)\n",
        "# если честно, то не знаю как еще улучшить f1...."
      ],
      "metadata": {
        "id": "wofhG1VgI_e1"
      },
      "id": "wofhG1VgI_e1",
      "execution_count": 92,
      "outputs": []
    },
    {
      "cell_type": "code",
      "source": [
        "print(classification_report(y_test, preds, zero_division=0))"
      ],
      "metadata": {
        "colab": {
          "base_uri": "https://localhost:8080/",
          "height": 0
        },
        "id": "SpuoJXbRHDVM",
        "outputId": "e1442116-9518-4ade-83ed-0be9a08ad62d"
      },
      "id": "SpuoJXbRHDVM",
      "execution_count": 93,
      "outputs": [
        {
          "output_type": "stream",
          "name": "stdout",
          "text": [
            "              precision    recall  f1-score   support\n",
            "\n",
            "         0.0       0.77      0.98      0.86      2880\n",
            "         1.0       0.89      0.41      0.56      1444\n",
            "\n",
            "    accuracy                           0.79      4324\n",
            "   macro avg       0.83      0.69      0.71      4324\n",
            "weighted avg       0.81      0.79      0.76      4324\n",
            "\n"
          ]
        }
      ]
    },
    {
      "cell_type": "code",
      "source": [
        "top_index = []\n",
        "\n",
        "for i in np.sort(clf.feature_importances_)[::-1][:20]:\n",
        "  top_index.append(list(clf.feature_importances_).index(i))\n",
        "count_vec.get_feature_names_out()[top_index][:5]"
      ],
      "metadata": {
        "colab": {
          "base_uri": "https://localhost:8080/",
          "height": 0
        },
        "id": "ZdnCc7uiHOvw",
        "outputId": "79d9c238-d3d4-4967-a30c-b2d595bbd06c"
      },
      "id": "ZdnCc7uiHOvw",
      "execution_count": 95,
      "outputs": [
        {
          "output_type": "execute_result",
          "data": {
            "text/plain": [
              "array(['хохлы', 'хохлов', 'тебе', 'очень', 'нахуй'], dtype=object)"
            ]
          },
          "metadata": {},
          "execution_count": 95
        }
      ]
    },
    {
      "cell_type": "code",
      "source": [],
      "metadata": {
        "id": "jM_6cHvPKXhx"
      },
      "id": "jM_6cHvPKXhx",
      "execution_count": null,
      "outputs": []
    }
  ],
  "metadata": {
    "colab": {
      "provenance": []
    },
    "kernelspec": {
      "display_name": "Python 3",
      "name": "python3"
    },
    "language_info": {
      "codemirror_mode": {
        "name": "ipython",
        "version": 3
      },
      "file_extension": ".py",
      "mimetype": "text/x-python",
      "name": "python",
      "nbconvert_exporter": "python",
      "pygments_lexer": "ipython3",
      "version": "3.9.16"
    }
  },
  "nbformat": 4,
  "nbformat_minor": 5
}